{
 "cells": [
  {
   "cell_type": "markdown",
   "metadata": {},
   "source": [
    "****\n",
    "# Import modules\n",
    "****"
   ]
  },
  {
   "cell_type": "code",
   "execution_count": 1,
   "metadata": {},
   "outputs": [],
   "source": [
    "import os\n",
    "import pandas as pd\n",
    "import numpy as np\n",
    "\n",
    "import statsmodels.formula.api as smf"
   ]
  },
  {
   "cell_type": "markdown",
   "metadata": {},
   "source": [
    "****\n",
    "# Load Data\n",
    "****"
   ]
  },
  {
   "cell_type": "code",
   "execution_count": 2,
   "metadata": {},
   "outputs": [],
   "source": [
    "file_path = \"C:\\\\Users\\\\kruu\\\\store\\\\data_LSGG\\\\\"\n",
    "\n",
    "data_LSGG = pd.read_parquet(os.path.join(file_path + \"landing_df_LSGG_with_meteo_0_of_22.parquet\"))\n",
    "\n",
    "for i in range(1, 22):\n",
    "    temp = pd.read_parquet(os.path.join(file_path + f\"landing_df_LSGG_with_meteo_{i}_of_22.parquet\"))\n",
    "    data_LSGG = pd.concat((data_LSGG, temp))\n",
    "    "
   ]
  },
  {
   "cell_type": "code",
   "execution_count": null,
   "metadata": {},
   "outputs": [],
   "source": [
    "data_LSGG[[\"avg_wind_dir\", \"avg_wind_speed\", \"avg_vis\", \"avg_temp\", \"avg_press\"]].isna().any()"
   ]
  },
  {
   "cell_type": "code",
   "execution_count": 4,
   "metadata": {},
   "outputs": [],
   "source": [
    "data_LSGG[\"nominal_distance_prop\"] = data_LSGG[\"distance\"] / data_LSGG[\"nominal_distance\"] "
   ]
  },
  {
   "cell_type": "code",
   "execution_count": 5,
   "metadata": {},
   "outputs": [],
   "source": [
    "# STAR selection for the model\n",
    "selected_stars = [\"BELU3N\", \"KINE2N\", \"AKIT3R\", \"LUSA2N\"]\n",
    "lr_data = data_LSGG.query(f\"star in {selected_stars}\")"
   ]
  },
  {
   "cell_type": "code",
   "execution_count": null,
   "metadata": {},
   "outputs": [],
   "source": [
    "# Redefinition of rush hours according to: https://www.slotcoordination.ch/public/upload/assets/875/gvas24sos.pdf?fp=1\n",
    "# 7 - 10 / 11 -13 / 14 - 17 / 20 - 21\n",
    "\n",
    "import pytz\n",
    "\n",
    "def is_rush_hour(date):\n",
    "    \n",
    "    # Extract hour everything in UTC\n",
    "    hour = date.hour\n",
    "    minute = date.minute\n",
    "    time_in_minutes = hour * 60 + minute\n",
    "    \n",
    "    if (7 * 60 <= time_in_minutes <= 10 * 60) or \\\n",
    "       (11 * 60 <= time_in_minutes <= 13 * 60) or \\\n",
    "       (14 * 60 <= time_in_minutes <= 17 * 60) or \\\n",
    "       (20 * 60 <= time_in_minutes <= 21 * 60):\n",
    "        return True\n",
    "    else:\n",
    "        return False\n",
    "\n",
    "lr_data['rush_hour'] = lr_data[\"start\"].apply(is_rush_hour)\n"
   ]
  },
  {
   "cell_type": "code",
   "execution_count": null,
   "metadata": {},
   "outputs": [],
   "source": [
    "# aircraft sizes\n",
    "\n",
    "ac_body = {\n",
    "    \"Widebody\": [\"B763\", \"A333\"],\n",
    "    \"Narrowbody\": [\"A320\", \"BCS3\", \"A20N\", \"A319\", \"BCS1\", \"A21N\", \"B738\", \"A321\"],\n",
    "    \"Regional Jet\": [\"E190\", \"CRJ9\", \"E195\", \"DH8D\"],\n",
    "    \"Business jets\": [\"PC12\", \"C56X\", \"F2TH\", \"PC24\", \"C68A\", \"E55P\"],\n",
    "}\n",
    "\n",
    "def body_type(typecode, ac_body_dict):\n",
    "    for key, value in ac_body_dict.items():\n",
    "        if typecode in value:\n",
    "            return key\n",
    "    return None\n",
    "\n",
    "lr_data[[\"body_type\"]] =  lr_data.typecode.apply(lambda x: pd.Series(body_type(x, ac_body)))"
   ]
  },
  {
   "cell_type": "markdown",
   "metadata": {},
   "source": [
    "****\n",
    "# LR Model\n",
    "****"
   ]
  },
  {
   "cell_type": "code",
   "execution_count": null,
   "metadata": {},
   "outputs": [],
   "source": [
    "boxplot = lr_data.boxplot([\"nominal_distance_prop\"], by = [\"star\"],\n",
    "                     figsize = (16, 9),\n",
    "                     vert = False,\n",
    "                     showmeans = False,\n",
    "                     notch = False,\n",
    "                     whis = (2.5,97.5))\n",
    "\n",
    "boxplot.axvline(x=1, color='darkorange', linestyle=':', linewidth=2)\n",
    "\n",
    "custom_labels = ['AKIT3R', 'BELU3N', 'KINE2N', 'LUSA2N']\n",
    "boxplot.set_yticklabels(custom_labels, fontsize=22, rotation=45)\n",
    "\n",
    "boxplot.get_figure().suptitle('')\n",
    "boxplot.set_ylabel(\"\")\n",
    "boxplot.set_title('')\n",
    "\n",
    "boxplot.set_axisbelow(True)\n",
    "boxplot.grid(True, linestyle='--', alpha=0.7)\n",
    "boxplot.spines['top'].set_visible(False)\n",
    "boxplot.spines['right'].set_visible(False)\n",
    "boxplot.spines['left'].set_visible(False)\n",
    "boxplot.spines['bottom'].set_visible(False)\n",
    "boxplot.tick_params(axis='x', which='both', length=0, labelsize=20)"
   ]
  },
  {
   "cell_type": "markdown",
   "metadata": {},
   "source": [
    "- If one were to model the categorical star variable as a fixed effect that model would assume the group means (one from each star) are independent from each other and shere the residul variance.\n",
    "- if the categorical star variable is modeled as a random effect (random intercept only) the model would assume that the star measured are a sample of a larger population of stars that has its own mean and variance "
   ]
  },
  {
   "cell_type": "markdown",
   "metadata": {},
   "source": [
    "Not completely sure about modelling with LMM. The random effect intercept (for instance), gives us a confidence interval for the intercepts of all stars. \n",
    "\n",
    "Example: we have here a variance for the intercept of 0.019 i.e. an std of 0.14. It means that at 95%, the intercept of each star is located in 0.865 +/- 3*0.14. \n",
    "\n",
    "Do we really need that ? We can just model the STAR as categorical variables and make the assumption (maybe a bit strong but anyway) that the observatiosn are independent among the different stars (the covariates affect the distance proportion equally for all stars)"
   ]
  },
  {
   "cell_type": "code",
   "execution_count": null,
   "metadata": {},
   "outputs": [],
   "source": [
    "model_lm = smf.ols(\n",
    "    \"nominal_distance_prop ~ C(star) + C(weekday) + avg_vis + avg_wind_speed + C(season) + avg_vis + avg_press + C(body_type, Treatment(reference='Narrowbody')) + C(rush_hour) + avg_temp\", \n",
    "    lr_data, \n",
    ")\n",
    "\n",
    "res_lm = model_lm.fit()\n",
    "res_lm.summary()"
   ]
  },
  {
   "cell_type": "code",
   "execution_count": null,
   "metadata": {},
   "outputs": [],
   "source": [
    "print(res_lm.summary().as_latex())"
   ]
  },
  {
   "cell_type": "code",
   "execution_count": null,
   "metadata": {},
   "outputs": [],
   "source": [
    "import matplotlib.pyplot as plt\n",
    "import numpy as np\n",
    "\n",
    "coefficients = res_lm.params\n",
    "p_values = res_lm.pvalues\n",
    "\n",
    "# features = coefficients.index  # Feature names\n",
    "features = np.array([ #Same order as coefficients.index \n",
    "    \"Intercept\", \n",
    "    \"STAR: BELU3N\",\n",
    "    \"STAR: KINE2N\",\n",
    "    \"STAR: LUSA2N\",\n",
    "    \"WEEKDAY: Tuesday\",\n",
    "    \"WEEKDAY: Wednesday\",\n",
    "    \"WEEKDAY: Thursday\",\n",
    "    \"WEEKDAY: Friday\",\n",
    "    \"WEEKDAY: Saturday\",\n",
    "    \"WEEKDAY: Sunday\",\n",
    "    \"SEASON: Spring\",\n",
    "    \"SEASON: Summer\",\n",
    "    \"SEASON: Winter\",\n",
    "    \"BODY TYPE: Business jet\",\n",
    "    \"BODY TYPE: Regional jet\",\n",
    "    \"BODY TYPE: Widebody\",\n",
    "    \"RUSH HOUR: True\",\n",
    "    \"Visibility\",\n",
    "    \"Wind speed\",\n",
    "    \"Pressure\",\n",
    "    \"Temperature\",\n",
    "])\n",
    "importance = coefficients.values  # Absolute coefficients to represent feature importance\n",
    "\n",
    "indices = np.argsort(importance)\n",
    "\n",
    "bar_color = 'steelblue'\n",
    "\n",
    "def significance_stars(p_value):\n",
    "    if p_value <= 0.01:\n",
    "        return '***'\n",
    "    elif p_value <= 0.05:\n",
    "        return '**'\n",
    "    elif p_value <= 0.10:\n",
    "        return '*'\n",
    "    else:\n",
    "        return ''\n",
    "\n",
    "plt.figure(figsize=(12, 8))\n",
    "plt.barh(range(len(importance)), importance[indices], align='center', color=bar_color)\n",
    "\n",
    "for i in range(len(importance)):\n",
    "    pvalue = significance_stars(p_values[indices][i])\n",
    "    if p_values[indices][i] < 0.05: \n",
    "        if importance[indices][i] > 0:\n",
    "            plt.text(importance[indices][i] * 1.01, i, f'{np.round(importance[indices][i],4)}{pvalue}', va='center', fontsize=10)\n",
    "        else:\n",
    "            plt.text(0.001, i, f'{np.round(importance[indices][i],4)}{pvalue}', va='center', fontsize=10)\n",
    "        \n",
    "\n",
    "y_labels = plt.yticks(range(len(importance)), features[indices], fontsize=11)\n",
    "for i in range(len(importance)):\n",
    "    if p_values[indices][i] > 0.05:\n",
    "        y_labels[1][i].set_color('firebrick')\n",
    "\n",
    "ax = plt.gca()\n",
    "ax.grid(True, axis='y', linestyle='--', alpha=0.7)\n",
    "ax.set_axisbelow(True)\n",
    "ax.spines['top'].set_visible(False)\n",
    "ax.spines['right'].set_visible(False)\n",
    "ax.spines['left'].set_visible(True)\n",
    "ax.spines['bottom'].set_visible(True)\n",
    "ax.tick_params(axis='y', which='both', length=0)\n",
    "\n",
    "plt.xlabel('Coefficient Magnitude', fontsize=14, labelpad=10)\n",
    "plt.title('Feature Importance for LSGG with Significance Levels', fontsize=16, pad=15)\n",
    "plt.tight_layout()\n",
    "plt.show()\n"
   ]
  },
  {
   "cell_type": "markdown",
   "metadata": {},
   "source": [
    "****\n",
    "# Linear mixed model\n",
    "****"
   ]
  },
  {
   "cell_type": "code",
   "execution_count": null,
   "metadata": {},
   "outputs": [],
   "source": [
    "# The effect of these predictors is assumed to be constant across all observations.\n",
    "fixed_effect = \"nominal_distance_prop ~ C(body_type, Treatment(reference='Narrowbody')) + C(weekday) + avg_vis + avg_wind_speed + avg_press + rush_hour\" \n",
    "\n",
    "# Randome effect at STAR level\n",
    "random_effect = \"~ avg_vis + avg_wind_speed + C(weekday)\"\n",
    "\n",
    "model_mixed = smf.mixedlm(\n",
    "    fixed_effect, \n",
    "    lr_data,\n",
    "    groups = \"star\", \n",
    "    re_formula=random_effect\n",
    ")\n",
    "\n",
    "res_mixedlm = model_mixed.fit()\n",
    "res_mixedlm.summary()"
   ]
  },
  {
   "cell_type": "markdown",
   "metadata": {},
   "source": [
    "Random intercept model:\n",
    "- Variance accross stars = 0.209 (std = sqrt(0.209) = 0.457). This is the variation of the intercept accross stars. On average, the proportion vary about 45 % accross the stars under investigation. I guess here it's a bit meaningless as we don't consider that the 4 stars are among a bigger pool of stars. What we want is the exact variations from one star to another, which is given by the regular linear regression. \n",
    "- There is no mixed effect for the avg_vis and the avg_wind speed, meaning that those factors are only fixed effect. It is nice to mention. Basically, it means that across the 4 stars under investigation, "
   ]
  },
  {
   "cell_type": "code",
   "execution_count": null,
   "metadata": {},
   "outputs": [],
   "source": [
    "import seaborn as sns\n",
    "import matplotlib.pyplot as plt\n",
    "import scipy.stats as stats\n",
    "import statsmodels.api as sm\n",
    "\n",
    "fig, (ax1, ax2) = plt.subplots(1, 2, figsize = (16, 6))\n",
    "\n",
    "sns.distplot(res_lm.resid, hist = False, kde_kws = {\"shade\" : True, \"lw\": 1}, fit = stats.norm, ax = ax1)\n",
    "ax1.set_title(\"KDE Plot of Model Residuals (Blue) and Normal Distribution (Black)\")\n",
    "ax1.set_xlabel(\"Residuals\")\n",
    "\n",
    "sm.qqplot(res_lm.resid, dist = stats.norm, line = 's', ax = ax2)\n",
    "ax2.set_title(\"Q-Q Plot\")\n",
    "\n",
    "# Null hypothesis rejected = normality of the residuals violated\n",
    "labels = [\"Statistic\", \"p-value\"]\n",
    "norm_res = stats.shapiro(res_lm.resid)\n",
    "for key, val in dict(zip(labels, norm_res)).items():\n",
    "    print(key, val)"
   ]
  },
  {
   "cell_type": "code",
   "execution_count": null,
   "metadata": {},
   "outputs": [],
   "source": [
    "from statsmodels.stats.diagnostic import het_white\n",
    "\n",
    "fig = plt.figure(figsize = (16, 9))\n",
    "\n",
    "ax = sns.boxplot(x = res_lm.model.groups, y = res_lm.resid)\n",
    "\n",
    "ax.set_title(\"Distribution of Residuals per STAR\")\n",
    "ax.set_ylabel(\"Residuals\")\n",
    "ax.set_xlabel(\"STAR\")\n",
    "\n",
    "# Null hypothesis rejected: homoskedasticity of the variance is violated\n",
    "het_white_res = het_white(res_lm.resid, res_lm.model.exog)\n",
    "labels = [\"LM Statistic\", \"LM-Test p-value\", \"F-Statistic\", \"F-Test p-value\"]\n",
    "for key, val in dict(zip(labels, het_white_res)).items():\n",
    "    print(key, val)"
   ]
  }
 ],
 "metadata": {
  "kernelspec": {
   "display_name": ".venv",
   "language": "python",
   "name": "python3"
  },
  "language_info": {
   "codemirror_mode": {
    "name": "ipython",
    "version": 3
   },
   "file_extension": ".py",
   "mimetype": "text/x-python",
   "name": "python",
   "nbconvert_exporter": "python",
   "pygments_lexer": "ipython3",
   "version": "3.12.3"
  }
 },
 "nbformat": 4,
 "nbformat_minor": 2
}
