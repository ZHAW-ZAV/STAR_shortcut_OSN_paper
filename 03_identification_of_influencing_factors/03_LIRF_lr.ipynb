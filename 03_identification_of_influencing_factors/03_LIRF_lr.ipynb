{
 "cells": [
  {
   "cell_type": "markdown",
   "metadata": {},
   "source": [
    "****\n",
    "# Import modules\n",
    "****"
   ]
  },
  {
   "cell_type": "code",
   "execution_count": 1,
   "metadata": {},
   "outputs": [],
   "source": [
    "import os\n",
    "import pandas as pd\n",
    "import numpy as np\n",
    "\n",
    "import statsmodels.formula.api as smf"
   ]
  },
  {
   "cell_type": "markdown",
   "metadata": {},
   "source": [
    "****\n",
    "# Load Data\n",
    "****"
   ]
  },
  {
   "cell_type": "code",
   "execution_count": 2,
   "metadata": {},
   "outputs": [],
   "source": [
    "# file_path = \"C:\\\\Users\\\\kruu\\\\store\\\\data_LIRF\\\\\"\n",
    "file_path = \"C:\\\\Users\\\\kruu\\\\store\\\\test_LIRF\\\\\"\n",
    "\n",
    "filenames = next(os.walk(file_path), (None, None, []))[2]\n",
    "\n",
    "data_LIRF = pd.read_parquet(os.path.join(file_path +filenames[0]))\n",
    "\n",
    "for path in filenames[1:]:\n",
    "    temp = pd.read_parquet(os.path.join(file_path + path))\n",
    "    data_LIRF = pd.concat((data_LIRF, temp))"
   ]
  },
  {
   "cell_type": "code",
   "execution_count": 3,
   "metadata": {},
   "outputs": [],
   "source": [
    "#Chack any missing data\n",
    "data_LIRF[[\"avg_wind_dir\", \"avg_wind_speed\", \"avg_vis\", \"avg_temp\", \"avg_press\"]].isna().any()\n",
    "\n",
    "#droping missing values if needed\n",
    "data_LIRF = data_LIRF.dropna()"
   ]
  },
  {
   "cell_type": "markdown",
   "metadata": {},
   "source": [
    "****\n",
    "# LR Model\n",
    "****"
   ]
  },
  {
   "cell_type": "code",
   "execution_count": null,
   "metadata": {},
   "outputs": [],
   "source": [
    "model_lm = smf.ols(\n",
    "    \"nominal_distance_prop ~ C(star) + C(weekday) + avg_vis + avg_wind_speed + C(season) + avg_vis + avg_press + C(body_type, Treatment(reference='Narrowbody')) + C(rush_hour) + avg_temp\", \n",
    "    data_LIRF, \n",
    ")\n",
    "\n",
    "res_lm = model_lm.fit()\n",
    "res_lm.summary()"
   ]
  },
  {
   "cell_type": "markdown",
   "metadata": {},
   "source": [
    "****\n",
    "# Plots\n",
    "****"
   ]
  },
  {
   "cell_type": "code",
   "execution_count": null,
   "metadata": {},
   "outputs": [],
   "source": [
    "boxplot = data_LIRF.boxplot([\"nominal_distance_prop\"], by = [\"star\"],\n",
    "                     figsize = (16, 9),\n",
    "                     vert = False,\n",
    "                     showmeans = False,\n",
    "                     notch = False,\n",
    "                     whis = (2.5,97.5))\n",
    "\n",
    "boxplot.axvline(x=1, color='darkorange', linestyle=':', linewidth=2)\n",
    "\n",
    "custom_labels = ['ELKA2A', 'LAT2C', 'RITE2A', 'VALM2C']\n",
    "boxplot.set_yticklabels(custom_labels, fontsize=22, rotation=45)\n",
    "\n",
    "boxplot.get_figure().suptitle('')\n",
    "boxplot.set_ylabel(\"\")\n",
    "boxplot.set_title('')\n",
    "\n",
    "boxplot.set_axisbelow(True)\n",
    "boxplot.grid(True, linestyle='--', alpha=0.7)\n",
    "boxplot.spines['top'].set_visible(False)\n",
    "boxplot.spines['right'].set_visible(False)\n",
    "boxplot.spines['left'].set_visible(False)\n",
    "boxplot.spines['bottom'].set_visible(False)\n",
    "boxplot.tick_params(axis='x', which='both', length=0, labelsize=20)"
   ]
  },
  {
   "cell_type": "code",
   "execution_count": null,
   "metadata": {},
   "outputs": [],
   "source": [
    "import matplotlib.pyplot as plt\n",
    "import numpy as np\n",
    "\n",
    "coefficients = res_lm.params\n",
    "p_values = res_lm.pvalues\n",
    "\n",
    "# features = coefficients.index  # Feature names\n",
    "features = np.array([ #Same order as coefficients.index \n",
    "    \"Intercept\", \n",
    "    \"STAR: LAT2C\",\n",
    "    \"STAR: RITE2A\",\n",
    "    \"STAR: VALM2C\",\n",
    "    \"WEEKDAY: Tuesday\",\n",
    "    \"WEEKDAY: Wednesday\",\n",
    "    \"WEEKDAY: Thursday\",\n",
    "    \"WEEKDAY: Friday\",\n",
    "    \"WEEKDAY: Saturday\",\n",
    "    \"WEEKDAY: Sunday\",\n",
    "    \"SEASON: Spring\",\n",
    "    \"SEASON: Summer\",\n",
    "    \"SEASON: Winter\",\n",
    "    \"BODY TYPE: Widebody\",\n",
    "    \"RUSH HOUR: True\",\n",
    "    \"Visibility\",\n",
    "    \"Wind speed\",\n",
    "    \"Pressure\",\n",
    "    \"Temperature\",\n",
    "])\n",
    "importance = coefficients.values  # Absolute coefficients to represent feature importance\n",
    "\n",
    "indices = np.argsort(importance)\n",
    "\n",
    "bar_color = 'steelblue'\n",
    "\n",
    "def significance_stars(p_value):\n",
    "    if p_value <= 0.01:\n",
    "        return '***'\n",
    "    elif p_value <= 0.05:\n",
    "        return '**'\n",
    "    elif p_value <= 0.10:\n",
    "        return '*'\n",
    "    else:\n",
    "        return ''\n",
    "\n",
    "plt.figure(figsize=(12, 8))\n",
    "plt.barh(range(len(importance)), importance[indices], align='center', color=bar_color)\n",
    "\n",
    "# Add significance stars and values\n",
    "for i in range(len(importance)):\n",
    "    pvalue = significance_stars(p_values[indices][i])\n",
    "    if p_values[indices][i] < 0.05: \n",
    "        if importance[indices][i] > 0:\n",
    "            plt.text(importance[indices][i] * 1.01, i, f'{np.round(importance[indices][i],3)}{pvalue}', va='center', fontsize=14)\n",
    "        else:\n",
    "            plt.text(0.001, i, f'{np.round(importance[indices][i],3)}{pvalue}', va='center', fontsize=14)\n",
    "        \n",
    "# Set y-ticks and color them based on significance\n",
    "y_labels = plt.yticks(range(len(importance)), features[indices], fontsize=16)\n",
    "for i in range(len(importance)):\n",
    "    if p_values[indices][i] > 0.05:\n",
    "        y_labels[1][i].set_color('firebrick')\n",
    "\n",
    "# Center the zero point in the x-axis\n",
    "max_abs_importance = max(abs(importance))  # Get the maximum absolute value of the importance scores\n",
    "ax = plt.gca()\n",
    "ax.set_xlim(-max_abs_importance, max_abs_importance)  # Set symmetric x-limits\n",
    "ax.grid(True, axis='y', linestyle='--', alpha=0.7)\n",
    "ax.set_axisbelow(True)\n",
    "ax.spines['top'].set_visible(False)\n",
    "ax.spines['right'].set_visible(False)\n",
    "ax.spines['left'].set_visible(False)\n",
    "ax.spines['bottom'].set_visible(False)\n",
    "ax.tick_params(axis='y', which='both', length=0)\n",
    "plt.tick_params(axis='x', which='both', bottom=False, top=False, labelbottom=False) \n",
    "plt.xlabel('')\n",
    "plt.title('')\n",
    "plt.tight_layout()\n",
    "plt.show()\n"
   ]
  }
 ],
 "metadata": {
  "kernelspec": {
   "display_name": ".venv",
   "language": "python",
   "name": "python3"
  },
  "language_info": {
   "codemirror_mode": {
    "name": "ipython",
    "version": 3
   },
   "file_extension": ".py",
   "mimetype": "text/x-python",
   "name": "python",
   "nbconvert_exporter": "python",
   "pygments_lexer": "ipython3",
   "version": "3.12.3"
  }
 },
 "nbformat": 4,
 "nbformat_minor": 2
}
