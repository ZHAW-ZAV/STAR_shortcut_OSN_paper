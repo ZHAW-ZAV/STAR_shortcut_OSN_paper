{
 "cells": [
  {
   "cell_type": "markdown",
   "metadata": {},
   "source": [
    "****\n",
    "# Import modules\n",
    "****"
   ]
  },
  {
   "cell_type": "code",
   "execution_count": 1,
   "metadata": {},
   "outputs": [],
   "source": [
    "import os\n",
    "import pandas as pd\n",
    "import numpy as np\n",
    "\n",
    "import statsmodels.formula.api as smf"
   ]
  },
  {
   "cell_type": "markdown",
   "metadata": {},
   "source": [
    "****\n",
    "# Load Data\n",
    "****"
   ]
  },
  {
   "cell_type": "code",
   "execution_count": 2,
   "metadata": {},
   "outputs": [],
   "source": [
    "file_path = \"C:\\\\Users\\\\kruu\\\\store\\\\data_EDDM\\\\\"\n",
    "\n",
    "data_EDDM = pd.read_parquet(os.path.join(file_path + \"landing_df_EDDM_with_meteo_0_of_9.parquet\"))\n",
    "\n",
    "for i in range(1, 10):\n",
    "    temp = pd.read_parquet(os.path.join(file_path + f\"landing_df_EDDM_with_meteo_{i}_of_9.parquet\"))\n",
    "    data_EDDM = pd.concat((data_EDDM, temp))"
   ]
  },
  {
   "cell_type": "code",
   "execution_count": null,
   "metadata": {},
   "outputs": [],
   "source": [
    "data_EDDM[[\"avg_wind_dir\", \"avg_wind_speed\", \"avg_vis\", \"avg_temp\", \"avg_press\"]].isna().any()"
   ]
  },
  {
   "cell_type": "code",
   "execution_count": 4,
   "metadata": {},
   "outputs": [],
   "source": [
    "# Redefine Rush hours as they were in UTC\n",
    "\n",
    "def is_rush_hour(date): #based on hourly count bar plot: data_EDDM_reduced.groupby(\"hour\").id.count().plot(kind=\"bar\")\n",
    "    \n",
    "    # Extract hour\n",
    "    hour = date.hour\n",
    "    minute = date.minute\n",
    "    time_in_minutes = hour * 60 + minute\n",
    "    \n",
    "    if (5 * 60 <= time_in_minutes <= 6 * 60) or \\\n",
    "       (7 * 60 <= time_in_minutes <= 9 * 60) or \\\n",
    "       (11 * 60 <= time_in_minutes <= 14 * 60) or \\\n",
    "       (16 * 60 <= time_in_minutes <= 20 * 60):\n",
    "        return True\n",
    "    else:\n",
    "        return False\n",
    "\n",
    "data_EDDM['rush_hour'] = data_EDDM[\"start\"].apply(is_rush_hour)"
   ]
  },
  {
   "cell_type": "code",
   "execution_count": 5,
   "metadata": {},
   "outputs": [],
   "source": [
    "data_EDDM[\"nominal_distance_prop\"] = data_EDDM[\"distance\"] / data_EDDM[\"nominal_distance\"] "
   ]
  },
  {
   "cell_type": "markdown",
   "metadata": {},
   "source": [
    "****\n",
    "# LR Model\n",
    "****"
   ]
  },
  {
   "cell_type": "code",
   "execution_count": null,
   "metadata": {},
   "outputs": [],
   "source": [
    "boxplot = data_EDDM.boxplot([\"nominal_distance_prop\"], by = [\"star\"],\n",
    "                     figsize = (16, 9),\n",
    "                     vert = False,\n",
    "                     showmeans = False,\n",
    "                     notch = False,\n",
    "                     whis = (2.5,97.5))\n",
    "\n",
    "boxplot.axvline(x=1, color='darkorange', linestyle=':', linewidth=2)\n",
    "\n",
    "custom_labels = ['BETO1A', 'LAND1B', 'NAPS1B', 'ROKI1A'] #MAYBE IN WRONG ORDER\n",
    "boxplot.set_yticklabels(custom_labels, fontsize=22, rotation=45)\n",
    "\n",
    "boxplot.get_figure().suptitle('')\n",
    "boxplot.set_ylabel(\"\")\n",
    "boxplot.set_title('')\n",
    "\n",
    "boxplot.set_axisbelow(True)\n",
    "boxplot.grid(True, linestyle='--', alpha=0.7)\n",
    "boxplot.spines['top'].set_visible(False)\n",
    "boxplot.spines['right'].set_visible(False)\n",
    "boxplot.spines['left'].set_visible(False)\n",
    "boxplot.spines['bottom'].set_visible(False)\n",
    "boxplot.tick_params(axis='x', which='both', length=0, labelsize=20)"
   ]
  },
  {
   "cell_type": "code",
   "execution_count": null,
   "metadata": {},
   "outputs": [],
   "source": [
    "model_lm = smf.ols(\n",
    "    \"nominal_distance_prop ~ C(star) + C(weekday) + avg_vis + avg_wind_speed + C(season) + avg_vis + avg_press + C(body_type, Treatment(reference='Narrowbody')) + C(rush_hour) + avg_temp\", \n",
    "    data_EDDM, \n",
    ")\n",
    "\n",
    "res_lm = model_lm.fit()\n",
    "res_lm.summary()"
   ]
  },
  {
   "cell_type": "code",
   "execution_count": null,
   "metadata": {},
   "outputs": [],
   "source": [
    "import matplotlib.pyplot as plt\n",
    "import numpy as np\n",
    "\n",
    "coefficients = res_lm.params\n",
    "p_values = res_lm.pvalues\n",
    "\n",
    "# features = coefficients.index  # Feature names\n",
    "features = np.array([ #Same order as coefficients.index \n",
    "    \"Intercept\", \n",
    "    \"STAR: LAND1B\",\n",
    "    \"STAR: NAPS1B\",\n",
    "    \"STAR: ROKIT1A\",\n",
    "    \"WEEKDAY: Tuesday\",\n",
    "    \"WEEKDAY: Wednesday\",\n",
    "    \"WEEKDAY: Thursday\",\n",
    "    \"WEEKDAY: Friday\",\n",
    "    \"WEEKDAY: Saturday\",\n",
    "    \"WEEKDAY: Sunday\",\n",
    "    \"SEASON: Spring\",\n",
    "    \"SEASON: Summer\",\n",
    "    \"SEASON: Winter\",\n",
    "    \"BODY TYPE: Regional jet\",\n",
    "    \"RUSH HOUR: True\",\n",
    "    \"Visibility\",\n",
    "    \"Wind speed\",\n",
    "    \"Pressure\",\n",
    "    \"Temperature\",\n",
    "])\n",
    "importance = coefficients.values  # Absolute coefficients to represent feature importance\n",
    "\n",
    "indices = np.argsort(importance)\n",
    "\n",
    "bar_color = 'steelblue'\n",
    "\n",
    "def significance_stars(p_value):\n",
    "    if p_value <= 0.01:\n",
    "        return '***'\n",
    "    elif p_value <= 0.05:\n",
    "        return '**'\n",
    "    elif p_value <= 0.10:\n",
    "        return '*'\n",
    "    else:\n",
    "        return ''\n",
    "\n",
    "plt.figure(figsize=(12, 8))\n",
    "plt.barh(range(len(importance)), importance[indices], align='center', color=bar_color)\n",
    "\n",
    "for i in range(len(importance)):\n",
    "    pvalue = significance_stars(p_values[indices][i])\n",
    "    if p_values[indices][i] < 0.05: \n",
    "        if importance[indices][i] > 0:\n",
    "            plt.text(importance[indices][i] * 1.01, i, f'{np.round(importance[indices][i],4)}{pvalue}', va='center', fontsize=10)\n",
    "        else:\n",
    "            plt.text(0.001, i, f'{np.round(importance[indices][i],4)}{pvalue}', va='center', fontsize=10)\n",
    "        \n",
    "\n",
    "y_labels = plt.yticks(range(len(importance)), features[indices], fontsize=11)\n",
    "for i in range(len(importance)):\n",
    "    if p_values[indices][i] > 0.05:\n",
    "        y_labels[1][i].set_color('firebrick')\n",
    "\n",
    "ax = plt.gca()\n",
    "ax.grid(True, axis='y', linestyle='--', alpha=0.7)\n",
    "ax.set_axisbelow(True)\n",
    "ax.spines['top'].set_visible(False)\n",
    "ax.spines['right'].set_visible(False)\n",
    "ax.spines['left'].set_visible(True)\n",
    "ax.spines['bottom'].set_visible(True)\n",
    "ax.tick_params(axis='y', which='both', length=0)\n",
    "\n",
    "plt.xlabel('Coefficient Magnitude', fontsize=14, labelpad=10)\n",
    "plt.title('Feature Importance for EDDM with Significance Levels', fontsize=16, pad=15)\n",
    "plt.tight_layout()\n",
    "plt.show()"
   ]
  }
 ],
 "metadata": {
  "kernelspec": {
   "display_name": ".venv",
   "language": "python",
   "name": "python3"
  },
  "language_info": {
   "codemirror_mode": {
    "name": "ipython",
    "version": 3
   },
   "file_extension": ".py",
   "mimetype": "text/x-python",
   "name": "python",
   "nbconvert_exporter": "python",
   "pygments_lexer": "ipython3",
   "version": "3.12.3"
  }
 },
 "nbformat": 4,
 "nbformat_minor": 2
}
