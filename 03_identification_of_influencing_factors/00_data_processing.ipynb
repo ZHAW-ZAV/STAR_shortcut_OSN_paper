{
 "cells": [
  {
   "cell_type": "code",
   "execution_count": null,
   "metadata": {},
   "outputs": [],
   "source": [
    "import os\n",
    "import pandas as pd\n",
    "import numpy as np\n",
    "\n",
    "os.chdir(\"..\")\n",
    "from utils import featuresfunctions"
   ]
  },
  {
   "cell_type": "markdown",
   "metadata": {},
   "source": [
    "****\n",
    "# EDDM\n",
    "****"
   ]
  },
  {
   "cell_type": "code",
   "execution_count": 7,
   "metadata": {},
   "outputs": [],
   "source": [
    "file_path = \"C:\\\\Users\\\\kruu\\\\store\\\\\"\n",
    "data_EDDM = pd.read_parquet(os.path.join(file_path + \"\\\\data_EDDM\\\\landing_df_EDDM.parquet\"))"
   ]
  },
  {
   "cell_type": "code",
   "execution_count": null,
   "metadata": {},
   "outputs": [],
   "source": [
    "#Typecode selection: only the ones that land more than 400 times a year\n",
    "\n",
    "typecode_list = data_EDDM.typecode.value_counts()[data_EDDM.typecode.value_counts() > 400].index.tolist()\n",
    "data_EDDM_reduced = data_EDDM.query(f\"typecode in {typecode_list}\")\n",
    "\n",
    "print(f\"typecode proportion: {len(typecode_list) / data_EDDM.typecode.nunique()}\")\n",
    "print(f\"Flight proportion: {len(data_EDDM_reduced) / len(data_EDDM)} \")"
   ]
  },
  {
   "cell_type": "code",
   "execution_count": null,
   "metadata": {},
   "outputs": [],
   "source": [
    "#Number of flight that are in flight simultaneously\n",
    "\n",
    "start_matrix = data_EDDM_reduced['start'].values[:, np.newaxis]\n",
    "stop_matrix = data_EDDM_reduced['stop'].values[:, np.newaxis]\n",
    "\n",
    "# Find overlaps: (start1 <= stop2) & (stop1 >= start2)\n",
    "overlap_matrix = (start_matrix <= stop_matrix.T) & (stop_matrix >= start_matrix.T)\n",
    "\n",
    "# Count the number of overlaps for each row\n",
    "data_EDDM_reduced['nb_aircraft'] = overlap_matrix.sum(axis=1)"
   ]
  },
  {
   "cell_type": "code",
   "execution_count": null,
   "metadata": {},
   "outputs": [],
   "source": [
    "# aircraft bodytype identification\n",
    "data_EDDM_reduced[[\"body_type\"]] =  data_EDDM_reduced.typecode.apply(lambda x: pd.Series(featuresfunctions.body_type(x)))"
   ]
  },
  {
   "cell_type": "code",
   "execution_count": null,
   "metadata": {},
   "outputs": [],
   "source": [
    "# Seasonal features creation\n",
    "\n",
    "data_EDDM_reduced[\"month\"] = pd.DatetimeIndex(data_EDDM_reduced.start).month.astype('category')\n",
    "data_EDDM_reduced[\"hour\"] = pd.DatetimeIndex(data_EDDM_reduced.start).hour.astype('category')\n",
    "data_EDDM_reduced[\"day\"] = pd.DatetimeIndex(data_EDDM_reduced.start).day.astype('category')\n",
    "data_EDDM_reduced[\"weekday\"] = pd.DatetimeIndex(data_EDDM_reduced.start).weekday.astype('category')\n",
    "    \n",
    "data_EDDM_reduced['season'] = data_EDDM_reduced['start'].apply(featuresfunctions.get_season)\n",
    "\n",
    "data_EDDM_reduced['rush_hour'] = data_EDDM_reduced[\"start\"].apply(featuresfunctions.is_rush_hour_EDDM)"
   ]
  },
  {
   "cell_type": "code",
   "execution_count": null,
   "metadata": {},
   "outputs": [],
   "source": [
    "# Calculation of the target variable: ratio between the flown distance and the nominal distance of the STAR\n",
    "\n",
    "star_len_eddm = {\n",
    "    \"NAPS1B\": 61.9,\n",
    "    \"LAND1B\": 74.8,\n",
    "    \"ROKI1A\": 52.3,\n",
    "    \"BETO1A\": 61.3,\n",
    "}\n",
    "\n",
    "data_EDDM_reduced[\"nominal_distance\"] = data_EDDM_reduced.star.apply(lambda x: star_len_eddm[x])\n",
    "data_EDDM_reduced[\"nominal_distance_prop\"] = data_EDDM_reduced[\"distance\"] / data_EDDM_reduced[\"nominal_distance\"] \n"
   ]
  },
  {
   "cell_type": "code",
   "execution_count": null,
   "metadata": {},
   "outputs": [],
   "source": [
    "# Meteo Data\n",
    "import tqdm\n",
    "\n",
    "file_path_save = \"C:\\\\Users\\\\kruu\\\\store\\\\data_EDDM\"\n",
    "\n",
    "batch_size = 1000  # batch size depends on METAR server capacity\n",
    "num_batches = len(data_EDDM_reduced) // batch_size + 1\n",
    "\n",
    "for i in tqdm.tqdm(range(num_batches)):\n",
    "    if os.path.exists(os.path.join(file_path_save + f\"landing_df_EDDM_with_meteo_{i}_of_{num_batches-1}.parquet\")):\n",
    "        print(\"file already exists\")\n",
    "    else:\n",
    "        batch = data_EDDM_reduced.iloc[i * batch_size:(i + 1) * batch_size]\n",
    "        batch[[\"avg_wind_dir\", \"avg_wind_speed\", \"avg_vis\", \"avg_temp\", \"avg_press\"]] = batch.apply(\n",
    "            lambda row: pd.Series(featuresfunctions.get_meteo_data(row, \"EDDM\")), axis=1\n",
    "        )\n",
    "        batch.to_parquet(os.path.join(file_path_save + f\"landing_df_EDDM_with_meteo_{i}_of_{num_batches-1}.parquet\"))\n",
    "        \n"
   ]
  },
  {
   "cell_type": "markdown",
   "metadata": {},
   "source": [
    "****\n",
    "# LIRF\n",
    "****"
   ]
  },
  {
   "cell_type": "code",
   "execution_count": 17,
   "metadata": {},
   "outputs": [],
   "source": [
    "file_path = \"C:\\\\Users\\\\kruu\\\\store\\\\\"\n",
    "data_LIRF = pd.read_parquet(os.path.join(file_path + \"\\\\data_LIRF\\\\landing_df_LIRF.parquet\"))"
   ]
  },
  {
   "cell_type": "code",
   "execution_count": null,
   "metadata": {},
   "outputs": [],
   "source": [
    "#Typecode selection: only the ones that land more than 400 times a year\n",
    "\n",
    "typecode_list = data_LIRF.typecode.value_counts()[data_LIRF.typecode.value_counts() > 400].index.tolist()\n",
    "data_LIRF_reduced = data_LIRF.query(f\"typecode in {typecode_list}\")\n",
    "\n",
    "print(f\"typecode proportion: {len(typecode_list) / data_LIRF.typecode.nunique()}\")\n",
    "print(f\"Flight proportion: {len(data_LIRF_reduced) / len(data_LIRF)} \")"
   ]
  },
  {
   "cell_type": "code",
   "execution_count": null,
   "metadata": {},
   "outputs": [],
   "source": [
    "#Number of flight that are in flight simultaneously\n",
    "\n",
    "start_matrix = data_LIRF_reduced['start'].values[:, np.newaxis]\n",
    "stop_matrix = data_LIRF_reduced['stop'].values[:, np.newaxis]\n",
    "\n",
    "# Find overlaps: (start1 <= stop2) & (stop1 >= start2)\n",
    "overlap_matrix = (start_matrix <= stop_matrix.T) & (stop_matrix >= start_matrix.T)\n",
    "\n",
    "# Count the number of overlaps for each row\n",
    "data_LIRF_reduced['nb_aircraft'] = overlap_matrix.sum(axis=1)"
   ]
  },
  {
   "cell_type": "code",
   "execution_count": null,
   "metadata": {},
   "outputs": [],
   "source": [
    "# aircraft bodytype identification\n",
    "data_LIRF_reduced[[\"body_type\"]] =  data_LIRF_reduced.typecode.apply(lambda x: pd.Series(featuresfunctions.body_type(x)))"
   ]
  },
  {
   "cell_type": "code",
   "execution_count": null,
   "metadata": {},
   "outputs": [],
   "source": [
    "# Seasonal features creation\n",
    "\n",
    "data_LIRF_reduced[\"month\"] = pd.DatetimeIndex(data_LIRF_reduced.start).month.astype('category')\n",
    "data_LIRF_reduced[\"hour\"] = pd.DatetimeIndex(data_LIRF_reduced.start).hour.astype('category')\n",
    "data_LIRF_reduced[\"day\"] = pd.DatetimeIndex(data_LIRF_reduced.start).day.astype('category')\n",
    "data_LIRF_reduced[\"weekday\"] = pd.DatetimeIndex(data_LIRF_reduced.start).weekday.astype('category')\n",
    "    \n",
    "data_LIRF_reduced['season'] = data_LIRF_reduced['start'].apply(featuresfunctions.get_season)\n",
    "\n",
    "data_LIRF_reduced['rush_hour'] = data_LIRF_reduced[\"start\"].apply(featuresfunctions.is_rush_hour_LIRF)"
   ]
  },
  {
   "cell_type": "code",
   "execution_count": null,
   "metadata": {},
   "outputs": [],
   "source": [
    "# Calculation of the target variable: ratio between the flown distance and the nominal distance of the STAR\n",
    "\n",
    "star_len_lirf = {\n",
    "    \"ELKA2A\": 132.7,\n",
    "    \"VALM2C\": 92.7,\n",
    "    \"RITE2A\": 94.8,\n",
    "    \"LAT2C\": 74.3,\n",
    "}\n",
    "\n",
    "data_LIRF_reduced[\"nominal_distance\"] = data_LIRF_reduced.star.apply(lambda x: star_len_lirf[x])\n",
    "data_LIRF_reduced[\"nominal_distance_prop\"] = data_LIRF_reduced[\"distance\"] / data_LIRF_reduced[\"nominal_distance\"] "
   ]
  },
  {
   "cell_type": "code",
   "execution_count": null,
   "metadata": {},
   "outputs": [],
   "source": [
    "# Meteo Data\n",
    "import tqdm\n",
    "\n",
    "# file_path_save = \"C:\\\\Users\\\\kruu\\\\store\\\\data_LIRF\\\\\"\n",
    "file_path_save = \"C:\\\\Users\\\\kruu\\\\store\\\\test_LIRF\\\\\"\n",
    "\n",
    "\n",
    "batch_size = 100  # batch size depends on METAR server capacity\n",
    "num_batches = len(data_LIRF_reduced) // batch_size + 1\n",
    "\n",
    "for i in range(num_batches):\n",
    "    if os.path.exists(os.path.join(file_path_save + f\"landing_df_LIRF_with_meteo_{i}_of_{num_batches-1}.parquet\")):\n",
    "        print(\"file already exists\")\n",
    "    else:\n",
    "        batch = data_LIRF_reduced.iloc[i * batch_size:(i + 1) * batch_size]\n",
    "        batch[[\"avg_wind_dir\", \"avg_wind_speed\", \"avg_vis\", \"avg_temp\", \"avg_press\"]] = batch.apply(\n",
    "            lambda row: pd.Series(featuresfunctions.get_meteo_data(row, \"LIRF\")), axis=1\n",
    "        )\n",
    "        batch.to_parquet(os.path.join(file_path_save + f\"landing_df_LIRF_with_meteo_{i}_of_{num_batches-1}.parquet\"))\n"
   ]
  },
  {
   "cell_type": "markdown",
   "metadata": {},
   "source": [
    "****\n",
    "# LSGG\n",
    "****\n"
   ]
  },
  {
   "cell_type": "code",
   "execution_count": 34,
   "metadata": {},
   "outputs": [],
   "source": [
    "file_path = \"C:\\\\Users\\\\kruu\\\\store\\\\\"\n",
    "data_LSGG = pd.read_parquet(os.path.join(file_path + \"\\\\data_LSGG\\\\landing_df_LSGG.parquet\"))"
   ]
  },
  {
   "cell_type": "code",
   "execution_count": 35,
   "metadata": {},
   "outputs": [
    {
     "name": "stdout",
     "output_type": "stream",
     "text": [
      "typecode proportion: 0.058823529411764705\n",
      "Flight proportion: 0.6835600236546422 \n"
     ]
    }
   ],
   "source": [
    "#Typecode selection: only the ones that land more than 400 times a year\n",
    "\n",
    "typecode_list = data_LSGG.typecode.value_counts()[data_LSGG.typecode.value_counts() > 400].index.tolist()\n",
    "data_LSGG_reduced = data_LSGG.query(f\"typecode in {typecode_list}\")\n",
    "\n",
    "print(f\"typecode proportion: {len(typecode_list) / data_LSGG.typecode.nunique()}\")\n",
    "print(f\"Flight proportion: {len(data_LSGG_reduced) / len(data_LSGG)} \")"
   ]
  },
  {
   "cell_type": "code",
   "execution_count": 36,
   "metadata": {},
   "outputs": [
    {
     "name": "stderr",
     "output_type": "stream",
     "text": [
      "C:\\Users\\kruu\\AppData\\Local\\Temp\\ipykernel_1588\\1823758475.py:10: SettingWithCopyWarning: \n",
      "A value is trying to be set on a copy of a slice from a DataFrame.\n",
      "Try using .loc[row_indexer,col_indexer] = value instead\n",
      "\n",
      "See the caveats in the documentation: https://pandas.pydata.org/pandas-docs/stable/user_guide/indexing.html#returning-a-view-versus-a-copy\n",
      "  data_LSGG_reduced['nb_aircraft'] = overlap_matrix.sum(axis=1)\n"
     ]
    }
   ],
   "source": [
    "#Number of flight that are in flight simultaneously\n",
    "\n",
    "start_matrix = data_LSGG_reduced['start'].values[:, np.newaxis]\n",
    "stop_matrix = data_LSGG_reduced['stop'].values[:, np.newaxis]\n",
    "\n",
    "# Find overlaps: (start1 <= stop2) & (stop1 >= start2)\n",
    "overlap_matrix = (start_matrix <= stop_matrix.T) & (stop_matrix >= start_matrix.T)\n",
    "\n",
    "# Count the number of overlaps for each row\n",
    "data_LSGG_reduced['nb_aircraft'] = overlap_matrix.sum(axis=1)"
   ]
  },
  {
   "cell_type": "code",
   "execution_count": 37,
   "metadata": {},
   "outputs": [
    {
     "name": "stderr",
     "output_type": "stream",
     "text": [
      "C:\\Users\\kruu\\AppData\\Local\\Temp\\ipykernel_1588\\691824573.py:2: SettingWithCopyWarning: \n",
      "A value is trying to be set on a copy of a slice from a DataFrame.\n",
      "Try using .loc[row_indexer,col_indexer] = value instead\n",
      "\n",
      "See the caveats in the documentation: https://pandas.pydata.org/pandas-docs/stable/user_guide/indexing.html#returning-a-view-versus-a-copy\n",
      "  data_LSGG_reduced[[\"body_type\"]] =  data_LSGG_reduced.typecode.apply(lambda x: pd.Series(featuresfunctions.body_type(x)))\n"
     ]
    }
   ],
   "source": [
    "# aircraft bodytype identification\n",
    "data_LSGG_reduced[[\"body_type\"]] =  data_LSGG_reduced.typecode.apply(lambda x: pd.Series(featuresfunctions.body_type(x)))"
   ]
  },
  {
   "cell_type": "code",
   "execution_count": 38,
   "metadata": {},
   "outputs": [
    {
     "name": "stderr",
     "output_type": "stream",
     "text": [
      "C:\\Users\\kruu\\AppData\\Local\\Temp\\ipykernel_1588\\2838114961.py:3: SettingWithCopyWarning: \n",
      "A value is trying to be set on a copy of a slice from a DataFrame.\n",
      "Try using .loc[row_indexer,col_indexer] = value instead\n",
      "\n",
      "See the caveats in the documentation: https://pandas.pydata.org/pandas-docs/stable/user_guide/indexing.html#returning-a-view-versus-a-copy\n",
      "  data_LSGG_reduced[\"month\"] = pd.DatetimeIndex(data_LSGG_reduced.start).month.astype('category')\n",
      "C:\\Users\\kruu\\AppData\\Local\\Temp\\ipykernel_1588\\2838114961.py:4: SettingWithCopyWarning: \n",
      "A value is trying to be set on a copy of a slice from a DataFrame.\n",
      "Try using .loc[row_indexer,col_indexer] = value instead\n",
      "\n",
      "See the caveats in the documentation: https://pandas.pydata.org/pandas-docs/stable/user_guide/indexing.html#returning-a-view-versus-a-copy\n",
      "  data_LSGG_reduced[\"hour\"] = pd.DatetimeIndex(data_LSGG_reduced.start).hour.astype('category')\n",
      "C:\\Users\\kruu\\AppData\\Local\\Temp\\ipykernel_1588\\2838114961.py:5: SettingWithCopyWarning: \n",
      "A value is trying to be set on a copy of a slice from a DataFrame.\n",
      "Try using .loc[row_indexer,col_indexer] = value instead\n",
      "\n",
      "See the caveats in the documentation: https://pandas.pydata.org/pandas-docs/stable/user_guide/indexing.html#returning-a-view-versus-a-copy\n",
      "  data_LSGG_reduced[\"day\"] = pd.DatetimeIndex(data_LSGG_reduced.start).day.astype('category')\n",
      "C:\\Users\\kruu\\AppData\\Local\\Temp\\ipykernel_1588\\2838114961.py:6: SettingWithCopyWarning: \n",
      "A value is trying to be set on a copy of a slice from a DataFrame.\n",
      "Try using .loc[row_indexer,col_indexer] = value instead\n",
      "\n",
      "See the caveats in the documentation: https://pandas.pydata.org/pandas-docs/stable/user_guide/indexing.html#returning-a-view-versus-a-copy\n",
      "  data_LSGG_reduced[\"weekday\"] = pd.DatetimeIndex(data_LSGG_reduced.start).weekday.astype('category')\n",
      "C:\\Users\\kruu\\AppData\\Local\\Temp\\ipykernel_1588\\2838114961.py:8: SettingWithCopyWarning: \n",
      "A value is trying to be set on a copy of a slice from a DataFrame.\n",
      "Try using .loc[row_indexer,col_indexer] = value instead\n",
      "\n",
      "See the caveats in the documentation: https://pandas.pydata.org/pandas-docs/stable/user_guide/indexing.html#returning-a-view-versus-a-copy\n",
      "  data_LSGG_reduced['season'] = data_LSGG_reduced['start'].apply(featuresfunctions.get_season)\n",
      "C:\\Users\\kruu\\AppData\\Local\\Temp\\ipykernel_1588\\2838114961.py:10: SettingWithCopyWarning: \n",
      "A value is trying to be set on a copy of a slice from a DataFrame.\n",
      "Try using .loc[row_indexer,col_indexer] = value instead\n",
      "\n",
      "See the caveats in the documentation: https://pandas.pydata.org/pandas-docs/stable/user_guide/indexing.html#returning-a-view-versus-a-copy\n",
      "  data_LSGG_reduced['rush_hour'] = data_LSGG_reduced[\"start\"].apply(featuresfunctions.is_rush_hour_LSGG)\n"
     ]
    }
   ],
   "source": [
    "# Seasonal features creation\n",
    "\n",
    "data_LSGG_reduced[\"month\"] = pd.DatetimeIndex(data_LSGG_reduced.start).month.astype('category')\n",
    "data_LSGG_reduced[\"hour\"] = pd.DatetimeIndex(data_LSGG_reduced.start).hour.astype('category')\n",
    "data_LSGG_reduced[\"day\"] = pd.DatetimeIndex(data_LSGG_reduced.start).day.astype('category')\n",
    "data_LSGG_reduced[\"weekday\"] = pd.DatetimeIndex(data_LSGG_reduced.start).weekday.astype('category')\n",
    "    \n",
    "data_LSGG_reduced['season'] = data_LSGG_reduced['start'].apply(featuresfunctions.get_season)\n",
    "\n",
    "data_LSGG_reduced['rush_hour'] = data_LSGG_reduced[\"start\"].apply(featuresfunctions.is_rush_hour_LSGG)"
   ]
  },
  {
   "cell_type": "code",
   "execution_count": 39,
   "metadata": {},
   "outputs": [
    {
     "name": "stderr",
     "output_type": "stream",
     "text": [
      "C:\\Users\\kruu\\AppData\\Local\\Temp\\ipykernel_1588\\91545798.py:10: SettingWithCopyWarning: \n",
      "A value is trying to be set on a copy of a slice from a DataFrame.\n",
      "Try using .loc[row_indexer,col_indexer] = value instead\n",
      "\n",
      "See the caveats in the documentation: https://pandas.pydata.org/pandas-docs/stable/user_guide/indexing.html#returning-a-view-versus-a-copy\n",
      "  data_LSGG_reduced[\"nominal_distance\"] = data_LSGG_reduced.star.apply(lambda x: star_len_lsgg[x])\n",
      "C:\\Users\\kruu\\AppData\\Local\\Temp\\ipykernel_1588\\91545798.py:11: SettingWithCopyWarning: \n",
      "A value is trying to be set on a copy of a slice from a DataFrame.\n",
      "Try using .loc[row_indexer,col_indexer] = value instead\n",
      "\n",
      "See the caveats in the documentation: https://pandas.pydata.org/pandas-docs/stable/user_guide/indexing.html#returning-a-view-versus-a-copy\n",
      "  data_LSGG_reduced[\"nominal_distance_prop\"] = data_LSGG_reduced[\"distance\"] / data_LSGG_reduced[\"nominal_distance\"]\n"
     ]
    }
   ],
   "source": [
    "# Calculation of the target variable: ratio between the flown distance and the nominal distance of the STAR\n",
    "\n",
    "star_len_lsgg = {\n",
    "    'BELU3N': 92.8,\n",
    "    'KINE2N': 103.8,\n",
    "    'AKIT3R': 110.3,\n",
    "    'LUSA2N': 87.9\n",
    "}\n",
    "\n",
    "data_LSGG_reduced[\"nominal_distance\"] = data_LSGG_reduced.star.apply(lambda x: star_len_lsgg[x])\n",
    "data_LSGG_reduced[\"nominal_distance_prop\"] = data_LSGG_reduced[\"distance\"] / data_LSGG_reduced[\"nominal_distance\"] "
   ]
  },
  {
   "cell_type": "code",
   "execution_count": 43,
   "metadata": {},
   "outputs": [
    {
     "name": "stderr",
     "output_type": "stream",
     "text": [
      "  0%|          | 0/12 [00:00<?, ?it/s]"
     ]
    },
    {
     "name": "stdout",
     "output_type": "stream",
     "text": [
      "file already exists\n",
      "file already exists\n",
      "file already exists\n",
      "file already exists\n",
      "file already exists\n",
      "file already exists\n",
      "file already exists\n",
      "file already exists\n",
      "file already exists\n"
     ]
    },
    {
     "name": "stderr",
     "output_type": "stream",
     "text": [
      "C:\\Users\\kruu\\AppData\\Local\\Temp\\ipykernel_1588\\3879481901.py:14: SettingWithCopyWarning: \n",
      "A value is trying to be set on a copy of a slice from a DataFrame.\n",
      "Try using .loc[row_indexer,col_indexer] = value instead\n",
      "\n",
      "See the caveats in the documentation: https://pandas.pydata.org/pandas-docs/stable/user_guide/indexing.html#returning-a-view-versus-a-copy\n",
      "  batch[[\"avg_wind_dir\", \"avg_wind_speed\", \"avg_vis\", \"avg_temp\", \"avg_press\"]] = batch.apply(\n",
      "C:\\Users\\kruu\\AppData\\Local\\Temp\\ipykernel_1588\\3879481901.py:14: SettingWithCopyWarning: \n",
      "A value is trying to be set on a copy of a slice from a DataFrame.\n",
      "Try using .loc[row_indexer,col_indexer] = value instead\n",
      "\n",
      "See the caveats in the documentation: https://pandas.pydata.org/pandas-docs/stable/user_guide/indexing.html#returning-a-view-versus-a-copy\n",
      "  batch[[\"avg_wind_dir\", \"avg_wind_speed\", \"avg_vis\", \"avg_temp\", \"avg_press\"]] = batch.apply(\n",
      "C:\\Users\\kruu\\AppData\\Local\\Temp\\ipykernel_1588\\3879481901.py:14: SettingWithCopyWarning: \n",
      "A value is trying to be set on a copy of a slice from a DataFrame.\n",
      "Try using .loc[row_indexer,col_indexer] = value instead\n",
      "\n",
      "See the caveats in the documentation: https://pandas.pydata.org/pandas-docs/stable/user_guide/indexing.html#returning-a-view-versus-a-copy\n",
      "  batch[[\"avg_wind_dir\", \"avg_wind_speed\", \"avg_vis\", \"avg_temp\", \"avg_press\"]] = batch.apply(\n",
      "C:\\Users\\kruu\\AppData\\Local\\Temp\\ipykernel_1588\\3879481901.py:14: SettingWithCopyWarning: \n",
      "A value is trying to be set on a copy of a slice from a DataFrame.\n",
      "Try using .loc[row_indexer,col_indexer] = value instead\n",
      "\n",
      "See the caveats in the documentation: https://pandas.pydata.org/pandas-docs/stable/user_guide/indexing.html#returning-a-view-versus-a-copy\n",
      "  batch[[\"avg_wind_dir\", \"avg_wind_speed\", \"avg_vis\", \"avg_temp\", \"avg_press\"]] = batch.apply(\n",
      "C:\\Users\\kruu\\AppData\\Local\\Temp\\ipykernel_1588\\3879481901.py:14: SettingWithCopyWarning: \n",
      "A value is trying to be set on a copy of a slice from a DataFrame.\n",
      "Try using .loc[row_indexer,col_indexer] = value instead\n",
      "\n",
      "See the caveats in the documentation: https://pandas.pydata.org/pandas-docs/stable/user_guide/indexing.html#returning-a-view-versus-a-copy\n",
      "  batch[[\"avg_wind_dir\", \"avg_wind_speed\", \"avg_vis\", \"avg_temp\", \"avg_press\"]] = batch.apply(\n",
      " 83%|████████▎ | 10/12 [04:17<00:51, 25.74s/it]C:\\Users\\kruu\\AppData\\Local\\Temp\\ipykernel_1588\\3879481901.py:14: SettingWithCopyWarning: \n",
      "A value is trying to be set on a copy of a slice from a DataFrame.\n",
      "Try using .loc[row_indexer,col_indexer] = value instead\n",
      "\n",
      "See the caveats in the documentation: https://pandas.pydata.org/pandas-docs/stable/user_guide/indexing.html#returning-a-view-versus-a-copy\n",
      "  batch[[\"avg_wind_dir\", \"avg_wind_speed\", \"avg_vis\", \"avg_temp\", \"avg_press\"]] = batch.apply(\n",
      "C:\\Users\\kruu\\AppData\\Local\\Temp\\ipykernel_1588\\3879481901.py:14: SettingWithCopyWarning: \n",
      "A value is trying to be set on a copy of a slice from a DataFrame.\n",
      "Try using .loc[row_indexer,col_indexer] = value instead\n",
      "\n",
      "See the caveats in the documentation: https://pandas.pydata.org/pandas-docs/stable/user_guide/indexing.html#returning-a-view-versus-a-copy\n",
      "  batch[[\"avg_wind_dir\", \"avg_wind_speed\", \"avg_vis\", \"avg_temp\", \"avg_press\"]] = batch.apply(\n",
      "C:\\Users\\kruu\\AppData\\Local\\Temp\\ipykernel_1588\\3879481901.py:14: SettingWithCopyWarning: \n",
      "A value is trying to be set on a copy of a slice from a DataFrame.\n",
      "Try using .loc[row_indexer,col_indexer] = value instead\n",
      "\n",
      "See the caveats in the documentation: https://pandas.pydata.org/pandas-docs/stable/user_guide/indexing.html#returning-a-view-versus-a-copy\n",
      "  batch[[\"avg_wind_dir\", \"avg_wind_speed\", \"avg_vis\", \"avg_temp\", \"avg_press\"]] = batch.apply(\n",
      "C:\\Users\\kruu\\AppData\\Local\\Temp\\ipykernel_1588\\3879481901.py:14: SettingWithCopyWarning: \n",
      "A value is trying to be set on a copy of a slice from a DataFrame.\n",
      "Try using .loc[row_indexer,col_indexer] = value instead\n",
      "\n",
      "See the caveats in the documentation: https://pandas.pydata.org/pandas-docs/stable/user_guide/indexing.html#returning-a-view-versus-a-copy\n",
      "  batch[[\"avg_wind_dir\", \"avg_wind_speed\", \"avg_vis\", \"avg_temp\", \"avg_press\"]] = batch.apply(\n",
      "C:\\Users\\kruu\\AppData\\Local\\Temp\\ipykernel_1588\\3879481901.py:14: SettingWithCopyWarning: \n",
      "A value is trying to be set on a copy of a slice from a DataFrame.\n",
      "Try using .loc[row_indexer,col_indexer] = value instead\n",
      "\n",
      "See the caveats in the documentation: https://pandas.pydata.org/pandas-docs/stable/user_guide/indexing.html#returning-a-view-versus-a-copy\n",
      "  batch[[\"avg_wind_dir\", \"avg_wind_speed\", \"avg_vis\", \"avg_temp\", \"avg_press\"]] = batch.apply(\n",
      " 92%|█████████▏| 11/12 [08:25<00:53, 53.53s/it]C:\\Users\\kruu\\AppData\\Local\\Temp\\ipykernel_1588\\3879481901.py:14: SettingWithCopyWarning: \n",
      "A value is trying to be set on a copy of a slice from a DataFrame.\n",
      "Try using .loc[row_indexer,col_indexer] = value instead\n",
      "\n",
      "See the caveats in the documentation: https://pandas.pydata.org/pandas-docs/stable/user_guide/indexing.html#returning-a-view-versus-a-copy\n",
      "  batch[[\"avg_wind_dir\", \"avg_wind_speed\", \"avg_vis\", \"avg_temp\", \"avg_press\"]] = batch.apply(\n",
      "C:\\Users\\kruu\\AppData\\Local\\Temp\\ipykernel_1588\\3879481901.py:14: SettingWithCopyWarning: \n",
      "A value is trying to be set on a copy of a slice from a DataFrame.\n",
      "Try using .loc[row_indexer,col_indexer] = value instead\n",
      "\n",
      "See the caveats in the documentation: https://pandas.pydata.org/pandas-docs/stable/user_guide/indexing.html#returning-a-view-versus-a-copy\n",
      "  batch[[\"avg_wind_dir\", \"avg_wind_speed\", \"avg_vis\", \"avg_temp\", \"avg_press\"]] = batch.apply(\n",
      "C:\\Users\\kruu\\AppData\\Local\\Temp\\ipykernel_1588\\3879481901.py:14: SettingWithCopyWarning: \n",
      "A value is trying to be set on a copy of a slice from a DataFrame.\n",
      "Try using .loc[row_indexer,col_indexer] = value instead\n",
      "\n",
      "See the caveats in the documentation: https://pandas.pydata.org/pandas-docs/stable/user_guide/indexing.html#returning-a-view-versus-a-copy\n",
      "  batch[[\"avg_wind_dir\", \"avg_wind_speed\", \"avg_vis\", \"avg_temp\", \"avg_press\"]] = batch.apply(\n",
      "C:\\Users\\kruu\\AppData\\Local\\Temp\\ipykernel_1588\\3879481901.py:14: SettingWithCopyWarning: \n",
      "A value is trying to be set on a copy of a slice from a DataFrame.\n",
      "Try using .loc[row_indexer,col_indexer] = value instead\n",
      "\n",
      "See the caveats in the documentation: https://pandas.pydata.org/pandas-docs/stable/user_guide/indexing.html#returning-a-view-versus-a-copy\n",
      "  batch[[\"avg_wind_dir\", \"avg_wind_speed\", \"avg_vis\", \"avg_temp\", \"avg_press\"]] = batch.apply(\n",
      "C:\\Users\\kruu\\AppData\\Local\\Temp\\ipykernel_1588\\3879481901.py:14: SettingWithCopyWarning: \n",
      "A value is trying to be set on a copy of a slice from a DataFrame.\n",
      "Try using .loc[row_indexer,col_indexer] = value instead\n",
      "\n",
      "See the caveats in the documentation: https://pandas.pydata.org/pandas-docs/stable/user_guide/indexing.html#returning-a-view-versus-a-copy\n",
      "  batch[[\"avg_wind_dir\", \"avg_wind_speed\", \"avg_vis\", \"avg_temp\", \"avg_press\"]] = batch.apply(\n",
      "100%|██████████| 12/12 [10:41<00:00, 53.48s/it]\n"
     ]
    }
   ],
   "source": [
    "# Meteo Data\n",
    "import tqdm\n",
    "\n",
    "file_path_save = \"C:\\\\Users\\\\kruu\\\\store\\\\data_LSGG\\\\\"\n",
    "\n",
    "batch_size = 1000  # batch size depends on METAR server capacity\n",
    "num_batches = len(data_LSGG_reduced) // batch_size + 1\n",
    "\n",
    "for i in tqdm.tqdm(range(num_batches)):\n",
    "    if os.path.exists(os.path.join(file_path_save + f\"landing_df_LSGG_with_meteo_{i}_of_{num_batches-1}.parquet\")):\n",
    "        print(\"file already exists\")\n",
    "    else:\n",
    "        batch = data_LSGG_reduced.iloc[i * batch_size:(i + 1) * batch_size]\n",
    "        batch[[\"avg_wind_dir\", \"avg_wind_speed\", \"avg_vis\", \"avg_temp\", \"avg_press\"]] = batch.apply(\n",
    "            lambda row: pd.Series(featuresfunctions.get_meteo_data(row, \"LSGG\")), axis=1\n",
    "        )\n",
    "        batch.to_parquet(os.path.join(file_path_save + f\"landing_df_LSGG_with_meteo_{i}_of_{num_batches-1}.parquet\"))"
   ]
  },
  {
   "cell_type": "code",
   "execution_count": null,
   "metadata": {},
   "outputs": [],
   "source": []
  }
 ],
 "metadata": {
  "kernelspec": {
   "display_name": ".venv",
   "language": "python",
   "name": "python3"
  },
  "language_info": {
   "codemirror_mode": {
    "name": "ipython",
    "version": 3
   },
   "file_extension": ".py",
   "mimetype": "text/x-python",
   "name": "python",
   "nbconvert_exporter": "python",
   "pygments_lexer": "ipython3",
   "version": "3.12.3"
  }
 },
 "nbformat": 4,
 "nbformat_minor": 2
}
