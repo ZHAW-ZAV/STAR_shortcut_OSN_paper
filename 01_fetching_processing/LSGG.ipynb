{
 "cells": [
  {
   "cell_type": "markdown",
   "metadata": {},
   "source": [
    "### Import of required libraries"
   ]
  },
  {
   "cell_type": "code",
   "execution_count": 1,
   "metadata": {
    "tags": []
   },
   "outputs": [],
   "source": [
    "import os\n",
    "import pandas as pd\n",
    "from tqdm.auto import tqdm\n",
    "from traffic.core import Traffic, Flight\n",
    "from traffic.data import opensky, navaids, airports\n",
    "from typing import Union, List, Tuple\n",
    "from traffic.core.mixins import PointMixin\n",
    "import os\n",
    "os.chdir(\"/home/krum/git/STAR_shortcut_OSN_paper\")\n",
    "from utils import helperfunctions as hf\n",
    "import plotly.graph_objects as go\n",
    "\n",
    "import warnings\n",
    "warnings.simplefilter(action='ignore', category=FutureWarning)"
   ]
  },
  {
   "cell_type": "code",
   "execution_count": 2,
   "metadata": {
    "tags": []
   },
   "outputs": [],
   "source": [
    "airport = \"LSGG\""
   ]
  },
  {
   "cell_type": "markdown",
   "metadata": {},
   "source": [
    "### Data fetching"
   ]
  },
  {
   "cell_type": "code",
   "execution_count": 3,
   "metadata": {
    "tags": []
   },
   "outputs": [],
   "source": [
    "# Paras\n",
    "folder_daily = f\"/mnt/beegfs/store/Projects_CRM/STAR_paper/{airport}/daily_new/\"\n",
    "date_range = pd.date_range(start='2023-01-01', end='2023-12-31', freq='D')\n",
    "\n",
    "# Fetching in daily packages\n",
    "for date in date_range:\n",
    "    path = f\"{folder_daily}{date.month}/\"\n",
    "    if not os.path.exists(path):\n",
    "        os.makedirs(path)\n",
    "    file = path + date.strftime('%Y-%m-%d')+\".parquet\"\n",
    "    if not os.path.exists(file):\n",
    "        print(f\"fetching {date}\")\n",
    "        try:\n",
    "            t = opensky.history(\n",
    "                start=date.strftime('%Y-%m-%d 00:00'),\n",
    "                stop=date.strftime('%Y-%m-%d 23:59'),\n",
    "                bounds=airports[airport].shape.buffer(1.5).bounds,\n",
    "                # callsign=callsigns,\n",
    "            )\n",
    "            t.to_parquet(file)\n",
    "        except:\n",
    "            print(f\"failed to fetch {date}\")"
   ]
  },
  {
   "cell_type": "markdown",
   "metadata": {},
   "source": [
    "### Processing (clean invalid, assign id, only landings at airport, add landing runway)"
   ]
  },
  {
   "cell_type": "code",
   "execution_count": 4,
   "metadata": {},
   "outputs": [],
   "source": [
    "# Reduction to landing 04 in monthly packages-----------------------------------\n",
    "folder_list = os.listdir(folder_daily)\n",
    "# for each month\n",
    "for folder in folder_list:\n",
    "    # List all files in the folder\n",
    "    file_list = os.listdir(folder_daily + folder)\n",
    "    filepaths = [os.path.join(folder_daily + folder, file) for file in file_list]\n",
    "\n",
    "    # Merging to one trafic object\n",
    "    t = Traffic(\n",
    "        pd.concat(\n",
    "            [Traffic.from_file(file).data for file in tqdm(filepaths)],\n",
    "            ignore_index=True,\n",
    "        )\n",
    "    )\n",
    "\n",
    "    # Cleaning\n",
    "    t = t.clean_invalid().assign_id().eval(desc=\"Cleaning\", max_workers=20)\n",
    "\n",
    "    # Reduce to landings at LSGG\n",
    "    t = (\n",
    "        t.iterate_lazy()\n",
    "        .pipe(hf.has_landing_at, \"LSGG\")\n",
    "        .eval(desc=\"landing at LSGG\", max_workers=20)\n",
    "    )\n",
    "\n",
    "    # Save\n",
    "    t.to_parquet(\n",
    "        f\"/mnt/beegfs/store/Projects_CRM/STAR_paper/{airport}/processed/monthly/landing_{folder}.parquet\"\n",
    "   )"
   ]
  },
  {
   "cell_type": "markdown",
   "metadata": {},
   "source": [
    "### Merge monthly into one yearly"
   ]
  },
  {
   "cell_type": "code",
   "execution_count": 5,
   "metadata": {},
   "outputs": [],
   "source": [
    "# Merge all monthly packages to one yearly package------------------------------\n",
    "file_list = os.listdir(f\"/mnt/beegfs/store/Projects_CRM/STAR_paper/{airport}/processed/monthly/\")\n",
    "file_list = [file for file in file_list if file.startswith(\"landing_\")]\n",
    "filepaths = [\n",
    "    os.path.join(f\"/mnt/beegfs/store/Projects_CRM/STAR_paper/{airport}/processed/monthly\", file)\n",
    "    for file in file_list\n",
    "]\n",
    "t = Traffic(\n",
    "    pd.concat(\n",
    "        [Traffic.from_file(file).data for file in tqdm(filepaths)],\n",
    "        ignore_index=True,\n",
    "    )\n",
    ")\n",
    "t.to_parquet(f\"/mnt/beegfs/store/Projects_CRM/STAR_paper/{airport}/processed/landing_all.parquet\")"
   ]
  },
  {
   "cell_type": "markdown",
   "metadata": {},
   "source": [
    "### Add star info and crop before navaid"
   ]
  },
  {
   "cell_type": "code",
   "execution_count": 4,
   "metadata": {
    "tags": []
   },
   "outputs": [],
   "source": [
    "# load data\n",
    "t = Traffic.from_file(f\"/mnt/beegfs/store/Projects_CRM/STAR_paper/{airport}/processed/landing_all.parquet\")\n",
    "\n",
    "belus = navaids.extent(\"Switzerland\")[\"BELUS\"]\n",
    "kines = navaids.extent(\"Switzerland\")[\"KINES\"]\n",
    "akito = navaids.extent(\"Switzerland\")[\"AKITO\"]\n",
    "lusar = navaids[\"LUSAR\"]\n",
    "\n",
    "\n",
    "def add_star(flight: Flight) -> Union[Flight, None]:\n",
    "    \"\"\"\n",
    "    Add star information to the flight data for LSGG airport.\n",
    "\n",
    "    Parameters\n",
    "    ----------\n",
    "    flight : Flight\n",
    "        A flight object.\n",
    "\n",
    "    Returns\n",
    "    -------\n",
    "    Flight\n",
    "        A flight object with star information in an additional column.\n",
    "    \"\"\"\n",
    "    if flight.aligned_on_navpoint(belus, 1, \"2T\", \"30s\", 20).has():\n",
    "        if flight.data[\"rwy\"].iloc[0] == \"04\":\n",
    "            flight.data[\"star\"] = \"BELU3N\"\n",
    "            flight = hf.crop_before_wp(flight, belus)\n",
    "            return flight\n",
    "    \n",
    "    if flight.aligned_on_navpoint(kines, 1, \"2T\", \"30s\", 20).has():\n",
    "        if flight.data[\"rwy\"].iloc[0] == \"04\":\n",
    "            flight.data[\"star\"] = \"KINE2N\"\n",
    "            flight = hf.crop_before_wp(flight, kines)\n",
    "            return flight\n",
    "    \n",
    "    if flight.aligned_on_navpoint(akito, 1, \"2T\", \"30s\", 20).has():\n",
    "        if flight.data[\"rwy\"].iloc[0] == \"22\":\n",
    "            flight.data[\"star\"] = \"AKIT3R\"\n",
    "            flight = hf.crop_before_wp(flight, akito)\n",
    "            return flight\n",
    "    \n",
    "    if flight.aligned_on_navpoint(lusar, 1, \"2T\", \"30s\", 20).has():\n",
    "        if flight.data[\"rwy\"].iloc[0] == \"04\":\n",
    "            flight.data[\"star\"] = \"LUSA2N\"\n",
    "            flight = hf.crop_before_wp(flight, lusar)\n",
    "            return flight\n",
    "\n",
    "# add star information \n",
    "t = (\n",
    "    t.iterate_lazy()\n",
    "    .pipe(add_star)\n",
    "    .eval(desc= \"add star\", max_workers=20)\n",
    ")\n",
    "\n",
    "# save\n",
    "t.to_parquet(\n",
    "    f\"/mnt/beegfs/store/Projects_CRM/STAR_paper/{airport}/processed/landing_all_wp.parquet\"\n",
    ")"
   ]
  },
  {
   "cell_type": "markdown",
   "metadata": {},
   "source": [
    "### Remove GAs"
   ]
  },
  {
   "cell_type": "code",
   "execution_count": 6,
   "metadata": {},
   "outputs": [],
   "source": [
    "# load data\n",
    "t = Traffic.from_file(f\"/mnt/beegfs/store/Projects_CRM/STAR_paper/{airport}/processed/landing_all_wp.parquet\")\n",
    "\n",
    "# remove GAs\n",
    "t = (\n",
    "    t.iterate_lazy()\n",
    "    .pipe(hf.remove_ga, airport)\n",
    "    .eval(desc=\"Removing GAs\", max_workers=20)\n",
    ")\n",
    "\n",
    "# save\n",
    "t.to_parquet(\n",
    "    f\"/mnt/beegfs/store/Projects_CRM/STAR_paper/{airport}/processed/landing_all_wp_ga.parquet\"\n",
    ")"
   ]
  },
  {
   "cell_type": "markdown",
   "metadata": {},
   "source": [
    "### Crop after runway threshold"
   ]
  },
  {
   "cell_type": "code",
   "execution_count": null,
   "metadata": {},
   "outputs": [],
   "source": [
    "# load data\n",
    "t = Traffic.from_file(f\"/mnt/beegfs/store/Projects_CRM/STAR_paper/{airport}/processed/landing_all_wp_ga.parquet\")\n",
    "\n",
    "# remove GAs\n",
    "t = (\n",
    "    t.iterate_lazy()\n",
    "    .pipe(hf.crop_after_th, airport)\n",
    "    .eval(desc=\"Cropping at th\", max_workers=20)\n",
    ")\n",
    "\n",
    "# save\n",
    "t.to_parquet(\n",
    "    f\"/mnt/beegfs/store/Projects_CRM/STAR_paper/{airport}/processed/landing_all_wp_ga_th.parquet\"\n",
    ")"
   ]
  },
  {
   "cell_type": "markdown",
   "metadata": {},
   "source": [
    "### Filter"
   ]
  },
  {
   "cell_type": "code",
   "execution_count": null,
   "metadata": {},
   "outputs": [],
   "source": [
    "# load data\n",
    "t = Traffic.from_file(f\"/mnt/beegfs/store/Projects_CRM/STAR_paper/{airport}/processed/landing_all_wp_ga_th.parquet\")\n",
    "\n",
    "# Filter\n",
    "t = t.filter().eval(desc=\"filtering\", max_workers=20)\n",
    "\n",
    "# save\n",
    "t.to_parquet(\n",
    "    f\"/mnt/beegfs/store/Projects_CRM/STAR_paper/{airport}/processed/landing_all_wp_ga_th_fr.parquet\"\n",
    ")"
   ]
  },
  {
   "cell_type": "markdown",
   "metadata": {},
   "source": [
    "### Add cumulative distance"
   ]
  },
  {
   "cell_type": "code",
   "execution_count": null,
   "metadata": {},
   "outputs": [],
   "source": [
    "# load data\n",
    "t = Traffic.from_file(f\"/mnt/beegfs/store/Projects_CRM/STAR_paper/{airport}/processed/landing_all_wp_ga_th_fr.parquet\")\n",
    "\n",
    "# Filter\n",
    "t = t.cumulative_distance().eval(desc=\"cumulative distance\", max_workers=20)\n",
    "\n",
    "# save\n",
    "t.to_parquet(\n",
    "    f\"/mnt/beegfs/store/Projects_CRM/STAR_paper/{airport}/processed/landing_full.parquet\"\n",
    ")"
   ]
  },
  {
   "cell_type": "markdown",
   "metadata": {},
   "source": [
    "### Generate dataframe"
   ]
  },
  {
   "cell_type": "code",
   "execution_count": null,
   "metadata": {},
   "outputs": [],
   "source": [
    "# load data\n",
    "t = Traffic.from_file(f\"/mnt/beegfs/store/Projects_CRM/STAR_paper/{airport}/processed/landing_full.parquet\")\n",
    "\n",
    "# Initialize an empty list to collect data for each flight\n",
    "flight_data = []\n",
    "\n",
    "# Iterate through each flight and collect the relevant information\n",
    "for flight in tqdm(t):\n",
    "    id = flight.flight_id\n",
    "    typecode = flight.typecode\n",
    "    start = flight.start\n",
    "    stop = flight.stop\n",
    "    runway = flight.data.rwy.iloc[0]\n",
    "    star = flight.data.star.iloc[0]\n",
    "    distance = flight.data.cumdist.iloc[-1]\n",
    "    \n",
    "    # Append the flight data to the list as a tuple or list\n",
    "    flight_data.append([id, typecode, start, stop, runway, star, distance])\n",
    "\n",
    "# Create a DataFrame from the collected data\n",
    "df = pd.DataFrame(flight_data, columns=['id','typecode','start', 'stop', 'runway', 'star', 'distance'])\n",
    "\n",
    "# Save\n",
    "df.to_parquet(f\"/mnt/beegfs/store/Projects_CRM/STAR_paper/{airport}/processed/landing_full.parquet\")"
   ]
  },
  {
   "cell_type": "markdown",
   "metadata": {},
   "source": [
    "### Generate subsamples for visualisation"
   ]
  },
  {
   "cell_type": "code",
   "execution_count": 15,
   "metadata": {},
   "outputs": [],
   "source": [
    "t = Traffic.from_file(f\"/mnt/beegfs/store/Projects_CRM/STAR_paper/{airport}/processed/landing_full.parquet\")\n",
    "\n",
    "sample_2500 = t.sample(2500)\n",
    "sample_2500.to_parquet(f\"/mnt/beegfs/store/Projects_CRM/STAR_paper/{airport}/processed/sample_2500.parquet\")\n",
    "\n",
    "sample_5000 = t.sample(5000)\n",
    "sample_5000.to_parquet(f\"/mnt/beegfs/store/Projects_CRM/STAR_paper/{airport}/processed/sample_5000.parquet\")\n",
    "\n",
    "sample_10000 = t.sample(10000)\n",
    "sample_10000.to_parquet(f\"/mnt/beegfs/store/Projects_CRM/STAR_paper/{airport}/processed/sample_10000.parquet\")\n",
    "\n",
    "belus = t.query('star == \"BELU3N\"')\n",
    "belus = belus.sample(min(1000, len(belus)))\n",
    "belus.to_parquet(f\"/mnt/beegfs/store/Projects_CRM/STAR_paper/{airport}/processed/belu3n.parquet\")\n",
    "\n",
    "kines = t.query('star == \"KINE2N\"')\n",
    "kines = kines.sample(min(1000, len(kines)))\n",
    "kines.to_parquet(f\"/mnt/beegfs/store/Projects_CRM/STAR_paper/{airport}/processed/kine2n.parquet\")\n",
    "\n",
    "akito = t.query('star == \"AKIT3R\"')\n",
    "akito = akito.sample(min(1000, len(akito)))\n",
    "akito.to_parquet(f\"/mnt/beegfs/store/Projects_CRM/STAR_paper/{airport}/processed/akit3r.parquet\")\n",
    "\n",
    "lusar = t.query('star == \"LUSA2N\"')\n",
    "lusar = lusar.sample(min(1000, len(lusar)))\n",
    "lusar.to_parquet(f\"/mnt/beegfs/store/Projects_CRM/STAR_paper/{airport}/processed/lusar.parquet\")"
   ]
  },
  {
   "cell_type": "markdown",
   "metadata": {},
   "source": [
    "### Visualisation"
   ]
  },
  {
   "cell_type": "code",
   "execution_count": 25,
   "metadata": {},
   "outputs": [],
   "source": [
    "# load data\n",
    "t = Traffic.from_file(f\"/home/krum/git/STAR_shortcut_OSN_paper/data/LSGG/lusa2n.parquet\")"
   ]
  },
  {
   "cell_type": "code",
   "execution_count": null,
   "metadata": {},
   "outputs": [],
   "source": [
    "# Create a single figure for the map\n",
    "fig = go.Figure()\n",
    "\n",
    "for flight in t.sample(50):\n",
    "    fig.add_trace(\n",
    "        go.Scattermapbox(\n",
    "            mode=\"lines\",\n",
    "            lat=flight.data[\"latitude\"],\n",
    "            lon=flight.data[\"longitude\"],\n",
    "            line=dict(width=1.5, color=\"#757ef3\"),\n",
    "            opacity=0.5,\n",
    "            name=\"Observed trajectories\",\n",
    "            showlegend=False,\n",
    "        )\n",
    "    )\n",
    "\n",
    "# Add BELUS\n",
    "fig.add_trace(\n",
    "    go.Scattermapbox(\n",
    "        mode=\"markers+text\",\n",
    "        lat=[navaids[\"BELUS\"].latitude],\n",
    "        lon=[navaids[\"BELUS\"].longitude],\n",
    "        marker=dict(size=10, color=\"red\"),\n",
    "        text=[\"BELUS\"],\n",
    "        textposition=\"bottom left\",\n",
    "        textfont=dict(color=\"red\", size=25),\n",
    "        name=\"BELUS\",\n",
    "        showlegend=False,\n",
    "    )\n",
    ")\n",
    "\n",
    "# Add KINES\n",
    "fig.add_trace(\n",
    "    go.Scattermapbox(\n",
    "        mode=\"markers+text\",\n",
    "        lat=[navaids[\"KINES\"].latitude],\n",
    "        lon=[navaids[\"KINES\"].longitude],\n",
    "        marker=dict(size=10, color=\"red\"),\n",
    "        text=[\"KINES\"],\n",
    "        textposition=\"bottom center\",\n",
    "        textfont=dict(color=\"red\", size=25),\n",
    "        name=\"KINES\",\n",
    "        showlegend=False,\n",
    "    )\n",
    ")\n",
    "\n",
    "# Add AKITO\n",
    "fig.add_trace(\n",
    "    go.Scattermapbox(\n",
    "        mode=\"markers+text\",\n",
    "        lat=[navaids.extent(\"Switzerland\")[\"AKITO\"].latitude],\n",
    "        lon=[navaids.extent(\"Switzerland\")[\"AKITO\"].longitude],\n",
    "        marker=dict(size=10, color=\"red\"),\n",
    "        text=[\"AKITO\"],\n",
    "        textposition=\"top center\",\n",
    "        textfont=dict(color=\"red\", size=25),\n",
    "        name=\"AKITO\",\n",
    "        showlegend=False,\n",
    "    )\n",
    ")\n",
    "\n",
    "# Add LUSAR\n",
    "fig.add_trace(\n",
    "    go.Scattermapbox(\n",
    "        mode=\"markers+text\",\n",
    "        lat=[navaids[\"LUSAR\"].latitude],\n",
    "        lon=[navaids[\"LUSAR\"].longitude],\n",
    "        marker=dict(size=10, color=\"red\"),\n",
    "        text=[\"LUSAR\"],\n",
    "        textposition=\"top left\",\n",
    "        textfont=dict(color=\"red\", size=25),\n",
    "        name=\"LUSAR\",\n",
    "        showlegend=False,\n",
    "    )\n",
    ")\n",
    "\n",
    "# Update layout for the map\n",
    "fig.update_layout(\n",
    "    width=1000,\n",
    "    height=1000,\n",
    "    margin=dict(l=0, r=0, t=0, b=0),\n",
    "    mapbox=dict(\n",
    "        style=\"carto-positron\",\n",
    "        zoom=8,\n",
    "        center=dict(\n",
    "            lat=46.23696078946708,\n",
    "            lon=6.109110255543277,\n",
    "        ),\n",
    "    ),\n",
    "    legend=dict(\n",
    "        x=0.65,\n",
    "        y=0.97,\n",
    "        traceorder=\"normal\",\n",
    "        font=dict(size=25),\n",
    "        bgcolor=\"rgba(255, 255, 255, 0.7)\",\n",
    "    ),\n",
    ")\n",
    "\n",
    "# Show the figure\n",
    "fig.show()"
   ]
  }
 ],
 "metadata": {
  "kernelspec": {
   "display_name": "Python 3 (ipykernel)",
   "language": "python",
   "name": "python3"
  },
  "language_info": {
   "codemirror_mode": {
    "name": "ipython",
    "version": 3
   },
   "file_extension": ".py",
   "mimetype": "text/x-python",
   "name": "python",
   "nbconvert_exporter": "python",
   "pygments_lexer": "ipython3",
   "version": "3.12.2"
  }
 },
 "nbformat": 4,
 "nbformat_minor": 4
}
