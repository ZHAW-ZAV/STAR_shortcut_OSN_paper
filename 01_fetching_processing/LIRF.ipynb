{
 "cells": [
  {
   "cell_type": "markdown",
   "metadata": {},
   "source": [
    "### Import of required libraries"
   ]
  },
  {
   "cell_type": "code",
   "execution_count": 1,
   "metadata": {
    "tags": []
   },
   "outputs": [],
   "source": [
    "import os\n",
    "import pandas as pd\n",
    "from tqdm.auto import tqdm\n",
    "from traffic.core import Traffic, Flight\n",
    "from traffic.data import opensky, navaids, airports\n",
    "from typing import Union, List, Tuple\n",
    "from traffic.core.mixins import PointMixin\n",
    "from utils import helperfunctions as hf\n",
    "import plotly.graph_objects as go\n",
    "\n",
    "import warnings\n",
    "warnings.simplefilter(action='ignore', category=FutureWarning)"
   ]
  },
  {
   "cell_type": "code",
   "execution_count": 2,
   "metadata": {
    "tags": []
   },
   "outputs": [],
   "source": [
    "airport = \"LIRF\""
   ]
  },
  {
   "cell_type": "markdown",
   "metadata": {},
   "source": [
    "### Data fetching"
   ]
  },
  {
   "cell_type": "code",
   "execution_count": 5,
   "metadata": {},
   "outputs": [],
   "source": [
    "# Paras\n",
    "airport = \"LIRF\"\n",
    "folder_daily = f\"/mnt/beegfs/store/Projects_CRM/STAR_paper/{airport}/daily/\"\n",
    "date_range = pd.date_range(start='2023-01-01', end='2023-12-31', freq='D')\n",
    "\n",
    "# Fetching in daily packages\n",
    "for date in date_range:\n",
    "    path = f\"{folder_daily}{date.month}/\"\n",
    "    if not os.path.exists(path):\n",
    "        os.makedirs(path)\n",
    "    file = path + date.strftime('%Y-%m-%d')+\".parquet\"\n",
    "    if not os.path.exists(file):\n",
    "        print(f\"fetching {date}\")\n",
    "        try:\n",
    "            t = opensky.history(\n",
    "                start=date.strftime('%Y-%m-%d 00:00'),\n",
    "                stop=date.strftime('%Y-%m-%d 23:59'),\n",
    "                bounds=airports[airport].shape.buffer(2).bounds,\n",
    "            )\n",
    "            t.to_parquet(file)\n",
    "        except:\n",
    "            print(f\"failed to fetch {date}\")"
   ]
  },
  {
   "cell_type": "markdown",
   "metadata": {},
   "source": [
    "### Processing (clean invalid, assign id, only landings at airport, add landing runway)"
   ]
  },
  {
   "cell_type": "code",
   "execution_count": null,
   "metadata": {},
   "outputs": [],
   "source": [
    "# Reduction to landing 04 in monthly packages-----------------------------------\n",
    "folder_list = os.listdir(folder_daily)\n",
    "# for each month\n",
    "for folder in folder_list:\n",
    "    # List all files in the folder\n",
    "    file_list = os.listdir(folder_daily + folder)\n",
    "    filepaths = [os.path.join(folder_daily + folder, file) for file in file_list]\n",
    "\n",
    "    # Merging to one trafic object\n",
    "    t = Traffic(\n",
    "        pd.concat(\n",
    "            [Traffic.from_file(file).data for file in tqdm(filepaths)],\n",
    "            ignore_index=True,\n",
    "        )\n",
    "    )\n",
    "\n",
    "    # Cleaning\n",
    "    t = t.clean_invalid().assign_id().eval(desc=\"Cleaning\", max_workers=20)\n",
    "\n",
    "    # Reduce to landing 04\n",
    "    t = (\n",
    "        t.iterate_lazy()\n",
    "        .pipe(hf.has_landing_at, \"LIRF\")\n",
    "        .eval(desc=\"landing at LIRF\", max_workers=20)\n",
    "    )\n",
    "\n",
    "    # Save\n",
    "    t.to_parquet(\n",
    "        f\"/mnt/beegfs/store/Projects_CRM/STAR_paper/{airport}/processed/monthly/landing_{folder}.parquet\"\n",
    "    )"
   ]
  },
  {
   "cell_type": "markdown",
   "metadata": {},
   "source": [
    "### Merge monthly into one yearly"
   ]
  },
  {
   "cell_type": "code",
   "execution_count": null,
   "metadata": {},
   "outputs": [],
   "source": [
    "# Merge all monthly packages to one yearly package------------------------------\n",
    "file_list = os.listdir(f\"/mnt/beegfs/store/Projects_CRM/STAR_paper/{airport}/processed/monthly/\")\n",
    "file_list = [file for file in file_list if file.startswith(\"landing_\")]\n",
    "filepaths = [\n",
    "    os.path.join(f\"/mnt/beegfs/store/Projects_CRM/STAR_paper/{airport}/processed/monthly\", file)\n",
    "    for file in file_list\n",
    "]\n",
    "t = Traffic(\n",
    "    pd.concat(\n",
    "        [Traffic.from_file(file).data for file in tqdm(filepaths)],\n",
    "        ignore_index=True,\n",
    "    )\n",
    ")\n",
    "t.to_parquet(f\"/mnt/beegfs/store/Projects_CRM/STAR_paper/{airport}/processed/landing_all.parquet\")"
   ]
  },
  {
   "cell_type": "markdown",
   "metadata": {},
   "source": [
    "### Add navaid info and crop before navaid"
   ]
  },
  {
   "cell_type": "code",
   "execution_count": null,
   "metadata": {
    "tags": []
   },
   "outputs": [],
   "source": [
    "# load data\n",
    "t = Traffic.from_file(f\"/mnt/beegfs/store/Projects_CRM/STAR_paper/{airport}/processed/landing_all.parquet\")\n",
    "\n",
    "# Navaids to check\n",
    "elkap = navaids[\"ELKAP\"]\n",
    "valma = navaids[\"VALMA\"]\n",
    "riteb = navaids[\"RITEB\"]\n",
    "\n",
    "lat = PointMixin()\n",
    "lat.name = \"LAT\"\n",
    "lat.latitude = 41.54113720686182\n",
    "lat.longitude = 12.918048889075166\n",
    "\n",
    "# Function to add navaid information\n",
    "def add_star(flight: Flight) -> Union[Flight, None]:\n",
    "    \"\"\"\n",
    "    Add star information to the flight object for LIRF airport.\n",
    "\n",
    "    Parameters\n",
    "    ----------\n",
    "    flight : Flight\n",
    "        A flight object.\n",
    "\n",
    "    Returns\n",
    "    -------\n",
    "    Flight\n",
    "        A flight object with star information in an additional column.\n",
    "    \n",
    "    \"\"\"\n",
    "    \n",
    "    if flight.aligned_on_navpoint(elkap, 1, \"2T\", \"30s\", 20).has():\n",
    "        if flight.data[\"rwy\"].iloc[0] in [\"16L\", \"16R\"]:\n",
    "            if flight.aligned_on_navpoint(navaids[\"SUVOK\"], 5, \"2T\", \"10s\", 20).has():\n",
    "                flight.data[\"star\"] = \"ELKA2A\"\n",
    "                flight = hf.crop_before_wp(flight, elkap)\n",
    "                return flight\n",
    "    \n",
    "    if flight.aligned_on_navpoint(valma, 1, \"2T\", \"30s\", 20).has():\n",
    "        if flight.data[\"rwy\"].iloc[0] in [\"34L\", \"34R\"]:\n",
    "            if flight.aligned_on_navpoint(navaids[\"NEVUX\"], 5, \"2T\", \"10s\", 20).has():\n",
    "                flight.data[\"star\"] = \"VALM2C\"\n",
    "                flight = hf.crop_before_wp(flight, valma)\n",
    "                return flight\n",
    "    \n",
    "    if flight.aligned_on_navpoint(riteb, 1, \"2T\", \"30s\", 20).has():\n",
    "        if flight.data[\"rwy\"].iloc[0] in [\"16L\", \"16R\"]:\n",
    "            if flight.aligned_on_navpoint(navaids[\"EXAMA\"], 5, \"2T\", \"10s\", 20).has():\n",
    "                flight.data[\"star\"] = \"RITE2A\"\n",
    "                flight = hf.crop_before_wp(flight, riteb)\n",
    "                return flight\n",
    "    \n",
    "    if flight.aligned_on_navpoint(lat, 1, \"2T\", \"30s\", 20).has():\n",
    "        if flight.data[\"rwy\"].iloc[0] in [\"34L\", \"34R\"]:\n",
    "            if flight.aligned_on_navpoint(navaids[\"ODULA\"], 5, \"2T\", \"10s\", 20).has():\n",
    "                flight.data[\"star\"] = \"LAT2C\"\n",
    "                flight = hf.crop_before_wp(flight, lat)\n",
    "                return flight\n",
    "        \n",
    "# add navaid information \n",
    "t = (\n",
    "    t.iterate_lazy()\n",
    "    .pipe(add_star)\n",
    "    .eval(desc=\"add navaid\", max_workers=20)\n",
    ")\n",
    "\n",
    "# save\n",
    "t.to_parquet(\n",
    "    f\"/mnt/beegfs/store/Projects_CRM/STAR_paper/{airport}/processed/landing_all_wp.parquet\"\n",
    ")"
   ]
  },
  {
   "cell_type": "markdown",
   "metadata": {},
   "source": [
    "### Remove GAs"
   ]
  },
  {
   "cell_type": "code",
   "execution_count": null,
   "metadata": {
    "tags": []
   },
   "outputs": [],
   "source": [
    "# load data\n",
    "t = Traffic.from_file(f\"/mnt/beegfs/store/Projects_CRM/STAR_paper/{airport}/processed/landing_all_wp.parquet\")\n",
    "\n",
    "# remove GAs\n",
    "t = (\n",
    "    t.iterate_lazy()\n",
    "    .pipe(hf.remove_ga, airport)\n",
    "    .eval(desc=\"removing GAs\", max_workers=20)\n",
    ")\n",
    "\n",
    "# save\n",
    "t.to_parquet(\n",
    "    f\"/mnt/beegfs/store/Projects_CRM/STAR_paper/{airport}/processed/landing_all_wp_ga.parquet\"\n",
    ")"
   ]
  },
  {
   "cell_type": "markdown",
   "metadata": {},
   "source": [
    "### Crop after runway threshold"
   ]
  },
  {
   "cell_type": "code",
   "execution_count": null,
   "metadata": {
    "tags": []
   },
   "outputs": [],
   "source": [
    "# load data\n",
    "t = Traffic.from_file(f\"/mnt/beegfs/store/Projects_CRM/STAR_paper/{airport}/processed/landing_all_wp_ga.parquet\")\n",
    "\n",
    "# remove GAs\n",
    "t = (\n",
    "    t.iterate_lazy()\n",
    "    .pipe(hf.crop_after_th, airport)\n",
    "    .eval(desc=\"removing GAs\", max_workers=20)\n",
    ")\n",
    "\n",
    "# save\n",
    "t.to_parquet(\n",
    "    f\"/mnt/beegfs/store/Projects_CRM/STAR_paper/{airport}/processed/landing_all_wp_ga_th.parquet\"\n",
    ")"
   ]
  },
  {
   "cell_type": "markdown",
   "metadata": {},
   "source": [
    "### Filter"
   ]
  },
  {
   "cell_type": "code",
   "execution_count": null,
   "metadata": {
    "tags": []
   },
   "outputs": [],
   "source": [
    "# load data\n",
    "t = Traffic.from_file(f\"/mnt/beegfs/store/Projects_CRM/STAR_paper/{airport}/processed/landing_all_wp_ga_th.parquet\")\n",
    "\n",
    "# Filter\n",
    "t = t.filter().eval(desc=\"filtering\", max_workers=20)\n",
    "\n",
    "# save\n",
    "t.to_parquet(\n",
    "    f\"/mnt/beegfs/store/Projects_CRM/STAR_paper/{airport}/processed/landing_all_wp_ga_th_fr.parquet\"\n",
    ")"
   ]
  },
  {
   "cell_type": "markdown",
   "metadata": {},
   "source": [
    "### Add cumulative distance"
   ]
  },
  {
   "cell_type": "code",
   "execution_count": null,
   "metadata": {
    "tags": []
   },
   "outputs": [],
   "source": [
    "# load data\n",
    "t = Traffic.from_file(f\"/mnt/beegfs/store/Projects_CRM/STAR_paper/{airport}/processed/landing_all_wp_ga_th_fr.parquet\")\n",
    "\n",
    "# Filter\n",
    "t = t.cumulative_distance().eval(desc=\"cumulative distance\", max_workers=20)\n",
    "\n",
    "# save\n",
    "t.to_parquet(\n",
    "    f\"/mnt/beegfs/store/Projects_CRM/STAR_paper/{airport}/processed/landing_full.parquet\"\n",
    ")"
   ]
  },
  {
   "cell_type": "markdown",
   "metadata": {},
   "source": [
    "### Generate dataframe"
   ]
  },
  {
   "cell_type": "code",
   "execution_count": null,
   "metadata": {},
   "outputs": [],
   "source": [
    "# load data\n",
    "t = Traffic.from_file(f\"/mnt/beegfs/store/Projects_CRM/STAR_paper/{airport}/processed/landing_full.parquet\")\n",
    "\n",
    "# Initialize an empty list to collect data for each flight\n",
    "flight_data = []\n",
    "\n",
    "# Iterate through each flight and collect the relevant information\n",
    "for flight in tqdm(t):\n",
    "    id = flight.flight_id\n",
    "    typecode = flight.typecode\n",
    "    start = flight.start\n",
    "    stop = flight.stop\n",
    "    runway = flight.data.rwy.iloc[0]\n",
    "    star = flight.data.star.iloc[0]\n",
    "    distance = flight.data.cumdist.iloc[-1]\n",
    "    \n",
    "    # Append the flight data to the list as a tuple or list\n",
    "    flight_data.append([id, typecode, start, stop, runway, star, distance])\n",
    "\n",
    "# Create a DataFrame from the collected data\n",
    "df = pd.DataFrame(flight_data, columns=['id','typecode','start', 'stop', 'runway', 'star', 'distance'])\n",
    "\n",
    "# Save\n",
    "df.to_parquet(f\"/mnt/beegfs/store/Projects_CRM/STAR_paper/{airport}/processed/landing_df.parquet\")"
   ]
  },
  {
   "cell_type": "markdown",
   "metadata": {},
   "source": [
    "### Generate Subsamples for visualisation"
   ]
  },
  {
   "cell_type": "code",
   "execution_count": 14,
   "metadata": {},
   "outputs": [],
   "source": [
    "# load data\n",
    "t = Traffic.from_file(f\"/mnt/beegfs/store/Projects_CRM/STAR_paper/{airport}/processed/landing_full.parquet\")\n",
    "\n",
    "sample_2500 = t.sample(2500)\n",
    "sample_2500.to_parquet(f\"/mnt/beegfs/store/Projects_CRM/STAR_paper/{airport}/processed/sample_2500.parquet\")\n",
    "\n",
    "sample_5000 = t.sample(5000)\n",
    "sample_5000.to_parquet(f\"/mnt/beegfs/store/Projects_CRM/STAR_paper/{airport}/processed/sample_5000.parquet\")\n",
    "\n",
    "sample_10000 = t.sample(10000)\n",
    "sample_10000.to_parquet(f\"/mnt/beegfs/store/Projects_CRM/STAR_paper/{airport}/processed/sample_10000.parquet\")\n",
    "\n",
    "elkap = t.query('star == \"ELKA2A\"')\n",
    "elkap = elkap.sample(min(1000, len(elkap)))\n",
    "elkap.to_parquet(f\"/mnt/beegfs/store/Projects_CRM/STAR_paper/{airport}/processed/elka2a.parquet\")\n",
    "\n",
    "valma = t.query('star == \"VALM2C\"')\n",
    "valma = valma.sample(min(1000, len(valma)))\n",
    "valma.to_parquet(f\"/mnt/beegfs/store/Projects_CRM/STAR_paper/{airport}/processed/valm2c.parquet\")\n",
    "\n",
    "riteb = t.query('star == \"RITE2A\"')\n",
    "riteb = riteb.sample(min(1000, len(riteb)))\n",
    "riteb.to_parquet(f\"/mnt/beegfs/store/Projects_CRM/STAR_paper/{airport}/processed/rite2a.parquet\")\n",
    "\n",
    "lat = t.query('star == \"LAT2C\"')\n",
    "lat = lat.sample(min(1000, len(lat)))\n",
    "lat.to_parquet(f\"/mnt/beegfs/store/Projects_CRM/STAR_paper/{airport}/processed/lat2c.parquet\")"
   ]
  },
  {
   "cell_type": "markdown",
   "metadata": {},
   "source": [
    "### Visualise"
   ]
  },
  {
   "cell_type": "code",
   "execution_count": 3,
   "metadata": {
    "tags": []
   },
   "outputs": [],
   "source": [
    "# load data\n",
    "t = Traffic.from_file(f\"/home/krum/git/STAR_shortcut_OSN_paper/data/LIRF/sample_2500.parquet\")"
   ]
  },
  {
   "cell_type": "code",
   "execution_count": null,
   "metadata": {},
   "outputs": [],
   "source": [
    "# Create a single figure for the map\n",
    "fig = go.Figure()\n",
    "\n",
    "for flight in t.sample(50):\n",
    "    fig.add_trace(\n",
    "        go.Scattermapbox(\n",
    "            mode=\"lines\",\n",
    "            lat=flight.data[\"latitude\"],\n",
    "            lon=flight.data[\"longitude\"],\n",
    "            line=dict(width=1.5, color=\"#757ef3\"),\n",
    "            opacity=0.5,\n",
    "            name=\"Observed trajectories\",\n",
    "            showlegend=False,\n",
    "        )\n",
    "    )\n",
    "\n",
    "# Add ELKAP\n",
    "fig.add_trace(\n",
    "    go.Scattermapbox(\n",
    "        mode=\"markers+text\",\n",
    "        lat=[navaids[\"ELKAP\"].latitude],\n",
    "        lon=[navaids[\"ELKAP\"].longitude],\n",
    "        marker=dict(size=10, color=\"red\"),\n",
    "        text=[\"ELKAP\"],\n",
    "        textposition=\"top left\",\n",
    "        textfont=dict(color=\"red\", size=25),\n",
    "        name=\"ELKAP\",\n",
    "        showlegend=False,\n",
    "    )\n",
    ")\n",
    "\n",
    "# Add VALMA navaid\n",
    "fig.add_trace(\n",
    "    go.Scattermapbox(\n",
    "        mode=\"markers+text\",\n",
    "        lat=[navaids[\"VALMA\"].latitude],\n",
    "        lon=[navaids[\"VALMA\"].longitude],\n",
    "        marker=dict(size=10, color=\"red\"),\n",
    "        text=[\"VALMA\"],\n",
    "        textposition=\"middle left\",\n",
    "        textfont=dict(color=\"red\", size=25),\n",
    "        name=\"VALMA\",\n",
    "        showlegend=False,\n",
    "    )\n",
    ")\n",
    "\n",
    "# Add RITEB navaid\n",
    "fig.add_trace(\n",
    "    go.Scattermapbox(\n",
    "        mode=\"markers+text\",\n",
    "        lat=[navaids[\"RITEB\"].latitude],\n",
    "        lon=[navaids[\"RITEB\"].longitude],\n",
    "        marker=dict(size=10, color=\"red\"),\n",
    "        text=[\"RITEB\"],\n",
    "        textposition=\"top center\",\n",
    "        textfont=dict(color=\"red\", size=25),\n",
    "        name=\"RITEB\",\n",
    "        showlegend=False,\n",
    "    )\n",
    ")\n",
    "\n",
    "# Add LAT navaid\n",
    "fig.add_trace(\n",
    "    go.Scattermapbox(\n",
    "        mode=\"markers+text\",\n",
    "        lat=[41.54113720686182],\n",
    "        lon=[12.918048889075166],\n",
    "        marker=dict(size=10, color=\"red\"),\n",
    "        text=[\"LAT\"],\n",
    "        textposition=\"middle right\",\n",
    "        textfont=dict(color=\"red\", size=25),\n",
    "        name=\"LAT\",\n",
    "        showlegend=False,\n",
    "    )\n",
    ")\n",
    "\n",
    "# Update layout for the map\n",
    "fig.update_layout(\n",
    "    width=1000,\n",
    "    height=1000,\n",
    "    margin=dict(l=0, r=0, t=0, b=0),\n",
    "    mapbox=dict(\n",
    "        style=\"carto-positron\",\n",
    "        zoom=7.5,\n",
    "        center=dict(\n",
    "            lat=41.80304294104000,\n",
    "            lon=12.252616903260297,\n",
    "        ),\n",
    "    ),\n",
    "    legend=dict(\n",
    "        x=0.65,\n",
    "        y=0.97,\n",
    "        traceorder=\"normal\",\n",
    "        font=dict(size=25),\n",
    "        bgcolor=\"rgba(255, 255, 255, 0.7)\",\n",
    "    ),\n",
    ")\n",
    "\n",
    "# Show the figure\n",
    "fig.show()"
   ]
  }
 ],
 "metadata": {
  "kernelspec": {
   "display_name": "Python 3 (ipykernel)",
   "language": "python",
   "name": "python3"
  }
 },
 "nbformat": 4,
 "nbformat_minor": 4
}
