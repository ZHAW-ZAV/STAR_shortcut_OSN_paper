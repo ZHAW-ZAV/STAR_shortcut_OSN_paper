{
 "cells": [
  {
   "cell_type": "code",
   "execution_count": 3,
   "metadata": {},
   "outputs": [],
   "source": [
    "import os\n",
    "import pandas as pd\n",
    "import numpy as np\n",
    "\n",
    "import statsmodels.api as sm"
   ]
  },
  {
   "cell_type": "code",
   "execution_count": 5,
   "metadata": {},
   "outputs": [],
   "source": [
    "lsgg_lr = sm.load('res_lr_lsgg.pkl')\n",
    "eddm_lr = sm.load('res_lr_eddm.pkl')\n",
    "lirf_lr = sm.load('res_lr_lirf.pkl')"
   ]
  },
  {
   "cell_type": "markdown",
   "metadata": {},
   "source": [
    "Devide the results of the linear regression in 3 plots:\n",
    "- Plots for STARs influence\n",
    "- Plots for Weather data infleunce\n",
    "- Plots for time data influence"
   ]
  },
  {
   "cell_type": "code",
   "execution_count": null,
   "metadata": {},
   "outputs": [],
   "source": [
    "import matplotlib.pyplot as plt\n",
    "import numpy as np\n",
    "\n",
    "coefficients = res_lm.params\n",
    "p_values = res_lm.pvalues\n",
    "\n",
    "# features = coefficients.index  # Feature names\n",
    "features = np.array([ #Same order as coefficients.index \n",
    "    \"Intercept\", \n",
    "    \"STAR: BELU3N\",\n",
    "    \"STAR: KINE2N\",\n",
    "    \"STAR: LUSA2N\",\n",
    "    \"WEEKDAY: Tuesday\",\n",
    "    \"WEEKDAY: Wednesday\",\n",
    "    \"WEEKDAY: Thursday\",\n",
    "    \"WEEKDAY: Friday\",\n",
    "    \"WEEKDAY: Saturday\",\n",
    "    \"WEEKDAY: Sunday\",\n",
    "    \"SEASON: Spring\",\n",
    "    \"SEASON: Summer\",\n",
    "    \"SEASON: Winter\",\n",
    "    \"BODY TYPE: Business jet\",\n",
    "    \"BODY TYPE: Regional jet\",\n",
    "    \"BODY TYPE: Widebody\",\n",
    "    \"RUSH HOUR: True\",\n",
    "    \"Visibility\",\n",
    "    \"Wind speed\",\n",
    "    \"Pressure\",\n",
    "    \"Temperature\",\n",
    "])\n",
    "importance = coefficients.values  # Absolute coefficients to represent feature importance\n",
    "\n",
    "indices = np.argsort(importance)\n",
    "\n",
    "bar_color = 'steelblue'\n",
    "\n",
    "def significance_stars(p_value):\n",
    "    if p_value <= 0.01:\n",
    "        return '***'\n",
    "    elif p_value <= 0.05:\n",
    "        return '**'\n",
    "    elif p_value <= 0.10:\n",
    "        return '*'\n",
    "    else:\n",
    "        return ''\n",
    "\n",
    "plt.figure(figsize=(12, 8))\n",
    "plt.barh(range(len(importance)), importance[indices], align='center', color=bar_color)\n",
    "\n",
    "for i in range(len(importance)):\n",
    "    pvalue = significance_stars(p_values[indices][i])\n",
    "    if p_values[indices][i] < 0.05: \n",
    "        if importance[indices][i] > 0:\n",
    "            plt.text(importance[indices][i] * 1.01, i, f'{np.round(importance[indices][i],3)}{pvalue}', va='center', fontsize=14)\n",
    "        else:\n",
    "            plt.text(0.001, i, f'{np.round(importance[indices][i],3)}{pvalue}', va='center', fontsize=14)\n",
    "        \n",
    "\n",
    "y_labels = plt.yticks(range(len(importance)), features[indices], fontsize=16)\n",
    "for i in range(len(importance)):\n",
    "    if p_values[indices][i] > 0.05:\n",
    "        y_labels[1][i].set_color('firebrick')\n",
    "\n",
    "ax = plt.gca()\n",
    "ax.grid(True, axis='y', linestyle='--', alpha=0.7)\n",
    "ax.set_axisbelow(True)\n",
    "ax.spines['top'].set_visible(False)\n",
    "ax.spines['right'].set_visible(False)\n",
    "ax.spines['left'].set_visible(False)\n",
    "ax.spines['bottom'].set_visible(False)\n",
    "ax.tick_params(axis='y', which='both', length=0)\n",
    "plt.tick_params(axis='x', which='both', bottom=False, top=False, labelbottom=False) \n",
    "plt.xlabel('')\n",
    "plt.title('')\n",
    "plt.tight_layout()\n",
    "plt.show()\n"
   ]
  }
 ],
 "metadata": {
  "kernelspec": {
   "display_name": ".venv",
   "language": "python",
   "name": "python3"
  },
  "language_info": {
   "codemirror_mode": {
    "name": "ipython",
    "version": 3
   },
   "file_extension": ".py",
   "mimetype": "text/x-python",
   "name": "python",
   "nbconvert_exporter": "python",
   "pygments_lexer": "ipython3",
   "version": "3.12.3"
  }
 },
 "nbformat": 4,
 "nbformat_minor": 2
}
