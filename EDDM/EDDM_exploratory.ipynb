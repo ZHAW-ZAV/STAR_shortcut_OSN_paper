{
 "cells": [
  {
   "cell_type": "code",
   "execution_count": 2,
   "metadata": {},
   "outputs": [
    {
     "name": "stderr",
     "output_type": "stream",
     "text": [
      "/home/jan/STAR_shortcut_OSN_paper/.venv/lib/python3.12/site-packages/tqdm/auto.py:21: TqdmWarning: IProgress not found. Please update jupyter and ipywidgets. See https://ipywidgets.readthedocs.io/en/stable/user_install.html\n",
      "  from .autonotebook import tqdm as notebook_tqdm\n"
     ]
    }
   ],
   "source": [
    "from traffic.core import Traffic\n",
    "from traffic.data import airports, navaids\n",
    "import plotly.graph_objects as go"
   ]
  },
  {
   "cell_type": "code",
   "execution_count": 19,
   "metadata": {},
   "outputs": [
    {
     "data": {
      "application/vnd.plotly.v1+json": {
       "config": {
        "plotlyServerURL": "https://plot.ly"
       },
       "data": [
        {
         "lat": [
          48.14416667,
          48.180389,
          48.29031667,
          48.37629167,
          48.34479904174805
         ],
         "line": {
          "color": "#ff7f0e",
          "width": 10
         },
         "lon": [
          12.34555556,
          11.816528,
          12.24032222,
          12.22625556,
          11.80459976196289
         ],
         "mode": "lines",
         "name": "NAPSA1B  ",
         "opacity": 0.4,
         "showlegend": true,
         "type": "scattermapbox"
        },
        {
         "lat": [
          48.14416667
         ],
         "lon": [
          12.34555556
         ],
         "marker": {
          "color": "#ff7f0e",
          "size": 10
         },
         "mode": "markers+text",
         "name": "NAPSA",
         "showlegend": false,
         "text": [
          "NAPSA"
         ],
         "textfont": {
          "color": "#ff7f0e",
          "size": 30
         },
         "textposition": "bottom right",
         "type": "scattermapbox"
        },
        {
         "lat": [
          48.59636111,
          48.570225,
          48.48268611,
          48.39835833,
          48.36690139770508
         ],
         "line": {
          "color": "#2ca02c",
          "width": 10
         },
         "lon": [
          12.27392778,
          11.59750278,
          12.22917778,
          12.24301111,
          11.821200370788574
         ],
         "mode": "lines",
         "name": "LANDU1B  ",
         "opacity": 0.4,
         "showlegend": true,
         "type": "scattermapbox"
        },
        {
         "lat": [
          48.59636111
         ],
         "lon": [
          12.27392778
         ],
         "marker": {
          "color": "#2ca02c",
          "size": 10
         },
         "mode": "markers+text",
         "name": "LANDU",
         "showlegend": false,
         "text": [
          "LANDU"
         ],
         "textfont": {
          "color": "#2ca02c",
          "size": 30
         },
         "textposition": "top right",
         "type": "scattermapbox"
        },
        {
         "lat": [
          48.51331389,
          48.570225,
          48.413675,
          48.32947222,
          48.36280059814453
         ],
         "line": {
          "color": "#d62728",
          "width": 10
         },
         "lon": [
          11.196725,
          11.59750278,
          11.33111389,
          11.34648889,
          11.767600059509276
         ],
         "mode": "lines",
         "name": "ROKIL1A  ",
         "opacity": 0.4,
         "showlegend": true,
         "type": "scattermapbox"
        },
        {
         "lat": [
          48.51331389
         ],
         "lon": [
          11.196725
         ],
         "marker": {
          "color": "#d62728",
          "size": 10
         },
         "mode": "markers+text",
         "name": "ROKIL",
         "showlegend": false,
         "text": [
          "ROKIL"
         ],
         "textfont": {
          "color": "#d62728",
          "size": 30
         },
         "textposition": "top left",
         "type": "scattermapbox"
        },
        {
         "lat": [
          48.06805556,
          48.180389,
          48.22150278,
          48.30734722,
          48.3406982421875
         ],
         "line": {
          "color": "#1f77b4",
          "width": 10
         },
         "lon": [
          11.35,
          11.816528,
          11.34563333,
          11.33000833,
          11.75100040435791
         ],
         "mode": "lines",
         "name": "BETOS1A  ",
         "opacity": 0.4,
         "showlegend": true,
         "type": "scattermapbox"
        },
        {
         "lat": [
          48.06805556
         ],
         "lon": [
          11.35
         ],
         "marker": {
          "color": "#1f77b4",
          "size": 10
         },
         "mode": "markers+text",
         "name": "BETOS",
         "showlegend": false,
         "text": [
          "BETOS"
         ],
         "textfont": {
          "color": "#1f77b4",
          "size": 30
         },
         "textposition": "bottom left",
         "type": "scattermapbox"
        }
       ],
       "layout": {
        "height": 700,
        "legend": {
         "bgcolor": "rgba(255, 255, 255, 0.7)",
         "font": {
          "size": 30
         },
         "orientation": "h",
         "traceorder": "normal",
         "x": 0.5,
         "xanchor": "center",
         "y": -0.008
        },
        "mapbox": {
         "center": {
          "lat": 48.353865705653575,
          "lon": 11.788325035229505
         },
         "style": "carto-positron",
         "zoom": 8.8
        },
        "margin": {
         "b": 0,
         "l": 0,
         "r": 0,
         "t": 0
        },
        "template": {
         "data": {
          "bar": [
           {
            "error_x": {
             "color": "#2a3f5f"
            },
            "error_y": {
             "color": "#2a3f5f"
            },
            "marker": {
             "line": {
              "color": "#E5ECF6",
              "width": 0.5
             },
             "pattern": {
              "fillmode": "overlay",
              "size": 10,
              "solidity": 0.2
             }
            },
            "type": "bar"
           }
          ],
          "barpolar": [
           {
            "marker": {
             "line": {
              "color": "#E5ECF6",
              "width": 0.5
             },
             "pattern": {
              "fillmode": "overlay",
              "size": 10,
              "solidity": 0.2
             }
            },
            "type": "barpolar"
           }
          ],
          "carpet": [
           {
            "aaxis": {
             "endlinecolor": "#2a3f5f",
             "gridcolor": "white",
             "linecolor": "white",
             "minorgridcolor": "white",
             "startlinecolor": "#2a3f5f"
            },
            "baxis": {
             "endlinecolor": "#2a3f5f",
             "gridcolor": "white",
             "linecolor": "white",
             "minorgridcolor": "white",
             "startlinecolor": "#2a3f5f"
            },
            "type": "carpet"
           }
          ],
          "choropleth": [
           {
            "colorbar": {
             "outlinewidth": 0,
             "ticks": ""
            },
            "type": "choropleth"
           }
          ],
          "contour": [
           {
            "colorbar": {
             "outlinewidth": 0,
             "ticks": ""
            },
            "colorscale": [
             [
              0,
              "#0d0887"
             ],
             [
              0.1111111111111111,
              "#46039f"
             ],
             [
              0.2222222222222222,
              "#7201a8"
             ],
             [
              0.3333333333333333,
              "#9c179e"
             ],
             [
              0.4444444444444444,
              "#bd3786"
             ],
             [
              0.5555555555555556,
              "#d8576b"
             ],
             [
              0.6666666666666666,
              "#ed7953"
             ],
             [
              0.7777777777777778,
              "#fb9f3a"
             ],
             [
              0.8888888888888888,
              "#fdca26"
             ],
             [
              1,
              "#f0f921"
             ]
            ],
            "type": "contour"
           }
          ],
          "contourcarpet": [
           {
            "colorbar": {
             "outlinewidth": 0,
             "ticks": ""
            },
            "type": "contourcarpet"
           }
          ],
          "heatmap": [
           {
            "colorbar": {
             "outlinewidth": 0,
             "ticks": ""
            },
            "colorscale": [
             [
              0,
              "#0d0887"
             ],
             [
              0.1111111111111111,
              "#46039f"
             ],
             [
              0.2222222222222222,
              "#7201a8"
             ],
             [
              0.3333333333333333,
              "#9c179e"
             ],
             [
              0.4444444444444444,
              "#bd3786"
             ],
             [
              0.5555555555555556,
              "#d8576b"
             ],
             [
              0.6666666666666666,
              "#ed7953"
             ],
             [
              0.7777777777777778,
              "#fb9f3a"
             ],
             [
              0.8888888888888888,
              "#fdca26"
             ],
             [
              1,
              "#f0f921"
             ]
            ],
            "type": "heatmap"
           }
          ],
          "heatmapgl": [
           {
            "colorbar": {
             "outlinewidth": 0,
             "ticks": ""
            },
            "colorscale": [
             [
              0,
              "#0d0887"
             ],
             [
              0.1111111111111111,
              "#46039f"
             ],
             [
              0.2222222222222222,
              "#7201a8"
             ],
             [
              0.3333333333333333,
              "#9c179e"
             ],
             [
              0.4444444444444444,
              "#bd3786"
             ],
             [
              0.5555555555555556,
              "#d8576b"
             ],
             [
              0.6666666666666666,
              "#ed7953"
             ],
             [
              0.7777777777777778,
              "#fb9f3a"
             ],
             [
              0.8888888888888888,
              "#fdca26"
             ],
             [
              1,
              "#f0f921"
             ]
            ],
            "type": "heatmapgl"
           }
          ],
          "histogram": [
           {
            "marker": {
             "pattern": {
              "fillmode": "overlay",
              "size": 10,
              "solidity": 0.2
             }
            },
            "type": "histogram"
           }
          ],
          "histogram2d": [
           {
            "colorbar": {
             "outlinewidth": 0,
             "ticks": ""
            },
            "colorscale": [
             [
              0,
              "#0d0887"
             ],
             [
              0.1111111111111111,
              "#46039f"
             ],
             [
              0.2222222222222222,
              "#7201a8"
             ],
             [
              0.3333333333333333,
              "#9c179e"
             ],
             [
              0.4444444444444444,
              "#bd3786"
             ],
             [
              0.5555555555555556,
              "#d8576b"
             ],
             [
              0.6666666666666666,
              "#ed7953"
             ],
             [
              0.7777777777777778,
              "#fb9f3a"
             ],
             [
              0.8888888888888888,
              "#fdca26"
             ],
             [
              1,
              "#f0f921"
             ]
            ],
            "type": "histogram2d"
           }
          ],
          "histogram2dcontour": [
           {
            "colorbar": {
             "outlinewidth": 0,
             "ticks": ""
            },
            "colorscale": [
             [
              0,
              "#0d0887"
             ],
             [
              0.1111111111111111,
              "#46039f"
             ],
             [
              0.2222222222222222,
              "#7201a8"
             ],
             [
              0.3333333333333333,
              "#9c179e"
             ],
             [
              0.4444444444444444,
              "#bd3786"
             ],
             [
              0.5555555555555556,
              "#d8576b"
             ],
             [
              0.6666666666666666,
              "#ed7953"
             ],
             [
              0.7777777777777778,
              "#fb9f3a"
             ],
             [
              0.8888888888888888,
              "#fdca26"
             ],
             [
              1,
              "#f0f921"
             ]
            ],
            "type": "histogram2dcontour"
           }
          ],
          "mesh3d": [
           {
            "colorbar": {
             "outlinewidth": 0,
             "ticks": ""
            },
            "type": "mesh3d"
           }
          ],
          "parcoords": [
           {
            "line": {
             "colorbar": {
              "outlinewidth": 0,
              "ticks": ""
             }
            },
            "type": "parcoords"
           }
          ],
          "pie": [
           {
            "automargin": true,
            "type": "pie"
           }
          ],
          "scatter": [
           {
            "fillpattern": {
             "fillmode": "overlay",
             "size": 10,
             "solidity": 0.2
            },
            "type": "scatter"
           }
          ],
          "scatter3d": [
           {
            "line": {
             "colorbar": {
              "outlinewidth": 0,
              "ticks": ""
             }
            },
            "marker": {
             "colorbar": {
              "outlinewidth": 0,
              "ticks": ""
             }
            },
            "type": "scatter3d"
           }
          ],
          "scattercarpet": [
           {
            "marker": {
             "colorbar": {
              "outlinewidth": 0,
              "ticks": ""
             }
            },
            "type": "scattercarpet"
           }
          ],
          "scattergeo": [
           {
            "marker": {
             "colorbar": {
              "outlinewidth": 0,
              "ticks": ""
             }
            },
            "type": "scattergeo"
           }
          ],
          "scattergl": [
           {
            "marker": {
             "colorbar": {
              "outlinewidth": 0,
              "ticks": ""
             }
            },
            "type": "scattergl"
           }
          ],
          "scattermapbox": [
           {
            "marker": {
             "colorbar": {
              "outlinewidth": 0,
              "ticks": ""
             }
            },
            "type": "scattermapbox"
           }
          ],
          "scatterpolar": [
           {
            "marker": {
             "colorbar": {
              "outlinewidth": 0,
              "ticks": ""
             }
            },
            "type": "scatterpolar"
           }
          ],
          "scatterpolargl": [
           {
            "marker": {
             "colorbar": {
              "outlinewidth": 0,
              "ticks": ""
             }
            },
            "type": "scatterpolargl"
           }
          ],
          "scatterternary": [
           {
            "marker": {
             "colorbar": {
              "outlinewidth": 0,
              "ticks": ""
             }
            },
            "type": "scatterternary"
           }
          ],
          "surface": [
           {
            "colorbar": {
             "outlinewidth": 0,
             "ticks": ""
            },
            "colorscale": [
             [
              0,
              "#0d0887"
             ],
             [
              0.1111111111111111,
              "#46039f"
             ],
             [
              0.2222222222222222,
              "#7201a8"
             ],
             [
              0.3333333333333333,
              "#9c179e"
             ],
             [
              0.4444444444444444,
              "#bd3786"
             ],
             [
              0.5555555555555556,
              "#d8576b"
             ],
             [
              0.6666666666666666,
              "#ed7953"
             ],
             [
              0.7777777777777778,
              "#fb9f3a"
             ],
             [
              0.8888888888888888,
              "#fdca26"
             ],
             [
              1,
              "#f0f921"
             ]
            ],
            "type": "surface"
           }
          ],
          "table": [
           {
            "cells": {
             "fill": {
              "color": "#EBF0F8"
             },
             "line": {
              "color": "white"
             }
            },
            "header": {
             "fill": {
              "color": "#C8D4E3"
             },
             "line": {
              "color": "white"
             }
            },
            "type": "table"
           }
          ]
         },
         "layout": {
          "annotationdefaults": {
           "arrowcolor": "#2a3f5f",
           "arrowhead": 0,
           "arrowwidth": 1
          },
          "autotypenumbers": "strict",
          "coloraxis": {
           "colorbar": {
            "outlinewidth": 0,
            "ticks": ""
           }
          },
          "colorscale": {
           "diverging": [
            [
             0,
             "#8e0152"
            ],
            [
             0.1,
             "#c51b7d"
            ],
            [
             0.2,
             "#de77ae"
            ],
            [
             0.3,
             "#f1b6da"
            ],
            [
             0.4,
             "#fde0ef"
            ],
            [
             0.5,
             "#f7f7f7"
            ],
            [
             0.6,
             "#e6f5d0"
            ],
            [
             0.7,
             "#b8e186"
            ],
            [
             0.8,
             "#7fbc41"
            ],
            [
             0.9,
             "#4d9221"
            ],
            [
             1,
             "#276419"
            ]
           ],
           "sequential": [
            [
             0,
             "#0d0887"
            ],
            [
             0.1111111111111111,
             "#46039f"
            ],
            [
             0.2222222222222222,
             "#7201a8"
            ],
            [
             0.3333333333333333,
             "#9c179e"
            ],
            [
             0.4444444444444444,
             "#bd3786"
            ],
            [
             0.5555555555555556,
             "#d8576b"
            ],
            [
             0.6666666666666666,
             "#ed7953"
            ],
            [
             0.7777777777777778,
             "#fb9f3a"
            ],
            [
             0.8888888888888888,
             "#fdca26"
            ],
            [
             1,
             "#f0f921"
            ]
           ],
           "sequentialminus": [
            [
             0,
             "#0d0887"
            ],
            [
             0.1111111111111111,
             "#46039f"
            ],
            [
             0.2222222222222222,
             "#7201a8"
            ],
            [
             0.3333333333333333,
             "#9c179e"
            ],
            [
             0.4444444444444444,
             "#bd3786"
            ],
            [
             0.5555555555555556,
             "#d8576b"
            ],
            [
             0.6666666666666666,
             "#ed7953"
            ],
            [
             0.7777777777777778,
             "#fb9f3a"
            ],
            [
             0.8888888888888888,
             "#fdca26"
            ],
            [
             1,
             "#f0f921"
            ]
           ]
          },
          "colorway": [
           "#636efa",
           "#EF553B",
           "#00cc96",
           "#ab63fa",
           "#FFA15A",
           "#19d3f3",
           "#FF6692",
           "#B6E880",
           "#FF97FF",
           "#FECB52"
          ],
          "font": {
           "color": "#2a3f5f"
          },
          "geo": {
           "bgcolor": "white",
           "lakecolor": "white",
           "landcolor": "#E5ECF6",
           "showlakes": true,
           "showland": true,
           "subunitcolor": "white"
          },
          "hoverlabel": {
           "align": "left"
          },
          "hovermode": "closest",
          "mapbox": {
           "style": "light"
          },
          "paper_bgcolor": "white",
          "plot_bgcolor": "#E5ECF6",
          "polar": {
           "angularaxis": {
            "gridcolor": "white",
            "linecolor": "white",
            "ticks": ""
           },
           "bgcolor": "#E5ECF6",
           "radialaxis": {
            "gridcolor": "white",
            "linecolor": "white",
            "ticks": ""
           }
          },
          "scene": {
           "xaxis": {
            "backgroundcolor": "#E5ECF6",
            "gridcolor": "white",
            "gridwidth": 2,
            "linecolor": "white",
            "showbackground": true,
            "ticks": "",
            "zerolinecolor": "white"
           },
           "yaxis": {
            "backgroundcolor": "#E5ECF6",
            "gridcolor": "white",
            "gridwidth": 2,
            "linecolor": "white",
            "showbackground": true,
            "ticks": "",
            "zerolinecolor": "white"
           },
           "zaxis": {
            "backgroundcolor": "#E5ECF6",
            "gridcolor": "white",
            "gridwidth": 2,
            "linecolor": "white",
            "showbackground": true,
            "ticks": "",
            "zerolinecolor": "white"
           }
          },
          "shapedefaults": {
           "line": {
            "color": "#2a3f5f"
           }
          },
          "ternary": {
           "aaxis": {
            "gridcolor": "white",
            "linecolor": "white",
            "ticks": ""
           },
           "baxis": {
            "gridcolor": "white",
            "linecolor": "white",
            "ticks": ""
           },
           "bgcolor": "#E5ECF6",
           "caxis": {
            "gridcolor": "white",
            "linecolor": "white",
            "ticks": ""
           }
          },
          "title": {
           "x": 0.05
          },
          "xaxis": {
           "automargin": true,
           "gridcolor": "white",
           "linecolor": "white",
           "ticks": "",
           "title": {
            "standoff": 15
           },
           "zerolinecolor": "white",
           "zerolinewidth": 2
          },
          "yaxis": {
           "automargin": true,
           "gridcolor": "white",
           "linecolor": "white",
           "ticks": "",
           "title": {
            "standoff": 15
           },
           "zerolinecolor": "white",
           "zerolinewidth": 2
          }
         }
        },
        "width": 1000
       }
      },
      "text/html": [
       "<div>                            <div id=\"9127fcd9-9faa-45ac-af1c-42c46af23531\" class=\"plotly-graph-div\" style=\"height:700px; width:1000px;\"></div>            <script type=\"text/javascript\">                require([\"plotly\"], function(Plotly) {                    window.PLOTLYENV=window.PLOTLYENV || {};                                    if (document.getElementById(\"9127fcd9-9faa-45ac-af1c-42c46af23531\")) {                    Plotly.newPlot(                        \"9127fcd9-9faa-45ac-af1c-42c46af23531\",                        [{\"lat\":[48.14416667,48.180389,48.29031667,48.37629167,48.34479904174805],\"line\":{\"color\":\"#ff7f0e\",\"width\":10},\"lon\":[12.34555556,11.816528,12.24032222,12.22625556,11.80459976196289],\"mode\":\"lines\",\"name\":\"NAPSA1B  \",\"opacity\":0.4,\"showlegend\":true,\"type\":\"scattermapbox\"},{\"lat\":[48.14416667],\"lon\":[12.34555556],\"marker\":{\"color\":\"#ff7f0e\",\"size\":10},\"mode\":\"markers+text\",\"name\":\"NAPSA\",\"showlegend\":false,\"text\":[\"NAPSA\"],\"textfont\":{\"color\":\"#ff7f0e\",\"size\":30},\"textposition\":\"bottom right\",\"type\":\"scattermapbox\"},{\"lat\":[48.59636111,48.570225,48.48268611,48.39835833,48.36690139770508],\"line\":{\"color\":\"#2ca02c\",\"width\":10},\"lon\":[12.27392778,11.59750278,12.22917778,12.24301111,11.821200370788574],\"mode\":\"lines\",\"name\":\"LANDU1B  \",\"opacity\":0.4,\"showlegend\":true,\"type\":\"scattermapbox\"},{\"lat\":[48.59636111],\"lon\":[12.27392778],\"marker\":{\"color\":\"#2ca02c\",\"size\":10},\"mode\":\"markers+text\",\"name\":\"LANDU\",\"showlegend\":false,\"text\":[\"LANDU\"],\"textfont\":{\"color\":\"#2ca02c\",\"size\":30},\"textposition\":\"top right\",\"type\":\"scattermapbox\"},{\"lat\":[48.51331389,48.570225,48.413675,48.32947222,48.36280059814453],\"line\":{\"color\":\"#d62728\",\"width\":10},\"lon\":[11.196725,11.59750278,11.33111389,11.34648889,11.767600059509276],\"mode\":\"lines\",\"name\":\"ROKIL1A  \",\"opacity\":0.4,\"showlegend\":true,\"type\":\"scattermapbox\"},{\"lat\":[48.51331389],\"lon\":[11.196725],\"marker\":{\"color\":\"#d62728\",\"size\":10},\"mode\":\"markers+text\",\"name\":\"ROKIL\",\"showlegend\":false,\"text\":[\"ROKIL\"],\"textfont\":{\"color\":\"#d62728\",\"size\":30},\"textposition\":\"top left\",\"type\":\"scattermapbox\"},{\"lat\":[48.06805556,48.180389,48.22150278,48.30734722,48.3406982421875],\"line\":{\"color\":\"#1f77b4\",\"width\":10},\"lon\":[11.35,11.816528,11.34563333,11.33000833,11.75100040435791],\"mode\":\"lines\",\"name\":\"BETOS1A  \",\"opacity\":0.4,\"showlegend\":true,\"type\":\"scattermapbox\"},{\"lat\":[48.06805556],\"lon\":[11.35],\"marker\":{\"color\":\"#1f77b4\",\"size\":10},\"mode\":\"markers+text\",\"name\":\"BETOS\",\"showlegend\":false,\"text\":[\"BETOS\"],\"textfont\":{\"color\":\"#1f77b4\",\"size\":30},\"textposition\":\"bottom left\",\"type\":\"scattermapbox\"}],                        {\"template\":{\"data\":{\"histogram2dcontour\":[{\"type\":\"histogram2dcontour\",\"colorbar\":{\"outlinewidth\":0,\"ticks\":\"\"},\"colorscale\":[[0.0,\"#0d0887\"],[0.1111111111111111,\"#46039f\"],[0.2222222222222222,\"#7201a8\"],[0.3333333333333333,\"#9c179e\"],[0.4444444444444444,\"#bd3786\"],[0.5555555555555556,\"#d8576b\"],[0.6666666666666666,\"#ed7953\"],[0.7777777777777778,\"#fb9f3a\"],[0.8888888888888888,\"#fdca26\"],[1.0,\"#f0f921\"]]}],\"choropleth\":[{\"type\":\"choropleth\",\"colorbar\":{\"outlinewidth\":0,\"ticks\":\"\"}}],\"histogram2d\":[{\"type\":\"histogram2d\",\"colorbar\":{\"outlinewidth\":0,\"ticks\":\"\"},\"colorscale\":[[0.0,\"#0d0887\"],[0.1111111111111111,\"#46039f\"],[0.2222222222222222,\"#7201a8\"],[0.3333333333333333,\"#9c179e\"],[0.4444444444444444,\"#bd3786\"],[0.5555555555555556,\"#d8576b\"],[0.6666666666666666,\"#ed7953\"],[0.7777777777777778,\"#fb9f3a\"],[0.8888888888888888,\"#fdca26\"],[1.0,\"#f0f921\"]]}],\"heatmap\":[{\"type\":\"heatmap\",\"colorbar\":{\"outlinewidth\":0,\"ticks\":\"\"},\"colorscale\":[[0.0,\"#0d0887\"],[0.1111111111111111,\"#46039f\"],[0.2222222222222222,\"#7201a8\"],[0.3333333333333333,\"#9c179e\"],[0.4444444444444444,\"#bd3786\"],[0.5555555555555556,\"#d8576b\"],[0.6666666666666666,\"#ed7953\"],[0.7777777777777778,\"#fb9f3a\"],[0.8888888888888888,\"#fdca26\"],[1.0,\"#f0f921\"]]}],\"heatmapgl\":[{\"type\":\"heatmapgl\",\"colorbar\":{\"outlinewidth\":0,\"ticks\":\"\"},\"colorscale\":[[0.0,\"#0d0887\"],[0.1111111111111111,\"#46039f\"],[0.2222222222222222,\"#7201a8\"],[0.3333333333333333,\"#9c179e\"],[0.4444444444444444,\"#bd3786\"],[0.5555555555555556,\"#d8576b\"],[0.6666666666666666,\"#ed7953\"],[0.7777777777777778,\"#fb9f3a\"],[0.8888888888888888,\"#fdca26\"],[1.0,\"#f0f921\"]]}],\"contourcarpet\":[{\"type\":\"contourcarpet\",\"colorbar\":{\"outlinewidth\":0,\"ticks\":\"\"}}],\"contour\":[{\"type\":\"contour\",\"colorbar\":{\"outlinewidth\":0,\"ticks\":\"\"},\"colorscale\":[[0.0,\"#0d0887\"],[0.1111111111111111,\"#46039f\"],[0.2222222222222222,\"#7201a8\"],[0.3333333333333333,\"#9c179e\"],[0.4444444444444444,\"#bd3786\"],[0.5555555555555556,\"#d8576b\"],[0.6666666666666666,\"#ed7953\"],[0.7777777777777778,\"#fb9f3a\"],[0.8888888888888888,\"#fdca26\"],[1.0,\"#f0f921\"]]}],\"surface\":[{\"type\":\"surface\",\"colorbar\":{\"outlinewidth\":0,\"ticks\":\"\"},\"colorscale\":[[0.0,\"#0d0887\"],[0.1111111111111111,\"#46039f\"],[0.2222222222222222,\"#7201a8\"],[0.3333333333333333,\"#9c179e\"],[0.4444444444444444,\"#bd3786\"],[0.5555555555555556,\"#d8576b\"],[0.6666666666666666,\"#ed7953\"],[0.7777777777777778,\"#fb9f3a\"],[0.8888888888888888,\"#fdca26\"],[1.0,\"#f0f921\"]]}],\"mesh3d\":[{\"type\":\"mesh3d\",\"colorbar\":{\"outlinewidth\":0,\"ticks\":\"\"}}],\"scatter\":[{\"fillpattern\":{\"fillmode\":\"overlay\",\"size\":10,\"solidity\":0.2},\"type\":\"scatter\"}],\"parcoords\":[{\"type\":\"parcoords\",\"line\":{\"colorbar\":{\"outlinewidth\":0,\"ticks\":\"\"}}}],\"scatterpolargl\":[{\"type\":\"scatterpolargl\",\"marker\":{\"colorbar\":{\"outlinewidth\":0,\"ticks\":\"\"}}}],\"bar\":[{\"error_x\":{\"color\":\"#2a3f5f\"},\"error_y\":{\"color\":\"#2a3f5f\"},\"marker\":{\"line\":{\"color\":\"#E5ECF6\",\"width\":0.5},\"pattern\":{\"fillmode\":\"overlay\",\"size\":10,\"solidity\":0.2}},\"type\":\"bar\"}],\"scattergeo\":[{\"type\":\"scattergeo\",\"marker\":{\"colorbar\":{\"outlinewidth\":0,\"ticks\":\"\"}}}],\"scatterpolar\":[{\"type\":\"scatterpolar\",\"marker\":{\"colorbar\":{\"outlinewidth\":0,\"ticks\":\"\"}}}],\"histogram\":[{\"marker\":{\"pattern\":{\"fillmode\":\"overlay\",\"size\":10,\"solidity\":0.2}},\"type\":\"histogram\"}],\"scattergl\":[{\"type\":\"scattergl\",\"marker\":{\"colorbar\":{\"outlinewidth\":0,\"ticks\":\"\"}}}],\"scatter3d\":[{\"type\":\"scatter3d\",\"line\":{\"colorbar\":{\"outlinewidth\":0,\"ticks\":\"\"}},\"marker\":{\"colorbar\":{\"outlinewidth\":0,\"ticks\":\"\"}}}],\"scattermapbox\":[{\"type\":\"scattermapbox\",\"marker\":{\"colorbar\":{\"outlinewidth\":0,\"ticks\":\"\"}}}],\"scatterternary\":[{\"type\":\"scatterternary\",\"marker\":{\"colorbar\":{\"outlinewidth\":0,\"ticks\":\"\"}}}],\"scattercarpet\":[{\"type\":\"scattercarpet\",\"marker\":{\"colorbar\":{\"outlinewidth\":0,\"ticks\":\"\"}}}],\"carpet\":[{\"aaxis\":{\"endlinecolor\":\"#2a3f5f\",\"gridcolor\":\"white\",\"linecolor\":\"white\",\"minorgridcolor\":\"white\",\"startlinecolor\":\"#2a3f5f\"},\"baxis\":{\"endlinecolor\":\"#2a3f5f\",\"gridcolor\":\"white\",\"linecolor\":\"white\",\"minorgridcolor\":\"white\",\"startlinecolor\":\"#2a3f5f\"},\"type\":\"carpet\"}],\"table\":[{\"cells\":{\"fill\":{\"color\":\"#EBF0F8\"},\"line\":{\"color\":\"white\"}},\"header\":{\"fill\":{\"color\":\"#C8D4E3\"},\"line\":{\"color\":\"white\"}},\"type\":\"table\"}],\"barpolar\":[{\"marker\":{\"line\":{\"color\":\"#E5ECF6\",\"width\":0.5},\"pattern\":{\"fillmode\":\"overlay\",\"size\":10,\"solidity\":0.2}},\"type\":\"barpolar\"}],\"pie\":[{\"automargin\":true,\"type\":\"pie\"}]},\"layout\":{\"autotypenumbers\":\"strict\",\"colorway\":[\"#636efa\",\"#EF553B\",\"#00cc96\",\"#ab63fa\",\"#FFA15A\",\"#19d3f3\",\"#FF6692\",\"#B6E880\",\"#FF97FF\",\"#FECB52\"],\"font\":{\"color\":\"#2a3f5f\"},\"hovermode\":\"closest\",\"hoverlabel\":{\"align\":\"left\"},\"paper_bgcolor\":\"white\",\"plot_bgcolor\":\"#E5ECF6\",\"polar\":{\"bgcolor\":\"#E5ECF6\",\"angularaxis\":{\"gridcolor\":\"white\",\"linecolor\":\"white\",\"ticks\":\"\"},\"radialaxis\":{\"gridcolor\":\"white\",\"linecolor\":\"white\",\"ticks\":\"\"}},\"ternary\":{\"bgcolor\":\"#E5ECF6\",\"aaxis\":{\"gridcolor\":\"white\",\"linecolor\":\"white\",\"ticks\":\"\"},\"baxis\":{\"gridcolor\":\"white\",\"linecolor\":\"white\",\"ticks\":\"\"},\"caxis\":{\"gridcolor\":\"white\",\"linecolor\":\"white\",\"ticks\":\"\"}},\"coloraxis\":{\"colorbar\":{\"outlinewidth\":0,\"ticks\":\"\"}},\"colorscale\":{\"sequential\":[[0.0,\"#0d0887\"],[0.1111111111111111,\"#46039f\"],[0.2222222222222222,\"#7201a8\"],[0.3333333333333333,\"#9c179e\"],[0.4444444444444444,\"#bd3786\"],[0.5555555555555556,\"#d8576b\"],[0.6666666666666666,\"#ed7953\"],[0.7777777777777778,\"#fb9f3a\"],[0.8888888888888888,\"#fdca26\"],[1.0,\"#f0f921\"]],\"sequentialminus\":[[0.0,\"#0d0887\"],[0.1111111111111111,\"#46039f\"],[0.2222222222222222,\"#7201a8\"],[0.3333333333333333,\"#9c179e\"],[0.4444444444444444,\"#bd3786\"],[0.5555555555555556,\"#d8576b\"],[0.6666666666666666,\"#ed7953\"],[0.7777777777777778,\"#fb9f3a\"],[0.8888888888888888,\"#fdca26\"],[1.0,\"#f0f921\"]],\"diverging\":[[0,\"#8e0152\"],[0.1,\"#c51b7d\"],[0.2,\"#de77ae\"],[0.3,\"#f1b6da\"],[0.4,\"#fde0ef\"],[0.5,\"#f7f7f7\"],[0.6,\"#e6f5d0\"],[0.7,\"#b8e186\"],[0.8,\"#7fbc41\"],[0.9,\"#4d9221\"],[1,\"#276419\"]]},\"xaxis\":{\"gridcolor\":\"white\",\"linecolor\":\"white\",\"ticks\":\"\",\"title\":{\"standoff\":15},\"zerolinecolor\":\"white\",\"automargin\":true,\"zerolinewidth\":2},\"yaxis\":{\"gridcolor\":\"white\",\"linecolor\":\"white\",\"ticks\":\"\",\"title\":{\"standoff\":15},\"zerolinecolor\":\"white\",\"automargin\":true,\"zerolinewidth\":2},\"scene\":{\"xaxis\":{\"backgroundcolor\":\"#E5ECF6\",\"gridcolor\":\"white\",\"linecolor\":\"white\",\"showbackground\":true,\"ticks\":\"\",\"zerolinecolor\":\"white\",\"gridwidth\":2},\"yaxis\":{\"backgroundcolor\":\"#E5ECF6\",\"gridcolor\":\"white\",\"linecolor\":\"white\",\"showbackground\":true,\"ticks\":\"\",\"zerolinecolor\":\"white\",\"gridwidth\":2},\"zaxis\":{\"backgroundcolor\":\"#E5ECF6\",\"gridcolor\":\"white\",\"linecolor\":\"white\",\"showbackground\":true,\"ticks\":\"\",\"zerolinecolor\":\"white\",\"gridwidth\":2}},\"shapedefaults\":{\"line\":{\"color\":\"#2a3f5f\"}},\"annotationdefaults\":{\"arrowcolor\":\"#2a3f5f\",\"arrowhead\":0,\"arrowwidth\":1},\"geo\":{\"bgcolor\":\"white\",\"landcolor\":\"#E5ECF6\",\"subunitcolor\":\"white\",\"showland\":true,\"showlakes\":true,\"lakecolor\":\"white\"},\"title\":{\"x\":0.05},\"mapbox\":{\"style\":\"light\"}}},\"margin\":{\"l\":0,\"r\":0,\"t\":0,\"b\":0},\"mapbox\":{\"center\":{\"lat\":48.353865705653575,\"lon\":11.788325035229505},\"style\":\"carto-positron\",\"zoom\":8.8},\"legend\":{\"font\":{\"size\":30},\"x\":0.5,\"y\":-0.008,\"xanchor\":\"center\",\"orientation\":\"h\",\"traceorder\":\"normal\",\"bgcolor\":\"rgba(255, 255, 255, 0.7)\"},\"width\":1000,\"height\":700},                        {\"responsive\": true}                    ).then(function(){\n",
       "                            \n",
       "var gd = document.getElementById('9127fcd9-9faa-45ac-af1c-42c46af23531');\n",
       "var x = new MutationObserver(function (mutations, observer) {{\n",
       "        var display = window.getComputedStyle(gd).display;\n",
       "        if (!display || display === 'none') {{\n",
       "            console.log([gd, 'removed!']);\n",
       "            Plotly.purge(gd);\n",
       "            observer.disconnect();\n",
       "        }}\n",
       "}});\n",
       "\n",
       "// Listen for the removal of the full notebook cells\n",
       "var notebookContainer = gd.closest('#notebook-container');\n",
       "if (notebookContainer) {{\n",
       "    x.observe(notebookContainer, {childList: true});\n",
       "}}\n",
       "\n",
       "// Listen for the clearing of the current output cell\n",
       "var outputEl = gd.closest('.output');\n",
       "if (outputEl) {{\n",
       "    x.observe(outputEl, {childList: true});\n",
       "}}\n",
       "\n",
       "                        })                };                });            </script>        </div>"
      ]
     },
     "metadata": {},
     "output_type": "display_data"
    }
   ],
   "source": [
    "# Create a single figure for the map\n",
    "fig = go.Figure()\n",
    "\n",
    "# Add NAPSA1B STAR ---------------------------------------------------------------------------------------------------\n",
    "star_lat = [\n",
    "    navaids[\"NAPSA\"].latitude,\n",
    "    48.180389, # OTT\n",
    "    navaids[\"DM458\"].latitude,\n",
    "    navaids[\"DM448\"].latitude,\n",
    "    airports[\"EDDM\"].runways.data.query(f\"name == '26L'\").latitude.iloc[0],\n",
    "]\n",
    "star_lon = [\n",
    "    navaids[\"NAPSA\"].longitude,\n",
    "    11.816528, # OTT\n",
    "    navaids[\"DM458\"].longitude,\n",
    "    navaids[\"DM448\"].longitude,\n",
    "    airports[\"EDDM\"].runways.data.query(f\"name == '26L'\").longitude.iloc[0],\n",
    "]\n",
    "\n",
    "fig.add_trace(\n",
    "    go.Scattermapbox(\n",
    "        mode=\"lines\",\n",
    "        lat=star_lat,\n",
    "        lon=star_lon,\n",
    "        name=\"NAPSA1B  \",\n",
    "        line=dict(width=10, color=\"#ff7f0e\"),\n",
    "        opacity=0.4,\n",
    "        showlegend=True,\n",
    "    )\n",
    ")\n",
    "\n",
    "fig.add_trace(\n",
    "    go.Scattermapbox(\n",
    "        mode=\"markers+text\",\n",
    "        lat=[navaids[\"NAPSA\"].latitude],\n",
    "        lon=[navaids[\"NAPSA\"].longitude],\n",
    "        marker=dict(size=10, color=\"#ff7f0e\"),\n",
    "        text=[\"NAPSA\"],\n",
    "        textposition=\"bottom right\",\n",
    "        textfont=dict(color=\"#ff7f0e\", size=30),\n",
    "        name=\"NAPSA\",\n",
    "        showlegend=False,\n",
    "    )\n",
    ")\n",
    "\n",
    "# Add LANDU1B STAR ---------------------------------------------------------------------------------------------------\n",
    "star_lat = [\n",
    "    navaids[\"LANDU\"].latitude,\n",
    "    navaids[\"MIQ\"].latitude,\n",
    "    navaids[\"DM428\"].latitude,\n",
    "    navaids[\"DM438\"].latitude,\n",
    "    airports[\"EDDM\"].runways.data.query(f\"name == '26R'\").latitude.iloc[0],\n",
    "]\n",
    "star_lon = [\n",
    "    navaids[\"LANDU\"].longitude,\n",
    "    navaids[\"MIQ\"].longitude,\n",
    "    navaids[\"DM428\"].longitude,\n",
    "    navaids[\"DM438\"].longitude,\n",
    "    airports[\"EDDM\"].runways.data.query(f\"name == '26R'\").longitude.iloc[0],\n",
    "]\n",
    "\n",
    "fig.add_trace(\n",
    "    go.Scattermapbox(\n",
    "        mode=\"lines\",\n",
    "        lat=star_lat,\n",
    "        lon=star_lon,\n",
    "        name=\"LANDU1B  \",\n",
    "        line=dict(width=10, color=\"#2ca02c\"),\n",
    "        opacity=0.4,\n",
    "        showlegend=True,\n",
    "    )\n",
    ")\n",
    "\n",
    "fig.add_trace(\n",
    "    go.Scattermapbox(\n",
    "        mode=\"markers+text\",\n",
    "        lat=[navaids[\"LANDU\"].latitude],\n",
    "        lon=[navaids[\"LANDU\"].longitude],\n",
    "        marker=dict(size=10, color=\"#2ca02c\"),\n",
    "        text=[\"LANDU\"],\n",
    "        textposition=\"top right\",\n",
    "        textfont=dict(color=\"#2ca02c\", size=30),\n",
    "        name=\"LANDU\",\n",
    "        showlegend=False,\n",
    "    )\n",
    ")\n",
    "\n",
    "# Add ROKIL 1A STAR ---------------------------------------------------------------------------------------------------\n",
    "star_lat = [\n",
    "    navaids[\"ROKIL\"].latitude,\n",
    "    navaids[\"MIQ\"].latitude,\n",
    "    navaids[\"DM421\"].latitude,\n",
    "    navaids[\"DM431\"].latitude,\n",
    "    airports[\"EDDM\"].runways.data.query(f\"name == '08L'\").latitude.iloc[0],\n",
    "]\n",
    "star_lon = [\n",
    "    navaids[\"ROKIL\"].longitude,\n",
    "    navaids[\"MIQ\"].longitude,\n",
    "    navaids[\"DM421\"].longitude,\n",
    "    navaids[\"DM431\"].longitude,\n",
    "    airports[\"EDDM\"].runways.data.query(f\"name == '08L'\").longitude.iloc[0],\n",
    "]\n",
    "\n",
    "fig.add_trace(\n",
    "    go.Scattermapbox(\n",
    "        mode=\"lines\",\n",
    "        lat=star_lat,\n",
    "        lon=star_lon,\n",
    "        name=\"ROKIL1A  \",\n",
    "        line=dict(width=10, color=\"#d62728\"),\n",
    "        opacity=0.4,\n",
    "        showlegend=True,\n",
    "    )\n",
    ")\n",
    "\n",
    "fig.add_trace(\n",
    "    go.Scattermapbox(\n",
    "        mode=\"markers+text\",\n",
    "        lat=[navaids[\"ROKIL\"].latitude],\n",
    "        lon=[navaids[\"ROKIL\"].longitude],\n",
    "        marker=dict(size=10, color=\"#d62728\"),\n",
    "        text=[\"ROKIL\"],\n",
    "        textposition=\"top left\",\n",
    "        textfont=dict(color=\"#d62728\", size=30),\n",
    "        name=\"ROKIL\",\n",
    "        showlegend=False,\n",
    "    )\n",
    ")\n",
    "\n",
    "# Add BETOS1A STAR ---------------------------------------------------------------------------------------------------\n",
    "star_lat = [\n",
    "    navaids[\"BETOS\"].latitude,\n",
    "    48.180389, # OTT\n",
    "    navaids[\"DM451\"].latitude,\n",
    "    navaids[\"DM441\"].latitude,\n",
    "    airports[\"EDDM\"].runways.data.query(f\"name == '08R'\").latitude.iloc[0],\n",
    "]\n",
    "star_lon = [\n",
    "    navaids[\"BETOS\"].longitude,\n",
    "    11.816528, # OTT\n",
    "    navaids[\"DM451\"].longitude,\n",
    "    navaids[\"DM441\"].longitude,\n",
    "    airports[\"EDDM\"].runways.data.query(f\"name == '08R'\").longitude.iloc[0],\n",
    "]\n",
    "\n",
    "fig.add_trace(\n",
    "    go.Scattermapbox(\n",
    "        mode=\"lines\",\n",
    "        lat=star_lat,\n",
    "        lon=star_lon,\n",
    "        name=\"BETOS1A  \",\n",
    "        line=dict(width=10, color=\"#1f77b4\"),\n",
    "        opacity=0.4,\n",
    "        showlegend=True,\n",
    "    )\n",
    ")\n",
    "\n",
    "fig.add_trace(\n",
    "    go.Scattermapbox(\n",
    "        mode=\"markers+text\",\n",
    "        lat=[navaids[\"BETOS\"].latitude],\n",
    "        lon=[navaids[\"BETOS\"].longitude],\n",
    "        marker=dict(size=10, color=\"#1f77b4\"),\n",
    "        text=[\"BETOS\"],\n",
    "        textposition=\"bottom left\",\n",
    "        textfont=dict(color=\"#1f77b4\", size=30),\n",
    "        name=\"BETOS\",\n",
    "        showlegend=False,\n",
    "    )\n",
    ")\n",
    "\n",
    "# Update layout for the map\n",
    "fig.update_layout(\n",
    "    width=1000,\n",
    "    height=700,\n",
    "    margin=dict(l=0, r=0, t=0, b=0),\n",
    "    mapbox=dict(\n",
    "        style=\"carto-positron\",\n",
    "        zoom=8.8,\n",
    "        center=dict(\n",
    "            lat=48.353865705653575,\n",
    "            lon=11.788325035229505,\n",
    "        ),\n",
    "    ),\n",
    "    legend=dict(\n",
    "        x=0.5,\n",
    "        y=-0.008,\n",
    "        xanchor=\"center\",\n",
    "        orientation=\"h\",\n",
    "        traceorder=\"normal\",\n",
    "        font=dict(size=30),\n",
    "        bgcolor=\"rgba(255, 255, 255, 0.7)\",\n",
    "    ),\n",
    ")\n",
    "\n",
    "# Show the figure\n",
    "fig.show()"
   ]
  }
 ],
 "metadata": {
  "kernelspec": {
   "display_name": ".venv",
   "language": "python",
   "name": "python3"
  },
  "language_info": {
   "codemirror_mode": {
    "name": "ipython",
    "version": 3
   },
   "file_extension": ".py",
   "mimetype": "text/x-python",
   "name": "python",
   "nbconvert_exporter": "python",
   "pygments_lexer": "ipython3",
   "version": "3.12.2"
  }
 },
 "nbformat": 4,
 "nbformat_minor": 2
}
