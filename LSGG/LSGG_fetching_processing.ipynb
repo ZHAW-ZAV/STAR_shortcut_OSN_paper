{
 "cells": [
  {
   "cell_type": "markdown",
   "metadata": {},
   "source": [
    "### Import of required libraries"
   ]
  },
  {
   "cell_type": "code",
   "execution_count": null,
   "metadata": {},
   "outputs": [],
   "source": [
    "import os\n",
    "import pandas as pd\n",
    "from tqdm.auto import tqdm\n",
    "from traffic.core import Traffic\n",
    "from traffic.data import opensky, airports\n",
    "from utils import helperfunctions as hf\n",
    "\n",
    "import warnings\n",
    "warnings.simplefilter(action='ignore', category=FutureWarning)"
   ]
  },
  {
   "cell_type": "markdown",
   "metadata": {},
   "source": [
    "### Data fetching"
   ]
  },
  {
   "cell_type": "code",
   "execution_count": null,
   "metadata": {},
   "outputs": [],
   "source": [
    "# Paras\n",
    "airport = \"LSGG\"\n",
    "folder_daily = f\"/mnt/beegfs/store/Projects_CRM/STAR_paper/{airport}/daily/\"\n",
    "date_range = pd.date_range(start='2023-01-01', end='2023-12-31', freq='D')\n",
    "\n",
    "# Fetching in daily packages\n",
    "for date in date_range:\n",
    "    path = f\"{folder_daily}{date.month}/\"\n",
    "    if not os.path.exists(path):\n",
    "        os.makedirs(path)\n",
    "    file = path + date.strftime('%Y-%m-%d')+\".parquet\"\n",
    "    if not os.path.exists(file):\n",
    "        print(f\"fetching {date}\")\n",
    "        try:\n",
    "            t = opensky.history(\n",
    "                start=date.strftime('%Y-%m-%d 00:00'),\n",
    "                stop=date.strftime('%Y-%m-%d 23:59'),\n",
    "                bounds=airports[airport].shape.buffer(1).bounds,\n",
    "            )\n",
    "            t.to_parquet(file)\n",
    "        except:\n",
    "            print(f\"failed to fetch {date}\")"
   ]
  },
  {
   "cell_type": "markdown",
   "metadata": {},
   "source": [
    "### Processing (celan invalid, assign id, only landings at airport, add landing runway)"
   ]
  },
  {
   "cell_type": "code",
   "execution_count": null,
   "metadata": {},
   "outputs": [],
   "source": [
    "# Reduction to landing 04 in monthly packages-----------------------------------\n",
    "folder_list = os.listdir(folder_daily)\n",
    "# for each month\n",
    "for folder in folder_list:\n",
    "    # List all files in the folder\n",
    "    file_list = os.listdir(folder_daily + folder)\n",
    "    filepaths = [os.path.join(folder_daily + folder, file) for file in file_list]\n",
    "\n",
    "    # Merging to one trafic object\n",
    "    t = Traffic(\n",
    "        pd.concat(\n",
    "            [Traffic.from_file(file).data for file in tqdm(filepaths)],\n",
    "            ignore_index=True,\n",
    "        )\n",
    "    )\n",
    "\n",
    "    # Cleaning\n",
    "    t = t.clean_invalid().assign_id().eval(desc=\"Cleaning\", max_workers=20)\n",
    "\n",
    "    # Reduce to landings at LSGG\n",
    "    t = (\n",
    "        t.iterate_lazy()\n",
    "        .pipe(hf.has_landing_at, \"LSGG\")\n",
    "        .eval(desc=\"landing at LSGG\", max_workers=20)\n",
    "    )\n",
    "\n",
    "    # Save\n",
    "    t.to_parquet(\n",
    "        f\"/mnt/beegfs/store/Projects_CRM/STAR_paper/{airport}/processed/monthly/landing_{folder}.parquet\"\n",
    "   )"
   ]
  },
  {
   "cell_type": "markdown",
   "metadata": {},
   "source": [
    "### Merge monthly into one yearly"
   ]
  },
  {
   "cell_type": "code",
   "execution_count": null,
   "metadata": {},
   "outputs": [],
   "source": [
    "# Merge all monthly packages to one yearly package------------------------------\n",
    "file_list = os.listdir(f\"/mnt/beegfs/store/Projects_CRM/STAR_paper/{airport}/processed/monthly/\")\n",
    "file_list = [file for file in file_list if file.startswith(\"landing_\")]\n",
    "filepaths = [\n",
    "    os.path.join(f\"/mnt/beegfs/store/Projects_CRM/STAR_paper/{airport}/processed/monthly\", file)\n",
    "    for file in file_list\n",
    "]\n",
    "t = Traffic(\n",
    "    pd.concat(\n",
    "        [Traffic.from_file(file).data for file in tqdm(filepaths)],\n",
    "        ignore_index=True,\n",
    "    )\n",
    ")\n",
    "t.to_parquet(f\"/mnt/beegfs/store/Projects_CRM/STAR_paper/{airport}/processed/landing_all.parquet\")"
   ]
  }
 ],
 "metadata": {
  "kernelspec": {
   "display_name": "Poetry via SLURM STAR",
   "language": "python",
   "name": "jupyter-eg-kernel-slurm-py39-poetry-1i3hri4hc"
  }
 },
 "nbformat": 4,
 "nbformat_minor": 2
}
