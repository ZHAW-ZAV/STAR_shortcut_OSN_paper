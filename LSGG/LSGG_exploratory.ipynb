{
 "cells": [
  {
   "cell_type": "code",
   "execution_count": 2,
   "metadata": {},
   "outputs": [
    {
     "name": "stderr",
     "output_type": "stream",
     "text": [
      "/home/jan/STAR_shortcut_OSN_paper/.venv/lib/python3.12/site-packages/tqdm/auto.py:21: TqdmWarning: IProgress not found. Please update jupyter and ipywidgets. See https://ipywidgets.readthedocs.io/en/stable/user_install.html\n",
      "  from .autonotebook import tqdm as notebook_tqdm\n"
     ]
    }
   ],
   "source": [
    "from traffic.core import Traffic\n",
    "from traffic.data import airports, navaids\n",
    "import plotly.graph_objects as go"
   ]
  },
  {
   "cell_type": "markdown",
   "metadata": {},
   "source": [
    "#1f77b4 (Blue)\n",
    "#ff7f0e (Orange)\n",
    "#2ca02c (Green)\n",
    "#d62728 (Red)\n",
    "#9467bd (Purple)\n",
    "#8c564b (Brown)\n",
    "#e377c2 (Pink)\n",
    "#7f7f7f (Gray)\n",
    "#bcbd22 (Olive)\n",
    "#17becf (Cyan)"
   ]
  },
  {
   "cell_type": "code",
   "execution_count": 3,
   "metadata": {},
   "outputs": [],
   "source": [
    "# Load the data\n",
    "t = Traffic.from_file(f\"/home/jan/STAR_shortcut_OSN_paper/data/LSGG/sample_5000.parquet\")"
   ]
  },
  {
   "cell_type": "code",
   "execution_count": 4,
   "metadata": {},
   "outputs": [],
   "source": [
    "belu3n = t.query(\"navaid == 'BELUS' and rwy == '04'\").sample(20)\n",
    "kine2n = t.query(\"navaid == 'KINES' and rwy == '04'\").sample(20)"
   ]
  },
  {
   "cell_type": "code",
   "execution_count": 10,
   "metadata": {},
   "outputs": [
    {
     "data": {
      "application/vnd.plotly.v1+json": {
       "config": {
        "plotlyServerURL": "https://plot.ly"
       },
       "data": [
        {
         "lat": [
          45.33138889,
          46.05166667,
          46.19722222,
          45.95381810103117,
          46.02444444,
          46.22579956054688
         ],
         "line": {
          "color": "#ff7f0e",
          "width": 10
         },
         "lon": [
          6.75527778,
          6.5625,
          6.25388889,
          5.899064642081735,
          5.797,
          6.0909199714660645
         ],
         "mode": "lines",
         "name": "KINE2N STAR",
         "opacity": 0.4,
         "showlegend": true,
         "type": "scattermapbox"
        },
        {
         "lat": [
          45.33138889
         ],
         "lon": [
          6.75527778
         ],
         "marker": {
          "color": "#ff7f0e",
          "size": 10
         },
         "mode": "markers+text",
         "name": "KINES",
         "showlegend": false,
         "text": [
          "KINES"
         ],
         "textfont": {
          "color": "#ff7f0e",
          "size": 25
         },
         "textposition": "bottom center",
         "type": "scattermapbox"
        },
        {
         "lat": [
          45.67527778,
          45.88188889,
          46.02444444,
          46.25391667,
          46.19722222,
          45.95381810103117,
          46.02444444,
          46.22579956054688
         ],
         "line": {
          "color": "#1f77b4",
          "width": 10
         },
         "lon": [
          5.59388889,
          5.75730556,
          5.797,
          6.13222222,
          6.25388889,
          5.899064642081735,
          5.797,
          6.0909199714660645
         ],
         "mode": "lines",
         "name": "BELU3N STAR",
         "opacity": 0.4,
         "showlegend": true,
         "type": "scattermapbox"
        },
        {
         "lat": [
          45.67527778
         ],
         "lon": [
          5.59388889
         ],
         "marker": {
          "color": "#1f77b4",
          "size": 10
         },
         "mode": "markers+text",
         "name": "BELUS",
         "showlegend": false,
         "text": [
          "BELUS"
         ],
         "textfont": {
          "color": "#1f77b4",
          "size": 25
         },
         "textposition": "bottom left",
         "type": "scattermapbox"
        },
        {
         "lat": [
          47.21333333,
          46.57094444,
          46.33747222,
          46.540194,
          46.46869444,
          46.25040054321289
         ],
         "line": {
          "color": "#2ca02c",
          "width": 10
         },
         "lon": [
          6.64875,
          5.81430556,
          6.04844444,
          6.346917,
          6.44805556,
          6.126989841461182
         ],
         "mode": "lines",
         "name": "AKIT2N STAR",
         "opacity": 0.4,
         "showlegend": true,
         "type": "scattermapbox"
        },
        {
         "lat": [
          47.21333333
         ],
         "lon": [
          6.64875
         ],
         "marker": {
          "color": "#2ca02c",
          "size": 10
         },
         "mode": "markers+text",
         "name": "AKITO",
         "showlegend": false,
         "text": [
          "AKITO"
         ],
         "textfont": {
          "color": "#2ca02c",
          "size": 25
         },
         "textposition": "top right",
         "type": "scattermapbox"
        },
        {
         "lat": [
          46.66888889,
          46.57094444,
          46.33747222,
          46.095722,
          46.02444444,
          46.22579956054688
         ],
         "line": {
          "color": "#d62728",
          "width": 10
         },
         "lon": [
          5.17944444,
          5.81430556,
          6.04844444,
          5.696889,
          5.797,
          6.0909199714660645
         ],
         "mode": "lines",
         "name": "LUSA2N STAR",
         "opacity": 0.4,
         "showlegend": true,
         "type": "scattermapbox"
        },
        {
         "lat": [
          46.66888889
         ],
         "lon": [
          5.17944444
         ],
         "marker": {
          "color": "#d62728",
          "size": 10
         },
         "mode": "markers+text",
         "name": "LUSAR",
         "showlegend": false,
         "text": [
          "LUSAR"
         ],
         "textfont": {
          "color": "#d62728",
          "size": 25
         },
         "textposition": "middle left",
         "type": "scattermapbox"
        }
       ],
       "layout": {
        "height": 1000,
        "legend": {
         "bgcolor": "rgba(255, 255, 255, 0.7)",
         "font": {
          "size": 25
         },
         "traceorder": "normal",
         "x": 0.75,
         "y": 0.8
        },
        "mapbox": {
         "center": {
          "lat": 46.23696078946708,
          "lon": 6.109110255543277
         },
         "style": "carto-positron",
         "zoom": 8
        },
        "margin": {
         "b": 0,
         "l": 0,
         "r": 0,
         "t": 0
        },
        "template": {
         "data": {
          "bar": [
           {
            "error_x": {
             "color": "#2a3f5f"
            },
            "error_y": {
             "color": "#2a3f5f"
            },
            "marker": {
             "line": {
              "color": "#E5ECF6",
              "width": 0.5
             },
             "pattern": {
              "fillmode": "overlay",
              "size": 10,
              "solidity": 0.2
             }
            },
            "type": "bar"
           }
          ],
          "barpolar": [
           {
            "marker": {
             "line": {
              "color": "#E5ECF6",
              "width": 0.5
             },
             "pattern": {
              "fillmode": "overlay",
              "size": 10,
              "solidity": 0.2
             }
            },
            "type": "barpolar"
           }
          ],
          "carpet": [
           {
            "aaxis": {
             "endlinecolor": "#2a3f5f",
             "gridcolor": "white",
             "linecolor": "white",
             "minorgridcolor": "white",
             "startlinecolor": "#2a3f5f"
            },
            "baxis": {
             "endlinecolor": "#2a3f5f",
             "gridcolor": "white",
             "linecolor": "white",
             "minorgridcolor": "white",
             "startlinecolor": "#2a3f5f"
            },
            "type": "carpet"
           }
          ],
          "choropleth": [
           {
            "colorbar": {
             "outlinewidth": 0,
             "ticks": ""
            },
            "type": "choropleth"
           }
          ],
          "contour": [
           {
            "colorbar": {
             "outlinewidth": 0,
             "ticks": ""
            },
            "colorscale": [
             [
              0,
              "#0d0887"
             ],
             [
              0.1111111111111111,
              "#46039f"
             ],
             [
              0.2222222222222222,
              "#7201a8"
             ],
             [
              0.3333333333333333,
              "#9c179e"
             ],
             [
              0.4444444444444444,
              "#bd3786"
             ],
             [
              0.5555555555555556,
              "#d8576b"
             ],
             [
              0.6666666666666666,
              "#ed7953"
             ],
             [
              0.7777777777777778,
              "#fb9f3a"
             ],
             [
              0.8888888888888888,
              "#fdca26"
             ],
             [
              1,
              "#f0f921"
             ]
            ],
            "type": "contour"
           }
          ],
          "contourcarpet": [
           {
            "colorbar": {
             "outlinewidth": 0,
             "ticks": ""
            },
            "type": "contourcarpet"
           }
          ],
          "heatmap": [
           {
            "colorbar": {
             "outlinewidth": 0,
             "ticks": ""
            },
            "colorscale": [
             [
              0,
              "#0d0887"
             ],
             [
              0.1111111111111111,
              "#46039f"
             ],
             [
              0.2222222222222222,
              "#7201a8"
             ],
             [
              0.3333333333333333,
              "#9c179e"
             ],
             [
              0.4444444444444444,
              "#bd3786"
             ],
             [
              0.5555555555555556,
              "#d8576b"
             ],
             [
              0.6666666666666666,
              "#ed7953"
             ],
             [
              0.7777777777777778,
              "#fb9f3a"
             ],
             [
              0.8888888888888888,
              "#fdca26"
             ],
             [
              1,
              "#f0f921"
             ]
            ],
            "type": "heatmap"
           }
          ],
          "heatmapgl": [
           {
            "colorbar": {
             "outlinewidth": 0,
             "ticks": ""
            },
            "colorscale": [
             [
              0,
              "#0d0887"
             ],
             [
              0.1111111111111111,
              "#46039f"
             ],
             [
              0.2222222222222222,
              "#7201a8"
             ],
             [
              0.3333333333333333,
              "#9c179e"
             ],
             [
              0.4444444444444444,
              "#bd3786"
             ],
             [
              0.5555555555555556,
              "#d8576b"
             ],
             [
              0.6666666666666666,
              "#ed7953"
             ],
             [
              0.7777777777777778,
              "#fb9f3a"
             ],
             [
              0.8888888888888888,
              "#fdca26"
             ],
             [
              1,
              "#f0f921"
             ]
            ],
            "type": "heatmapgl"
           }
          ],
          "histogram": [
           {
            "marker": {
             "pattern": {
              "fillmode": "overlay",
              "size": 10,
              "solidity": 0.2
             }
            },
            "type": "histogram"
           }
          ],
          "histogram2d": [
           {
            "colorbar": {
             "outlinewidth": 0,
             "ticks": ""
            },
            "colorscale": [
             [
              0,
              "#0d0887"
             ],
             [
              0.1111111111111111,
              "#46039f"
             ],
             [
              0.2222222222222222,
              "#7201a8"
             ],
             [
              0.3333333333333333,
              "#9c179e"
             ],
             [
              0.4444444444444444,
              "#bd3786"
             ],
             [
              0.5555555555555556,
              "#d8576b"
             ],
             [
              0.6666666666666666,
              "#ed7953"
             ],
             [
              0.7777777777777778,
              "#fb9f3a"
             ],
             [
              0.8888888888888888,
              "#fdca26"
             ],
             [
              1,
              "#f0f921"
             ]
            ],
            "type": "histogram2d"
           }
          ],
          "histogram2dcontour": [
           {
            "colorbar": {
             "outlinewidth": 0,
             "ticks": ""
            },
            "colorscale": [
             [
              0,
              "#0d0887"
             ],
             [
              0.1111111111111111,
              "#46039f"
             ],
             [
              0.2222222222222222,
              "#7201a8"
             ],
             [
              0.3333333333333333,
              "#9c179e"
             ],
             [
              0.4444444444444444,
              "#bd3786"
             ],
             [
              0.5555555555555556,
              "#d8576b"
             ],
             [
              0.6666666666666666,
              "#ed7953"
             ],
             [
              0.7777777777777778,
              "#fb9f3a"
             ],
             [
              0.8888888888888888,
              "#fdca26"
             ],
             [
              1,
              "#f0f921"
             ]
            ],
            "type": "histogram2dcontour"
           }
          ],
          "mesh3d": [
           {
            "colorbar": {
             "outlinewidth": 0,
             "ticks": ""
            },
            "type": "mesh3d"
           }
          ],
          "parcoords": [
           {
            "line": {
             "colorbar": {
              "outlinewidth": 0,
              "ticks": ""
             }
            },
            "type": "parcoords"
           }
          ],
          "pie": [
           {
            "automargin": true,
            "type": "pie"
           }
          ],
          "scatter": [
           {
            "fillpattern": {
             "fillmode": "overlay",
             "size": 10,
             "solidity": 0.2
            },
            "type": "scatter"
           }
          ],
          "scatter3d": [
           {
            "line": {
             "colorbar": {
              "outlinewidth": 0,
              "ticks": ""
             }
            },
            "marker": {
             "colorbar": {
              "outlinewidth": 0,
              "ticks": ""
             }
            },
            "type": "scatter3d"
           }
          ],
          "scattercarpet": [
           {
            "marker": {
             "colorbar": {
              "outlinewidth": 0,
              "ticks": ""
             }
            },
            "type": "scattercarpet"
           }
          ],
          "scattergeo": [
           {
            "marker": {
             "colorbar": {
              "outlinewidth": 0,
              "ticks": ""
             }
            },
            "type": "scattergeo"
           }
          ],
          "scattergl": [
           {
            "marker": {
             "colorbar": {
              "outlinewidth": 0,
              "ticks": ""
             }
            },
            "type": "scattergl"
           }
          ],
          "scattermapbox": [
           {
            "marker": {
             "colorbar": {
              "outlinewidth": 0,
              "ticks": ""
             }
            },
            "type": "scattermapbox"
           }
          ],
          "scatterpolar": [
           {
            "marker": {
             "colorbar": {
              "outlinewidth": 0,
              "ticks": ""
             }
            },
            "type": "scatterpolar"
           }
          ],
          "scatterpolargl": [
           {
            "marker": {
             "colorbar": {
              "outlinewidth": 0,
              "ticks": ""
             }
            },
            "type": "scatterpolargl"
           }
          ],
          "scatterternary": [
           {
            "marker": {
             "colorbar": {
              "outlinewidth": 0,
              "ticks": ""
             }
            },
            "type": "scatterternary"
           }
          ],
          "surface": [
           {
            "colorbar": {
             "outlinewidth": 0,
             "ticks": ""
            },
            "colorscale": [
             [
              0,
              "#0d0887"
             ],
             [
              0.1111111111111111,
              "#46039f"
             ],
             [
              0.2222222222222222,
              "#7201a8"
             ],
             [
              0.3333333333333333,
              "#9c179e"
             ],
             [
              0.4444444444444444,
              "#bd3786"
             ],
             [
              0.5555555555555556,
              "#d8576b"
             ],
             [
              0.6666666666666666,
              "#ed7953"
             ],
             [
              0.7777777777777778,
              "#fb9f3a"
             ],
             [
              0.8888888888888888,
              "#fdca26"
             ],
             [
              1,
              "#f0f921"
             ]
            ],
            "type": "surface"
           }
          ],
          "table": [
           {
            "cells": {
             "fill": {
              "color": "#EBF0F8"
             },
             "line": {
              "color": "white"
             }
            },
            "header": {
             "fill": {
              "color": "#C8D4E3"
             },
             "line": {
              "color": "white"
             }
            },
            "type": "table"
           }
          ]
         },
         "layout": {
          "annotationdefaults": {
           "arrowcolor": "#2a3f5f",
           "arrowhead": 0,
           "arrowwidth": 1
          },
          "autotypenumbers": "strict",
          "coloraxis": {
           "colorbar": {
            "outlinewidth": 0,
            "ticks": ""
           }
          },
          "colorscale": {
           "diverging": [
            [
             0,
             "#8e0152"
            ],
            [
             0.1,
             "#c51b7d"
            ],
            [
             0.2,
             "#de77ae"
            ],
            [
             0.3,
             "#f1b6da"
            ],
            [
             0.4,
             "#fde0ef"
            ],
            [
             0.5,
             "#f7f7f7"
            ],
            [
             0.6,
             "#e6f5d0"
            ],
            [
             0.7,
             "#b8e186"
            ],
            [
             0.8,
             "#7fbc41"
            ],
            [
             0.9,
             "#4d9221"
            ],
            [
             1,
             "#276419"
            ]
           ],
           "sequential": [
            [
             0,
             "#0d0887"
            ],
            [
             0.1111111111111111,
             "#46039f"
            ],
            [
             0.2222222222222222,
             "#7201a8"
            ],
            [
             0.3333333333333333,
             "#9c179e"
            ],
            [
             0.4444444444444444,
             "#bd3786"
            ],
            [
             0.5555555555555556,
             "#d8576b"
            ],
            [
             0.6666666666666666,
             "#ed7953"
            ],
            [
             0.7777777777777778,
             "#fb9f3a"
            ],
            [
             0.8888888888888888,
             "#fdca26"
            ],
            [
             1,
             "#f0f921"
            ]
           ],
           "sequentialminus": [
            [
             0,
             "#0d0887"
            ],
            [
             0.1111111111111111,
             "#46039f"
            ],
            [
             0.2222222222222222,
             "#7201a8"
            ],
            [
             0.3333333333333333,
             "#9c179e"
            ],
            [
             0.4444444444444444,
             "#bd3786"
            ],
            [
             0.5555555555555556,
             "#d8576b"
            ],
            [
             0.6666666666666666,
             "#ed7953"
            ],
            [
             0.7777777777777778,
             "#fb9f3a"
            ],
            [
             0.8888888888888888,
             "#fdca26"
            ],
            [
             1,
             "#f0f921"
            ]
           ]
          },
          "colorway": [
           "#636efa",
           "#EF553B",
           "#00cc96",
           "#ab63fa",
           "#FFA15A",
           "#19d3f3",
           "#FF6692",
           "#B6E880",
           "#FF97FF",
           "#FECB52"
          ],
          "font": {
           "color": "#2a3f5f"
          },
          "geo": {
           "bgcolor": "white",
           "lakecolor": "white",
           "landcolor": "#E5ECF6",
           "showlakes": true,
           "showland": true,
           "subunitcolor": "white"
          },
          "hoverlabel": {
           "align": "left"
          },
          "hovermode": "closest",
          "mapbox": {
           "style": "light"
          },
          "paper_bgcolor": "white",
          "plot_bgcolor": "#E5ECF6",
          "polar": {
           "angularaxis": {
            "gridcolor": "white",
            "linecolor": "white",
            "ticks": ""
           },
           "bgcolor": "#E5ECF6",
           "radialaxis": {
            "gridcolor": "white",
            "linecolor": "white",
            "ticks": ""
           }
          },
          "scene": {
           "xaxis": {
            "backgroundcolor": "#E5ECF6",
            "gridcolor": "white",
            "gridwidth": 2,
            "linecolor": "white",
            "showbackground": true,
            "ticks": "",
            "zerolinecolor": "white"
           },
           "yaxis": {
            "backgroundcolor": "#E5ECF6",
            "gridcolor": "white",
            "gridwidth": 2,
            "linecolor": "white",
            "showbackground": true,
            "ticks": "",
            "zerolinecolor": "white"
           },
           "zaxis": {
            "backgroundcolor": "#E5ECF6",
            "gridcolor": "white",
            "gridwidth": 2,
            "linecolor": "white",
            "showbackground": true,
            "ticks": "",
            "zerolinecolor": "white"
           }
          },
          "shapedefaults": {
           "line": {
            "color": "#2a3f5f"
           }
          },
          "ternary": {
           "aaxis": {
            "gridcolor": "white",
            "linecolor": "white",
            "ticks": ""
           },
           "baxis": {
            "gridcolor": "white",
            "linecolor": "white",
            "ticks": ""
           },
           "bgcolor": "#E5ECF6",
           "caxis": {
            "gridcolor": "white",
            "linecolor": "white",
            "ticks": ""
           }
          },
          "title": {
           "x": 0.05
          },
          "xaxis": {
           "automargin": true,
           "gridcolor": "white",
           "linecolor": "white",
           "ticks": "",
           "title": {
            "standoff": 15
           },
           "zerolinecolor": "white",
           "zerolinewidth": 2
          },
          "yaxis": {
           "automargin": true,
           "gridcolor": "white",
           "linecolor": "white",
           "ticks": "",
           "title": {
            "standoff": 15
           },
           "zerolinecolor": "white",
           "zerolinewidth": 2
          }
         }
        },
        "width": 1000
       }
      },
      "text/html": [
       "<div>                            <div id=\"10284f48-cacc-4418-b17c-4aeb2218efbb\" class=\"plotly-graph-div\" style=\"height:1000px; width:1000px;\"></div>            <script type=\"text/javascript\">                require([\"plotly\"], function(Plotly) {                    window.PLOTLYENV=window.PLOTLYENV || {};                                    if (document.getElementById(\"10284f48-cacc-4418-b17c-4aeb2218efbb\")) {                    Plotly.newPlot(                        \"10284f48-cacc-4418-b17c-4aeb2218efbb\",                        [{\"lat\":[45.33138889,46.05166667,46.19722222,45.95381810103117,46.02444444,46.22579956054688],\"line\":{\"color\":\"#ff7f0e\",\"width\":10},\"lon\":[6.75527778,6.5625,6.25388889,5.899064642081735,5.797,6.0909199714660645],\"mode\":\"lines\",\"name\":\"KINE2N STAR\",\"opacity\":0.4,\"showlegend\":true,\"type\":\"scattermapbox\"},{\"lat\":[45.33138889],\"lon\":[6.75527778],\"marker\":{\"color\":\"#ff7f0e\",\"size\":10},\"mode\":\"markers+text\",\"name\":\"KINES\",\"showlegend\":false,\"text\":[\"KINES\"],\"textfont\":{\"color\":\"#ff7f0e\",\"size\":25},\"textposition\":\"bottom center\",\"type\":\"scattermapbox\"},{\"lat\":[45.67527778,45.88188889,46.02444444,46.25391667,46.19722222,45.95381810103117,46.02444444,46.22579956054688],\"line\":{\"color\":\"#1f77b4\",\"width\":10},\"lon\":[5.59388889,5.75730556,5.797,6.13222222,6.25388889,5.899064642081735,5.797,6.0909199714660645],\"mode\":\"lines\",\"name\":\"BELU3N STAR\",\"opacity\":0.4,\"showlegend\":true,\"type\":\"scattermapbox\"},{\"lat\":[45.67527778],\"lon\":[5.59388889],\"marker\":{\"color\":\"#1f77b4\",\"size\":10},\"mode\":\"markers+text\",\"name\":\"BELUS\",\"showlegend\":false,\"text\":[\"BELUS\"],\"textfont\":{\"color\":\"#1f77b4\",\"size\":25},\"textposition\":\"bottom left\",\"type\":\"scattermapbox\"},{\"lat\":[47.21333333,46.57094444,46.33747222,46.540194,46.46869444,46.25040054321289],\"line\":{\"color\":\"#2ca02c\",\"width\":10},\"lon\":[6.64875,5.81430556,6.04844444,6.346917,6.44805556,6.126989841461182],\"mode\":\"lines\",\"name\":\"AKIT2N STAR\",\"opacity\":0.4,\"showlegend\":true,\"type\":\"scattermapbox\"},{\"lat\":[47.21333333],\"lon\":[6.64875],\"marker\":{\"color\":\"#2ca02c\",\"size\":10},\"mode\":\"markers+text\",\"name\":\"AKITO\",\"showlegend\":false,\"text\":[\"AKITO\"],\"textfont\":{\"color\":\"#2ca02c\",\"size\":25},\"textposition\":\"top right\",\"type\":\"scattermapbox\"},{\"lat\":[46.66888889,46.57094444,46.33747222,46.095722,46.02444444,46.22579956054688],\"line\":{\"color\":\"#d62728\",\"width\":10},\"lon\":[5.17944444,5.81430556,6.04844444,5.696889,5.797,6.0909199714660645],\"mode\":\"lines\",\"name\":\"LUSA2N STAR\",\"opacity\":0.4,\"showlegend\":true,\"type\":\"scattermapbox\"},{\"lat\":[46.66888889],\"lon\":[5.17944444],\"marker\":{\"color\":\"#d62728\",\"size\":10},\"mode\":\"markers+text\",\"name\":\"LUSAR\",\"showlegend\":false,\"text\":[\"LUSAR\"],\"textfont\":{\"color\":\"#d62728\",\"size\":25},\"textposition\":\"middle left\",\"type\":\"scattermapbox\"}],                        {\"template\":{\"data\":{\"histogram2dcontour\":[{\"type\":\"histogram2dcontour\",\"colorbar\":{\"outlinewidth\":0,\"ticks\":\"\"},\"colorscale\":[[0.0,\"#0d0887\"],[0.1111111111111111,\"#46039f\"],[0.2222222222222222,\"#7201a8\"],[0.3333333333333333,\"#9c179e\"],[0.4444444444444444,\"#bd3786\"],[0.5555555555555556,\"#d8576b\"],[0.6666666666666666,\"#ed7953\"],[0.7777777777777778,\"#fb9f3a\"],[0.8888888888888888,\"#fdca26\"],[1.0,\"#f0f921\"]]}],\"choropleth\":[{\"type\":\"choropleth\",\"colorbar\":{\"outlinewidth\":0,\"ticks\":\"\"}}],\"histogram2d\":[{\"type\":\"histogram2d\",\"colorbar\":{\"outlinewidth\":0,\"ticks\":\"\"},\"colorscale\":[[0.0,\"#0d0887\"],[0.1111111111111111,\"#46039f\"],[0.2222222222222222,\"#7201a8\"],[0.3333333333333333,\"#9c179e\"],[0.4444444444444444,\"#bd3786\"],[0.5555555555555556,\"#d8576b\"],[0.6666666666666666,\"#ed7953\"],[0.7777777777777778,\"#fb9f3a\"],[0.8888888888888888,\"#fdca26\"],[1.0,\"#f0f921\"]]}],\"heatmap\":[{\"type\":\"heatmap\",\"colorbar\":{\"outlinewidth\":0,\"ticks\":\"\"},\"colorscale\":[[0.0,\"#0d0887\"],[0.1111111111111111,\"#46039f\"],[0.2222222222222222,\"#7201a8\"],[0.3333333333333333,\"#9c179e\"],[0.4444444444444444,\"#bd3786\"],[0.5555555555555556,\"#d8576b\"],[0.6666666666666666,\"#ed7953\"],[0.7777777777777778,\"#fb9f3a\"],[0.8888888888888888,\"#fdca26\"],[1.0,\"#f0f921\"]]}],\"heatmapgl\":[{\"type\":\"heatmapgl\",\"colorbar\":{\"outlinewidth\":0,\"ticks\":\"\"},\"colorscale\":[[0.0,\"#0d0887\"],[0.1111111111111111,\"#46039f\"],[0.2222222222222222,\"#7201a8\"],[0.3333333333333333,\"#9c179e\"],[0.4444444444444444,\"#bd3786\"],[0.5555555555555556,\"#d8576b\"],[0.6666666666666666,\"#ed7953\"],[0.7777777777777778,\"#fb9f3a\"],[0.8888888888888888,\"#fdca26\"],[1.0,\"#f0f921\"]]}],\"contourcarpet\":[{\"type\":\"contourcarpet\",\"colorbar\":{\"outlinewidth\":0,\"ticks\":\"\"}}],\"contour\":[{\"type\":\"contour\",\"colorbar\":{\"outlinewidth\":0,\"ticks\":\"\"},\"colorscale\":[[0.0,\"#0d0887\"],[0.1111111111111111,\"#46039f\"],[0.2222222222222222,\"#7201a8\"],[0.3333333333333333,\"#9c179e\"],[0.4444444444444444,\"#bd3786\"],[0.5555555555555556,\"#d8576b\"],[0.6666666666666666,\"#ed7953\"],[0.7777777777777778,\"#fb9f3a\"],[0.8888888888888888,\"#fdca26\"],[1.0,\"#f0f921\"]]}],\"surface\":[{\"type\":\"surface\",\"colorbar\":{\"outlinewidth\":0,\"ticks\":\"\"},\"colorscale\":[[0.0,\"#0d0887\"],[0.1111111111111111,\"#46039f\"],[0.2222222222222222,\"#7201a8\"],[0.3333333333333333,\"#9c179e\"],[0.4444444444444444,\"#bd3786\"],[0.5555555555555556,\"#d8576b\"],[0.6666666666666666,\"#ed7953\"],[0.7777777777777778,\"#fb9f3a\"],[0.8888888888888888,\"#fdca26\"],[1.0,\"#f0f921\"]]}],\"mesh3d\":[{\"type\":\"mesh3d\",\"colorbar\":{\"outlinewidth\":0,\"ticks\":\"\"}}],\"scatter\":[{\"fillpattern\":{\"fillmode\":\"overlay\",\"size\":10,\"solidity\":0.2},\"type\":\"scatter\"}],\"parcoords\":[{\"type\":\"parcoords\",\"line\":{\"colorbar\":{\"outlinewidth\":0,\"ticks\":\"\"}}}],\"scatterpolargl\":[{\"type\":\"scatterpolargl\",\"marker\":{\"colorbar\":{\"outlinewidth\":0,\"ticks\":\"\"}}}],\"bar\":[{\"error_x\":{\"color\":\"#2a3f5f\"},\"error_y\":{\"color\":\"#2a3f5f\"},\"marker\":{\"line\":{\"color\":\"#E5ECF6\",\"width\":0.5},\"pattern\":{\"fillmode\":\"overlay\",\"size\":10,\"solidity\":0.2}},\"type\":\"bar\"}],\"scattergeo\":[{\"type\":\"scattergeo\",\"marker\":{\"colorbar\":{\"outlinewidth\":0,\"ticks\":\"\"}}}],\"scatterpolar\":[{\"type\":\"scatterpolar\",\"marker\":{\"colorbar\":{\"outlinewidth\":0,\"ticks\":\"\"}}}],\"histogram\":[{\"marker\":{\"pattern\":{\"fillmode\":\"overlay\",\"size\":10,\"solidity\":0.2}},\"type\":\"histogram\"}],\"scattergl\":[{\"type\":\"scattergl\",\"marker\":{\"colorbar\":{\"outlinewidth\":0,\"ticks\":\"\"}}}],\"scatter3d\":[{\"type\":\"scatter3d\",\"line\":{\"colorbar\":{\"outlinewidth\":0,\"ticks\":\"\"}},\"marker\":{\"colorbar\":{\"outlinewidth\":0,\"ticks\":\"\"}}}],\"scattermapbox\":[{\"type\":\"scattermapbox\",\"marker\":{\"colorbar\":{\"outlinewidth\":0,\"ticks\":\"\"}}}],\"scatterternary\":[{\"type\":\"scatterternary\",\"marker\":{\"colorbar\":{\"outlinewidth\":0,\"ticks\":\"\"}}}],\"scattercarpet\":[{\"type\":\"scattercarpet\",\"marker\":{\"colorbar\":{\"outlinewidth\":0,\"ticks\":\"\"}}}],\"carpet\":[{\"aaxis\":{\"endlinecolor\":\"#2a3f5f\",\"gridcolor\":\"white\",\"linecolor\":\"white\",\"minorgridcolor\":\"white\",\"startlinecolor\":\"#2a3f5f\"},\"baxis\":{\"endlinecolor\":\"#2a3f5f\",\"gridcolor\":\"white\",\"linecolor\":\"white\",\"minorgridcolor\":\"white\",\"startlinecolor\":\"#2a3f5f\"},\"type\":\"carpet\"}],\"table\":[{\"cells\":{\"fill\":{\"color\":\"#EBF0F8\"},\"line\":{\"color\":\"white\"}},\"header\":{\"fill\":{\"color\":\"#C8D4E3\"},\"line\":{\"color\":\"white\"}},\"type\":\"table\"}],\"barpolar\":[{\"marker\":{\"line\":{\"color\":\"#E5ECF6\",\"width\":0.5},\"pattern\":{\"fillmode\":\"overlay\",\"size\":10,\"solidity\":0.2}},\"type\":\"barpolar\"}],\"pie\":[{\"automargin\":true,\"type\":\"pie\"}]},\"layout\":{\"autotypenumbers\":\"strict\",\"colorway\":[\"#636efa\",\"#EF553B\",\"#00cc96\",\"#ab63fa\",\"#FFA15A\",\"#19d3f3\",\"#FF6692\",\"#B6E880\",\"#FF97FF\",\"#FECB52\"],\"font\":{\"color\":\"#2a3f5f\"},\"hovermode\":\"closest\",\"hoverlabel\":{\"align\":\"left\"},\"paper_bgcolor\":\"white\",\"plot_bgcolor\":\"#E5ECF6\",\"polar\":{\"bgcolor\":\"#E5ECF6\",\"angularaxis\":{\"gridcolor\":\"white\",\"linecolor\":\"white\",\"ticks\":\"\"},\"radialaxis\":{\"gridcolor\":\"white\",\"linecolor\":\"white\",\"ticks\":\"\"}},\"ternary\":{\"bgcolor\":\"#E5ECF6\",\"aaxis\":{\"gridcolor\":\"white\",\"linecolor\":\"white\",\"ticks\":\"\"},\"baxis\":{\"gridcolor\":\"white\",\"linecolor\":\"white\",\"ticks\":\"\"},\"caxis\":{\"gridcolor\":\"white\",\"linecolor\":\"white\",\"ticks\":\"\"}},\"coloraxis\":{\"colorbar\":{\"outlinewidth\":0,\"ticks\":\"\"}},\"colorscale\":{\"sequential\":[[0.0,\"#0d0887\"],[0.1111111111111111,\"#46039f\"],[0.2222222222222222,\"#7201a8\"],[0.3333333333333333,\"#9c179e\"],[0.4444444444444444,\"#bd3786\"],[0.5555555555555556,\"#d8576b\"],[0.6666666666666666,\"#ed7953\"],[0.7777777777777778,\"#fb9f3a\"],[0.8888888888888888,\"#fdca26\"],[1.0,\"#f0f921\"]],\"sequentialminus\":[[0.0,\"#0d0887\"],[0.1111111111111111,\"#46039f\"],[0.2222222222222222,\"#7201a8\"],[0.3333333333333333,\"#9c179e\"],[0.4444444444444444,\"#bd3786\"],[0.5555555555555556,\"#d8576b\"],[0.6666666666666666,\"#ed7953\"],[0.7777777777777778,\"#fb9f3a\"],[0.8888888888888888,\"#fdca26\"],[1.0,\"#f0f921\"]],\"diverging\":[[0,\"#8e0152\"],[0.1,\"#c51b7d\"],[0.2,\"#de77ae\"],[0.3,\"#f1b6da\"],[0.4,\"#fde0ef\"],[0.5,\"#f7f7f7\"],[0.6,\"#e6f5d0\"],[0.7,\"#b8e186\"],[0.8,\"#7fbc41\"],[0.9,\"#4d9221\"],[1,\"#276419\"]]},\"xaxis\":{\"gridcolor\":\"white\",\"linecolor\":\"white\",\"ticks\":\"\",\"title\":{\"standoff\":15},\"zerolinecolor\":\"white\",\"automargin\":true,\"zerolinewidth\":2},\"yaxis\":{\"gridcolor\":\"white\",\"linecolor\":\"white\",\"ticks\":\"\",\"title\":{\"standoff\":15},\"zerolinecolor\":\"white\",\"automargin\":true,\"zerolinewidth\":2},\"scene\":{\"xaxis\":{\"backgroundcolor\":\"#E5ECF6\",\"gridcolor\":\"white\",\"linecolor\":\"white\",\"showbackground\":true,\"ticks\":\"\",\"zerolinecolor\":\"white\",\"gridwidth\":2},\"yaxis\":{\"backgroundcolor\":\"#E5ECF6\",\"gridcolor\":\"white\",\"linecolor\":\"white\",\"showbackground\":true,\"ticks\":\"\",\"zerolinecolor\":\"white\",\"gridwidth\":2},\"zaxis\":{\"backgroundcolor\":\"#E5ECF6\",\"gridcolor\":\"white\",\"linecolor\":\"white\",\"showbackground\":true,\"ticks\":\"\",\"zerolinecolor\":\"white\",\"gridwidth\":2}},\"shapedefaults\":{\"line\":{\"color\":\"#2a3f5f\"}},\"annotationdefaults\":{\"arrowcolor\":\"#2a3f5f\",\"arrowhead\":0,\"arrowwidth\":1},\"geo\":{\"bgcolor\":\"white\",\"landcolor\":\"#E5ECF6\",\"subunitcolor\":\"white\",\"showland\":true,\"showlakes\":true,\"lakecolor\":\"white\"},\"title\":{\"x\":0.05},\"mapbox\":{\"style\":\"light\"}}},\"margin\":{\"l\":0,\"r\":0,\"t\":0,\"b\":0},\"mapbox\":{\"center\":{\"lat\":46.23696078946708,\"lon\":6.109110255543277},\"style\":\"carto-positron\",\"zoom\":8},\"legend\":{\"font\":{\"size\":25},\"x\":0.75,\"y\":0.8,\"traceorder\":\"normal\",\"bgcolor\":\"rgba(255, 255, 255, 0.7)\"},\"width\":1000,\"height\":1000},                        {\"responsive\": true}                    ).then(function(){\n",
       "                            \n",
       "var gd = document.getElementById('10284f48-cacc-4418-b17c-4aeb2218efbb');\n",
       "var x = new MutationObserver(function (mutations, observer) {{\n",
       "        var display = window.getComputedStyle(gd).display;\n",
       "        if (!display || display === 'none') {{\n",
       "            console.log([gd, 'removed!']);\n",
       "            Plotly.purge(gd);\n",
       "            observer.disconnect();\n",
       "        }}\n",
       "}});\n",
       "\n",
       "// Listen for the removal of the full notebook cells\n",
       "var notebookContainer = gd.closest('#notebook-container');\n",
       "if (notebookContainer) {{\n",
       "    x.observe(notebookContainer, {childList: true});\n",
       "}}\n",
       "\n",
       "// Listen for the clearing of the current output cell\n",
       "var outputEl = gd.closest('.output');\n",
       "if (outputEl) {{\n",
       "    x.observe(outputEl, {childList: true});\n",
       "}}\n",
       "\n",
       "                        })                };                });            </script>        </div>"
      ]
     },
     "metadata": {},
     "output_type": "display_data"
    }
   ],
   "source": [
    "# Create a single figure for the map\n",
    "fig = go.Figure()\n",
    "\n",
    "# Add KINE2N STAR ---------------------------------------------------------------------------------------------------\n",
    "kine2n_lat = [\n",
    "    navaids[\"KINES\"].latitude,\n",
    "    navaids[\"GOLEB\"].latitude,\n",
    "    navaids[\"BIVLO\"].latitude,\n",
    "    45.95381810103117,\n",
    "    navaids[\"INDIS\"].latitude,\n",
    "    airports[\"LSGG\"].runways.data.query(f\"name == '04'\").latitude.iloc[0],\n",
    "]\n",
    "kine2n_lon = [\n",
    "    navaids[\"KINES\"].longitude,\n",
    "    navaids[\"GOLEB\"].longitude,\n",
    "    navaids[\"BIVLO\"].longitude,\n",
    "    5.899064642081735,\n",
    "    navaids[\"INDIS\"].longitude,\n",
    "    airports[\"LSGG\"].runways.data.query(f\"name == '04'\").longitude.iloc[0],\n",
    "]\n",
    "\n",
    "fig.add_trace(\n",
    "    go.Scattermapbox(\n",
    "        mode=\"lines\",\n",
    "        lat=kine2n_lat,\n",
    "        lon=kine2n_lon,\n",
    "        name=\"KINE2N STAR\",\n",
    "        line=dict(width=10, color=\"#ff7f0e\"),\n",
    "        opacity=0.4,\n",
    "        showlegend=True,\n",
    "    )\n",
    ")\n",
    "\n",
    "fig.add_trace(\n",
    "    go.Scattermapbox(\n",
    "        mode=\"markers+text\",\n",
    "        lat=[navaids[\"KINES\"].latitude],\n",
    "        lon=[navaids[\"KINES\"].longitude],\n",
    "        marker=dict(size=10, color=\"#ff7f0e\"),\n",
    "        text=[\"KINES\"],\n",
    "        textposition=\"bottom center\",\n",
    "        textfont=dict(color=\"#ff7f0e\", size=25),\n",
    "        name=\"KINES\",\n",
    "        showlegend=False,\n",
    "    )\n",
    ")\n",
    "\n",
    "# Add BELU3N STAR ---------------------------------------------------------------------------------------------------\n",
    "belus_lat = [\n",
    "    navaids[\"BELUS\"].latitude,\n",
    "    navaids[\"CBY\"].latitude,\n",
    "    navaids[\"INDIS\"].latitude,\n",
    "    navaids[\"GVA\"].latitude,\n",
    "    navaids[\"BIVLO\"].latitude,\n",
    "    45.95381810103117,\n",
    "    navaids[\"INDIS\"].latitude,\n",
    "    airports[\"LSGG\"].runways.data.query(f\"name == '04'\").latitude.iloc[0],\n",
    "]\n",
    "belus_lon = [\n",
    "    navaids[\"BELUS\"].longitude,\n",
    "    navaids[\"CBY\"].longitude,\n",
    "    navaids[\"INDIS\"].longitude,\n",
    "    navaids[\"GVA\"].longitude,\n",
    "    navaids[\"BIVLO\"].longitude,\n",
    "    5.899064642081735,\n",
    "    navaids[\"INDIS\"].longitude,\n",
    "    airports[\"LSGG\"].runways.data.query(f\"name == '04'\").longitude.iloc[0],\n",
    "]\n",
    "\n",
    "fig.add_trace(\n",
    "    go.Scattermapbox(\n",
    "        mode=\"lines\",\n",
    "        lat=belus_lat,\n",
    "        lon=belus_lon,\n",
    "        name=\"BELU3N STAR\",\n",
    "        line=dict(width=10, color=\"#1f77b4\"),\n",
    "        opacity=0.4,\n",
    "        showlegend=True,\n",
    "    )\n",
    ")\n",
    "\n",
    "fig.add_trace(\n",
    "    go.Scattermapbox(\n",
    "        mode=\"markers+text\",\n",
    "        lat=[navaids[\"BELUS\"].latitude],\n",
    "        lon=[navaids[\"BELUS\"].longitude],\n",
    "        marker=dict(size=10, color=\"#1f77b4\"),\n",
    "        text=[\"BELUS\"],\n",
    "        textposition=\"bottom left\",\n",
    "        textfont=dict(color=\"#1f77b4\", size=25),\n",
    "        name=\"BELUS\",\n",
    "        showlegend=False,\n",
    "    )\n",
    ")\n",
    "\n",
    "# Add AKIT2N STAR ---------------------------------------------------------------------------------------------------\n",
    "kine2n_lat = [\n",
    "    navaids[\"AKITO\"].latitude,\n",
    "    navaids[\"LIRKO\"].latitude,\n",
    "    navaids[\"SOVAD\"].latitude,\n",
    "    46.540194,\n",
    "    navaids[\"SPR\"].latitude,\n",
    "    airports[\"LSGG\"].runways.data.query(f\"name == '22'\").latitude.iloc[0],\n",
    "]\n",
    "kine2n_lon = [\n",
    "    navaids[\"AKITO\"].longitude,\n",
    "    navaids[\"LIRKO\"].longitude,\n",
    "    navaids[\"SOVAD\"].longitude,\n",
    "    6.346917,\n",
    "    navaids[\"SPR\"].longitude,\n",
    "    airports[\"LSGG\"].runways.data.query(f\"name == '22'\").longitude.iloc[0],\n",
    "]\n",
    "\n",
    "fig.add_trace(\n",
    "    go.Scattermapbox(\n",
    "        mode=\"lines\",\n",
    "        lat=kine2n_lat,\n",
    "        lon=kine2n_lon,\n",
    "        name=\"AKIT2N STAR\",\n",
    "        line=dict(width=10, color=\"#2ca02c\"),\n",
    "        opacity=0.4,\n",
    "        showlegend=True,\n",
    "    )\n",
    ")\n",
    "\n",
    "fig.add_trace(\n",
    "    go.Scattermapbox(\n",
    "        mode=\"markers+text\",\n",
    "        lat=[navaids[\"AKITO\"].latitude],\n",
    "        lon=[navaids[\"AKITO\"].longitude],\n",
    "        marker=dict(size=10, color=\"#2ca02c\"),\n",
    "        text=[\"AKITO\"],\n",
    "        textposition=\"top right\",\n",
    "        textfont=dict(color=\"#2ca02c\", size=25),\n",
    "        name=\"AKITO\",\n",
    "        showlegend=False,\n",
    "    )\n",
    ")\n",
    "\n",
    "# Add LUSA2N STAR ---------------------------------------------------------------------------------------------------\n",
    "kine2n_lat = [\n",
    "    navaids[\"LUSAR\"].latitude,\n",
    "    navaids[\"LIRKO\"].latitude,\n",
    "    navaids[\"SOVAD\"].latitude,\n",
    "    46.095722,\n",
    "    navaids[\"INDIS\"].latitude,\n",
    "    airports[\"LSGG\"].runways.data.query(f\"name == '04'\").latitude.iloc[0],\n",
    "]\n",
    "kine2n_lon = [\n",
    "    navaids[\"LUSAR\"].longitude,\n",
    "    navaids[\"LIRKO\"].longitude,\n",
    "    navaids[\"SOVAD\"].longitude,\n",
    "    5.696889,\n",
    "    navaids[\"INDIS\"].longitude,\n",
    "    airports[\"LSGG\"].runways.data.query(f\"name == '04'\").longitude.iloc[0],\n",
    "]\n",
    "\n",
    "fig.add_trace(\n",
    "    go.Scattermapbox(\n",
    "        mode=\"lines\",\n",
    "        lat=kine2n_lat,\n",
    "        lon=kine2n_lon,\n",
    "        name=\"LUSA2N STAR\",\n",
    "        line=dict(width=10, color=\"#d62728\"),\n",
    "        opacity=0.4,\n",
    "        showlegend=True,\n",
    "    )\n",
    ")\n",
    "\n",
    "fig.add_trace(\n",
    "    go.Scattermapbox(\n",
    "        mode=\"markers+text\",\n",
    "        lat=[navaids[\"LUSAR\"].latitude],\n",
    "        lon=[navaids[\"LUSAR\"].longitude],\n",
    "        marker=dict(size=10, color=\"#d62728\"),\n",
    "        text=[\"LUSAR\"],\n",
    "        textposition=\"middle left\",\n",
    "        textfont=dict(color=\"#d62728\", size=25),\n",
    "        name=\"LUSAR\",\n",
    "        showlegend=False,\n",
    "    )\n",
    ")\n",
    "\n",
    "# Update layout for the map\n",
    "fig.update_layout(\n",
    "    width=1000,\n",
    "    height=1000,\n",
    "    margin=dict(l=0, r=0, t=0, b=0),\n",
    "    mapbox=dict(\n",
    "        style=\"carto-positron\",\n",
    "        zoom=8,\n",
    "        center=dict(\n",
    "            lat=46.23696078946708,\n",
    "            lon=6.109110255543277,\n",
    "        ),\n",
    "    ),\n",
    "    legend=dict(\n",
    "        x=0.75,\n",
    "        y=0.8,\n",
    "        traceorder=\"normal\",\n",
    "        font=dict(size=25),\n",
    "        bgcolor=\"rgba(255, 255, 255, 0.7)\",\n",
    "    ),\n",
    ")\n",
    "\n",
    "# Show the figure\n",
    "fig.show()\n"
   ]
  },
  {
   "cell_type": "markdown",
   "metadata": {},
   "source": [
    "***\n",
    "### Overall distributions\n",
    "***"
   ]
  },
  {
   "cell_type": "code",
   "execution_count": 37,
   "metadata": {},
   "outputs": [],
   "source": [
    "import numpy as np\n",
    "import pandas as pd\n",
    "import plotly.graph_objects as go\n",
    "from plotly.subplots import make_subplots"
   ]
  },
  {
   "cell_type": "code",
   "execution_count": 38,
   "metadata": {},
   "outputs": [],
   "source": [
    "# Import of data\n",
    "df = pd.read_parquet(\"/home/jan/STAR_shortcut_OSN_paper/data/LSGG/landing_df.parquet\")\n",
    "\n",
    "# Merge runway, add runway navaid combination (STAR)\n",
    "df['runway'] = df['runway'].apply(lambda x: x[:-1] if len(x) == 3 else x)\n",
    "df[\"star\"] = df[\"navaid\"] + df[\"runway\"]"
   ]
  },
  {
   "cell_type": "code",
   "execution_count": null,
   "metadata": {},
   "outputs": [],
   "source": [
    "# Create the subplots with a 2x2 grid\n",
    "fig = make_subplots(\n",
    "    rows=2, cols=2, \n",
    "    subplot_titles=(\"BELU3N Arrivals\", \"KINE2N Arrivals\", \"AKIT3R Arrivals\", \"LUSA2N Arrivals\"),\n",
    "    vertical_spacing=0.17,\n",
    "    horizontal_spacing=0.1\n",
    ")\n",
    "\n",
    "# Define the full star distances and axis parametres for each star\n",
    "stars = {\n",
    "    'BELUS04': 92.8,\n",
    "    'KINES04': 103.8,\n",
    "    'AKITO22': 110.3,\n",
    "    'LUSAR04': 87.9\n",
    "}\n",
    "\n",
    "yranges = {\n",
    "    'BELUS04': [0, 3000],\n",
    "    'KINES04': [0, 300],\n",
    "    'AKITO22': [0, 1500],\n",
    "    'LUSAR04': [0, 1200]\n",
    "}\n",
    "\n",
    "xranges = {\n",
    "    'BELUS04': [20, 110],\n",
    "    'KINES04': [60, 150],\n",
    "    'AKITO22': [50, 120],\n",
    "    'LUSAR04': [45, 130]\n",
    "}\n",
    "\n",
    "# Loop over each star to generate the subplots\n",
    "for i, (star, star_distance) in enumerate(stars.items()):\n",
    "    row = i // 2 + 1\n",
    "    col = i % 2 + 1\n",
    "    \n",
    "    # Retrieve the data for the specific star and remove outliers\n",
    "    temp_df = df.query(f\"star == '{star}' and distance < 200\")\n",
    "\n",
    "    # Calculate the 99th percentile and median for the specific star\n",
    "    percentile_99 = np.percentile(temp_df.distance, 95)\n",
    "    median = np.median(temp_df.distance)\n",
    "    \n",
    "    # Add the histogram for the star\n",
    "    fig.add_trace(\n",
    "        go.Histogram(\n",
    "            x=temp_df.distance,\n",
    "            xbins=dict(\n",
    "                start=0,\n",
    "                end=int(max(df.distance)),\n",
    "                size=2,\n",
    "            ),\n",
    "            marker=dict(color=\"#1f77b4\"),\n",
    "            name=f\"Observed distances  \",\n",
    "            showlegend=(i == 0),  # Show legend only for the first subplot\n",
    "        ),\n",
    "        row=row, col=col\n",
    "    )\n",
    "\n",
    "    # Add a line indicating the median of observed distances\n",
    "    fig.add_trace(\n",
    "        go.Scatter(\n",
    "            x=[median, median],\n",
    "            y=[-500, 3000],\n",
    "            mode=\"lines\",\n",
    "            line=dict(color=\"darkblue\", width=3, dash=\"dash\"),\n",
    "            name=f\"Median of observed distances  \",\n",
    "            showlegend=(i == 0),\n",
    "        ),\n",
    "        row=row, col=col\n",
    "    )\n",
    "\n",
    "    # Add a line for the 99th percentile of observed distances\n",
    "    fig.add_trace(\n",
    "        go.Scatter(\n",
    "            x=[percentile_99, percentile_99],\n",
    "            y=[-500, 3000],\n",
    "            mode=\"lines\",\n",
    "            line=dict(color=\"#ff7f0e\", width=3, dash=\"dash\"),\n",
    "            name=f\"95th Percentile of observed distances  \",\n",
    "            showlegend=(i == 0),\n",
    "        ),\n",
    "        row=row, col=col\n",
    "    )\n",
    "\n",
    "    # Add the line for \"Full STAR distance\" according to the procedure\n",
    "    fig.add_trace(\n",
    "        go.Scatter(\n",
    "            x=[star_distance, star_distance],\n",
    "            y=[-100, 3000],\n",
    "            mode=\"lines\",\n",
    "            line=dict(color=\"#d62728\", width=3, dash=\"dash\"),\n",
    "            name=f\"Full STAR distance as per procedure  \",\n",
    "            showlegend=(i == 0),\n",
    "        ),\n",
    "        row=row, col=col\n",
    "    )\n",
    "\n",
    "    # Update the layout for each subplot: title size, y-axis range, x-axis range\n",
    "    fig.update_annotations(font_size=24)\n",
    "    fig.update_yaxes(\n",
    "        range=yranges[star],\n",
    "        row=row, col=col,\n",
    "    )\n",
    "    fig.update_xaxes(\n",
    "        range=xranges[star],\n",
    "        row=row, col=col,\n",
    "    )\n",
    "\n",
    "# Update the x-axes and y-axes labels and ranges for each subplot\n",
    "fig.update_xaxes(\n",
    "    title_text=\"Distance flown [NM]\",\n",
    "    titlefont=dict(size=20),\n",
    "    tickfont=dict(size=20),\n",
    ")\n",
    "fig.update_yaxes(\n",
    "    title_text=\"Count\",\n",
    "    titlefont=dict(size=20),\n",
    "    tickfont=dict(size=20),\n",
    ")\n",
    "\n",
    "# Update the layout\n",
    "fig.update_layout(\n",
    "    width=2000,\n",
    "    height=1000,\n",
    "    margin=dict(l=110, r=40, t=40, b=0),\n",
    "    legend=dict(\n",
    "        font=dict(size=24),\n",
    "        yanchor=\"bottom\",\n",
    "        xanchor=\"center\",\n",
    "        x=0.5,\n",
    "        y=-0.17,\n",
    "        orientation=\"h\",\n",
    "        tracegroupgap=50\n",
    "    )\n",
    ")\n",
    "\n",
    "# Show the figure\n",
    "fig.show()\n"
   ]
  },
  {
   "cell_type": "markdown",
   "metadata": {},
   "source": [
    "***\n",
    "### Hourly distributions\n",
    "***"
   ]
  },
  {
   "cell_type": "code",
   "execution_count": 1,
   "metadata": {},
   "outputs": [],
   "source": [
    "import numpy as np\n",
    "import pandas as pd\n",
    "import plotly.graph_objects as go\n",
    "from plotly.subplots import make_subplots"
   ]
  },
  {
   "cell_type": "code",
   "execution_count": 35,
   "metadata": {},
   "outputs": [],
   "source": [
    "# Import and preparation of data\n",
    "df = pd.read_parquet(\"/home/jan/STAR_shortcut_OSN_paper/data/LSGG/landing_df.parquet\")\n",
    "df['runway'] = df['runway'].apply(lambda x: x[:-1] if len(x) == 3 else x)\n",
    "df[\"star\"] = df[\"navaid\"] + df[\"runway\"]\n",
    "df = df.copy()\n",
    "df[\"timestamp_lt\"] = df[\"stop\"].dt.tz_convert(\"Europe/Berlin\")\n",
    "df[\"hour_utc\"] = df.stop.dt.hour\n",
    "df[\"hour_lt\"] = df.timestamp_lt.dt.hour"
   ]
  },
  {
   "cell_type": "code",
   "execution_count": null,
   "metadata": {},
   "outputs": [],
   "source": [
    "# Create the subplots with a 2x2 grid\n",
    "fig = make_subplots(\n",
    "    rows=2, cols=2, \n",
    "    subplot_titles=(\"BELU3N Arrivals\", \"KINE2N Arrivals\", \"AKIT3R Arrivals\", \"LUSA2N Arrivals\"),\n",
    "    vertical_spacing=0.17,\n",
    "    horizontal_spacing=0.1\n",
    ")\n",
    "\n",
    "# Define the full star distances for each star\n",
    "stars = {\n",
    "    'BELUS04': 92.8,\n",
    "    'KINES04': 103.8,\n",
    "    'AKITO22': 110.3,\n",
    "    'LUSAR04': 87.9\n",
    "}\n",
    "\n",
    "yranges = {\n",
    "    'BELUS04': [20, 120],\n",
    "    'KINES04': [40, 140],\n",
    "    'AKITO22': [40, 140],\n",
    "    'LUSAR04': [40, 120]\n",
    "}\n",
    "\n",
    "# Loop over each star to generate the subplots\n",
    "for i, (star, star_distance) in enumerate(stars.items()):\n",
    "    row = i // 2 + 1\n",
    "    col = i % 2 + 1\n",
    "    \n",
    "    # Filter the data for the specific star\n",
    "    temp_df_star = df.query(f\"star == '{star}' and distance < 200\")\n",
    "    \n",
    "    # Add required columns (for grouping by hour of the day)\n",
    "    temp_df_star[\"timestamp_lt\"] = temp_df_star[\"stop\"].dt.tz_convert(\"Europe/Berlin\")\n",
    "    temp_df_star[\"hour_lt\"] = temp_df_star.timestamp_lt.dt.hour\n",
    "\n",
    "    # Create the box plot for each star's hourly distribution\n",
    "    fig.add_trace(\n",
    "        go.Box(\n",
    "            x=temp_df_star[\"hour_lt\"],\n",
    "            y=temp_df_star[\"distance\"],\n",
    "            boxpoints=\"outliers\",  # Show outliers\n",
    "            name=f\"Observed distances  \",\n",
    "            marker=dict(color=\"#1f77b4\"),\n",
    "            showlegend=(i == 0),\n",
    "        ),\n",
    "        row=row, col=col,\n",
    "    )\n",
    "\n",
    "    fig.update_yaxes(\n",
    "        range=yranges[star],\n",
    "        row=row, col=col,\n",
    "    )\n",
    "\n",
    "    # Add line for full STAR distance\n",
    "    fig.add_trace(go.Scatter(\n",
    "        x=[-0.5, temp_df_star['hour_lt'].max() + 1],\n",
    "        y=[star_distance, star_distance],\n",
    "        mode=\"lines\",\n",
    "        line=dict(color=\"red\", dash=\"dash\", width=2),\n",
    "        name=f\"Full STAR distance as per procedure  \",\n",
    "        showlegend=(i == 0),  # Show legend only in the first subplot\n",
    "    ), row=row, col=col)\n",
    "\n",
    "\n",
    "# Update the layout for each subplot: title size, y-axis range, x-axis range\n",
    "fig.update_annotations(font_size=24)\n",
    "\n",
    "# Set global axis parameters\n",
    "fig.update_yaxes(\n",
    "    title_text=\"Distance [NM]\",\n",
    "    titlefont=dict(size=20),\n",
    "    tickfont=dict(size=20),\n",
    ")\n",
    "fig.update_xaxes(\n",
    "    title_text=\"Hour of the day (local time)\",\n",
    "    titlefont=dict(size=20),\n",
    "    tickfont=dict(size=20),\n",
    "    tickmode=\"linear\",\n",
    "    dtick=1,  # Interval for each hour\n",
    ")\n",
    "\n",
    "# Update layout globally\n",
    "fig.update_layout(\n",
    "    width=2000,\n",
    "    height=1000,\n",
    "    margin=dict(l=110, r=40, t=40, b=0),\n",
    "    legend=dict(\n",
    "        font=dict(size=24),\n",
    "        yanchor=\"bottom\",\n",
    "        xanchor=\"center\",\n",
    "        x=0.5,\n",
    "        y=-0.17,\n",
    "        orientation=\"h\",\n",
    "        tracegroupgap=50\n",
    "    )\n",
    ")\n",
    "\n",
    "# Show the figure\n",
    "fig.show()"
   ]
  },
  {
   "cell_type": "code",
   "execution_count": null,
   "metadata": {},
   "outputs": [],
   "source": [
    "import pandas as pd\n",
    "import plotly.graph_objects as go\n",
    "import plotly.express as px\n",
    "import datetime\n",
    "\n",
    "# Step 1: Convert 'stop' column to datetime if it's not already in that format\n",
    "df['stop'] = pd.to_datetime(df['stop'])\n",
    "\n",
    "# Step 2: Round the time down to the nearest 30 minutes\n",
    "df['stop_half_hour'] = df['stop'].dt.floor('30T').dt.time\n",
    "\n",
    "# Step 3: Group by the rounded time and count the number of rows for each half-hour\n",
    "half_hour_counts = df.groupby(['stop_half_hour', 'runway']).size().reset_index(name='count')\n",
    "\n",
    "# Step 4: Create a stacked bar plot using plotly.express\n",
    "fig = px.bar(\n",
    "    half_hour_counts,\n",
    "    x='stop_half_hour',  # x-axis represents the half-hour intervals\n",
    "    y='count',  # y-axis represents the count\n",
    "    color='runway',  # color represents the different categories in 'runway'\n",
    "    title='Stacked Bar Chart for Half-Hour Intervals with Navaid Categories',\n",
    "    labels={'stop_half_hour': 'Time of Day (Half-Hour Intervals)', 'count': 'Number of Rows'},\n",
    "    barmode='stack'  # This makes the bars stacked\n",
    ")\n",
    "\n",
    "# Step 5: Customize x-axis to show only the hour in 'hh:mm' format, left-aligned\n",
    "x_ticks = [time.strftime('%H:%M') for time in half_hour_counts['stop_half_hour'] if time.minute == 0]\n",
    "\n",
    "# Shift the tick values slightly to the left by subtracting a small amount (e.g., 0.5)\n",
    "tickvals = [i - 1.5 for i, time in enumerate(half_hour_counts['stop_half_hour']) if time.minute == 0]\n",
    "\n",
    "# Set layout for the plot\n",
    "fig.update_layout(\n",
    "    title='Number of Rows for Each Half-Hour Interval Over 24 Hours',\n",
    "    xaxis_title='Time of Day (Half-Hour Intervals)',\n",
    "    yaxis_title='Number of Rows',\n",
    "    xaxis = dict(\n",
    "        tickmode = 'array',\n",
    "        tickvals = tickvals,\n",
    "        ticktext = x_ticks\n",
    "    )\n",
    ")"
   ]
  },
  {
   "cell_type": "code",
   "execution_count": null,
   "metadata": {},
   "outputs": [],
   "source": [
    "# Step 1: Convert 'stop' column to datetime if it's not already in that format\n",
    "df['stop'] = pd.to_datetime(df['stop'])\n",
    "\n",
    "# Step 2: Round the time down to the nearest 30 minutes\n",
    "df['stop_half_hour'] = df['stop'].dt.floor('30T').dt.time\n",
    "\n",
    "# Step 3: Group by the rounded time and count the number of rows for each half-hour\n",
    "half_hour_counts = df.groupby(['stop_half_hour', 'runway']).size().reset_index(name='count')\n",
    "\n",
    "# Step 4: Create a stacked bar plot using plotly.express\n",
    "fig = px.bar(\n",
    "    half_hour_counts,\n",
    "    x='stop_half_hour',  # x-axis represents the half-hour intervals\n",
    "    y='count',  # y-axis represents the count\n",
    "    color='runway',  # color represents the different categories in 'runway'\n",
    "    title='Stacked Bar Chart for Half-Hour Intervals with Navaid Categories',\n",
    "    labels={'stop_half_hour': 'Time of Day (Half-Hour Intervals)', 'count': 'Number of Rows'},\n",
    "    barmode='stack'  # This makes the bars stacked\n",
    ")\n",
    "\n",
    "# Step 5: Customize x-axis to show only the hour in 'hh:mm' format, left-aligned\n",
    "x_ticks = [time.strftime('%H:%M') for time in half_hour_counts['stop_half_hour'] if time.minute == 0]\n",
    "\n",
    "# Shift the tick values slightly to the left by subtracting a small amount (e.g., 0.5)\n",
    "tickvals = [i - 1.5 for i, time in enumerate(half_hour_counts['stop_half_hour']) if time.minute == 0]\n",
    "\n",
    "# Set layout for the plot\n",
    "fig.update_layout(\n",
    "    title='Number of Rows for Each Half-Hour Interval Over 24 Hours',\n",
    "    xaxis_title='Time of Day (Half-Hour Intervals)',\n",
    "    yaxis_title='Number of Rows',\n",
    "    xaxis = dict(\n",
    "        tickmode = 'array',\n",
    "        tickvals = tickvals,\n",
    "        ticktext = x_ticks\n",
    "    )\n",
    ")"
   ]
  },
  {
   "cell_type": "code",
   "execution_count": null,
   "metadata": {},
   "outputs": [],
   "source": [
    "import pandas as pd\n",
    "import plotly.graph_objects as go\n",
    "import plotly.express as px\n",
    "import datetime\n",
    "\n",
    "# Step 1: Convert 'stop' column to datetime if it's not already in that format\n",
    "df['stop'] = pd.to_datetime(df['stop'])\n",
    "\n",
    "# Step 2: Round the time down to the nearest 30 minutes\n",
    "df['stop_half_hour'] = df['stop'].dt.floor('30T').dt.time\n",
    "\n",
    "# Step 3: Group by the rounded time and count the number of rows for each half-hour\n",
    "half_hour_counts = df.groupby(['stop_half_hour', 'navaid']).size().reset_index(name='count')\n",
    "\n",
    "# Step 4: Create a stacked bar plot using plotly.express\n",
    "fig = px.bar(\n",
    "    half_hour_counts,\n",
    "    x='stop_half_hour',  # x-axis represents the half-hour intervals\n",
    "    y='count',  # y-axis represents the count\n",
    "    color='navaid',  # color represents the different categories in 'navaid'\n",
    "    title='Stacked Bar Chart for Half-Hour Intervals with Navaid Categories',\n",
    "    labels={'stop_half_hour': 'Time of Day (Half-Hour Intervals)', 'count': 'Number of Rows'},\n",
    "    barmode='stack'  # This makes the bars stacked\n",
    ")\n",
    "\n",
    "# Step 5: Customize x-axis to show only the hour in 'hh:mm' format, left-aligned\n",
    "x_ticks = [time.strftime('%H:%M') for time in half_hour_counts['stop_half_hour'] if time.minute == 0]\n",
    "\n",
    "# Shift the tick values slightly to the left by subtracting a small amount (e.g., 0.5)\n",
    "tickvals = [i - 1.5 for i, time in enumerate(half_hour_counts['stop_half_hour']) if time.minute == 0]\n",
    "\n",
    "# Set layout for the plot\n",
    "fig.update_layout(\n",
    "    title='Number of Rows for Each Half-Hour Interval Over 24 Hours',\n",
    "    xaxis_title='Time of Day (Half-Hour Intervals)',\n",
    "    yaxis_title='Number of Rows',\n",
    "    xaxis = dict(\n",
    "        tickmode = 'array',\n",
    "        tickvals = tickvals,\n",
    "        ticktext = x_ticks\n",
    "    )\n",
    ")\n",
    "\n",
    "# Show the plot\n",
    "fig.show()\n"
   ]
  },
  {
   "cell_type": "code",
   "execution_count": 26,
   "metadata": {},
   "outputs": [],
   "source": [
    "import plotly.express as px"
   ]
  },
  {
   "cell_type": "code",
   "execution_count": null,
   "metadata": {},
   "outputs": [],
   "source": [
    "stacked_data = df.groupby(['stop_half_hour', 'navaid']).size().reset_index(name='count')\n",
    "stacked_data"
   ]
  },
  {
   "cell_type": "code",
   "execution_count": null,
   "metadata": {},
   "outputs": [],
   "source": [
    "import plotly.express as px\n",
    "\n",
    "df = px.data.gapminder().query(\"continent == 'Oceania'\")\n",
    "fig = px.bar(stacked_data, x='stop_half_hour', y='count',\n",
    "             color='navaid', height=400)\n",
    "fig.show()"
   ]
  }
 ],
 "metadata": {
  "kernelspec": {
   "display_name": ".venv",
   "language": "python",
   "name": "python3"
  },
  "language_info": {
   "codemirror_mode": {
    "name": "ipython",
    "version": 3
   },
   "file_extension": ".py",
   "mimetype": "text/x-python",
   "name": "python",
   "nbconvert_exporter": "python",
   "pygments_lexer": "ipython3",
   "version": "3.12.2"
  }
 },
 "nbformat": 4,
 "nbformat_minor": 2
}
