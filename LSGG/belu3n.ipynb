{
 "cells": [
  {
   "cell_type": "markdown",
   "metadata": {},
   "source": [
    "### Import of required libraries"
   ]
  },
  {
   "cell_type": "code",
   "execution_count": null,
   "metadata": {},
   "outputs": [],
   "source": [
    "from traffic.core import Traffic\n",
    "from traffic.data import navaids\n",
    "from utils import helperfunctions as hf\n",
    "import plotly.graph_objects as go\n",
    "from tqdm.auto import tqdm\n",
    "import pandas as pd\n",
    "\n",
    "import warnings\n",
    "warnings.simplefilter(action='ignore', category=FutureWarning)"
   ]
  },
  {
   "cell_type": "markdown",
   "metadata": {},
   "source": [
    "### Reduction to flights passing BELUS"
   ]
  },
  {
   "cell_type": "code",
   "execution_count": null,
   "metadata": {},
   "outputs": [],
   "source": [
    "t = (\n",
    "    t.iterate_lazy()\n",
    "    .pipe(hf.aligned_navpoint, \"BELUS\")\n",
    "    .eval(desc=\"aligned_BELUS\", max_workers=20)\n",
    ")\n",
    "t.to_parquet(f\"/mnt/beegfs/store/Projects_CRM/STAR_paper/LSGG/processed/landing_belus.parquet\")"
   ]
  },
  {
   "cell_type": "markdown",
   "metadata": {},
   "source": [
    "### Crop at threshold"
   ]
  },
  {
   "cell_type": "code",
   "execution_count": null,
   "metadata": {},
   "outputs": [],
   "source": [
    "t = (\n",
    "    t.iterate_lazy()\n",
    "    .pipe(hf.crop_after_th, \"LSGG\", \"04\")\n",
    "    .eval(desc=\"Cropping at TH\", max_workers=20)\n",
    ")\n",
    "t.to_parquet(f\"/mnt/beegfs/store/Projects_CRM/STAR_paper/LSGG/processed/landing_th.parquet\")"
   ]
  },
  {
   "cell_type": "markdown",
   "metadata": {},
   "source": [
    "### Map-plot"
   ]
  },
  {
   "cell_type": "code",
   "execution_count": null,
   "metadata": {},
   "outputs": [],
   "source": [
    "t = Traffic.from_file(f\"/mnt/beegfs/store/Projects_CRM/STAR_paper/LSGG/processed/landing_th.parquet\")"
   ]
  },
  {
   "cell_type": "code",
   "execution_count": null,
   "metadata": {},
   "outputs": [],
   "source": [
    "# Create a single figure for the map\n",
    "fig = go.Figure()\n",
    "\n",
    "# Add flight trajectories\n",
    "for flight in t.sample(10):\n",
    "    fig.add_trace(\n",
    "        go.Scattermapbox(\n",
    "            mode=\"lines\",\n",
    "            lat=flight.data[\"latitude\"],\n",
    "            lon=flight.data[\"longitude\"],\n",
    "            line=dict(width=1.5, color=\"#757ef3\"),\n",
    "            opacity=0.5,\n",
    "            name=\"STAR\",\n",
    "            showlegend=False,\n",
    "            \n",
    "        )\n",
    "    )\n",
    "\n",
    "# Add BELUS navaid\n",
    "fig.add_trace(\n",
    "    go.Scattermapbox(\n",
    "        mode=\"markers+text\",\n",
    "        lat=[navaids[\"BELUS\"].latitude],\n",
    "        lon=[navaids[\"BELUS\"].longitude],\n",
    "        marker=dict(size=10, color=\"red\"),\n",
    "        text=[\"BELUS\"],\n",
    "        textposition=\"middle right\",\n",
    "        textfont=dict(color=\"red\", size=18),\n",
    "        name=\"BELUS\",\n",
    "        showlegend=False,\n",
    "    )\n",
    ")\n",
    "\n",
    "# Update layout for the map\n",
    "fig.update_layout(\n",
    "    width=2000,\n",
    "    height=1000,\n",
    "    margin=dict(l=50, r=0, t=40, b=50),\n",
    "    mapbox=dict(\n",
    "        style=\"carto-positron\",\n",
    "        zoom=8,\n",
    "        center=dict(\n",
    "            lat=46.23696078946708,\n",
    "            lon=6.109110255543277,\n",
    "        ),\n",
    "    ),\n",
    ")\n",
    "\n",
    "# Show the figure\n",
    "fig.show()\n"
   ]
  },
  {
   "cell_type": "markdown",
   "metadata": {},
   "source": [
    "### Histogram"
   ]
  },
  {
   "cell_type": "code",
   "execution_count": null,
   "metadata": {},
   "outputs": [],
   "source": [
    "# Empty lists\n",
    "ids = []\n",
    "distances = []\n",
    "timestamp = []\n",
    "\n",
    "for flight in tqdm(t):\n",
    "    try:\n",
    "        # determine distance form BELUS to RWY04 TH\n",
    "        distance = (\n",
    "            hf.crop_before_wp(flight, \"BELUS\")\n",
    "            .cumulative_distance()\n",
    "            .data.cumdist.iloc[-1]\n",
    "        )\n",
    "        # Append distance and is to lists\n",
    "        distances.append(distance)\n",
    "        ids.append(flight.flight_id)\n",
    "        timestamp.append(flight.start)\n",
    "    except:\n",
    "        print(f\"Nothing after BELUS for {flight.flight_id}\")\n",
    "\n",
    "# Turn lists into dataframe\n",
    "df = pd.DataFrame(\n",
    "    {\"flight_id\": ids, \"distance\": distances, \"timestamp\": timestamp}\n",
    ")"
   ]
  },
  {
   "cell_type": "code",
   "execution_count": null,
   "metadata": {},
   "outputs": [],
   "source": [
    "fig = go.Figure()\n",
    "\n",
    "fig.add_trace(\n",
    "    go.Histogram(\n",
    "        x=df.distance,\n",
    "        xbins=dict(\n",
    "            start=0,\n",
    "            end=int(max(df.distance)),\n",
    "            size=0.5,\n",
    "        ),\n",
    "        marker=dict(color=\"#1f77b4\"),\n",
    "        name=\"Observed distances\",\n",
    "        showlegend=True,\n",
    "    ),\n",
    ")\n",
    "\n",
    "fig.add_shape(\n",
    "    type=\"line\",\n",
    "    x0=95,\n",
    "    x1=95,\n",
    "    y0=0,\n",
    "    y1=1,\n",
    "    yref=\"paper\",\n",
    "    line=dict(\n",
    "        color=\"#d62728\",\n",
    "        width=3,\n",
    "    ),\n",
    ")\n",
    "\n",
    "# For proper legend and axes\n",
    "fig.add_trace(\n",
    "    go.Scatter(\n",
    "        x=[\n",
    "            95,\n",
    "            95,\n",
    "        ],\n",
    "        y=[0, 1],\n",
    "        mode=\"lines\",\n",
    "        line=dict(color=\"#d62728\", width=3),\n",
    "        name=\"Distance according to STAR\",\n",
    "        showlegend=True,\n",
    "        legendgroup=\"Histogram\",\n",
    "    )\n",
    ")\n",
    "\n",
    "# Set x-axis range between 0 and 100\n",
    "fig.update_xaxes(\n",
    "    range=[25, 100],\n",
    "    title_text=\"Distance flown from BELUS to THR RWY04 [NM]\",\n",
    "    titlefont=dict(size=30),\n",
    "    tickfont=dict(size=25),\n",
    "    title_standoff=30,\n",
    ")\n",
    "\n",
    "fig.update_yaxes(\n",
    "    title_text=\"Count\",\n",
    "    titlefont=dict(size=30),\n",
    "    tickfont=dict(size=25),\n",
    "    title_standoff=30,\n",
    ")\n",
    "\n",
    "fig.update_layout(\n",
    "    width=2000,\n",
    "    height=800,\n",
    "    margin=dict(l=50, r=0, t=40, b=50),\n",
    "    legend=dict(\n",
    "        font=dict(size=30),\n",
    "        yanchor=\"top\",\n",
    "        xanchor=\"right\",\n",
    "        x=0.9,  # Positioning of the legend\n",
    "        y=0.95,\n",
    "        tracegroupgap=10  # Increase space between legend groups (items)\n",
    "    ),\n",
    ")"
   ]
  }
 ],
 "metadata": {
  "kernelspec": {
   "display_name": "Poetry via SLURM STAR",
   "language": "python",
   "name": "jupyter-eg-kernel-slurm-py39-poetry-1i3hri4hc"
  }
 },
 "nbformat": 4,
 "nbformat_minor": 2
}
