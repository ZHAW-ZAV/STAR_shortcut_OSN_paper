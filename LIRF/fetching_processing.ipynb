{
 "cells": [
  {
   "cell_type": "code",
   "execution_count": 1,
   "metadata": {},
   "outputs": [],
   "source": [
    "import os\n",
    "import pandas as pd\n",
    "from tqdm.auto import tqdm\n",
    "from traffic.core import Traffic, Flight\n",
    "from traffic.data import opensky, navaids, airports\n",
    "from typing import Union, List, Tuple\n",
    "from traffic.core.mixins import PointMixin\n",
    "from utils import helperfunctions as hf\n",
    "\n",
    "import warnings\n",
    "warnings.simplefilter(action='ignore', category=FutureWarning)"
   ]
  },
  {
   "cell_type": "code",
   "execution_count": 2,
   "metadata": {},
   "outputs": [
    {
     "name": "stdout",
     "output_type": "stream",
     "text": [
      "fetching 2023-01-01 00:00:00\n"
     ]
    }
   ],
   "source": [
    "# Paras\n",
    "airport = \"LIRF\"\n",
    "folder_daily = f\"/mnt/beegfs/store/Projects_CRM/STAR_paper/{airport}/daily/\"\n",
    "date_range = pd.date_range(start='2023-01-01', end='2023-12-31', freq='D')\n",
    "\n",
    "# Fetching in daily packages\n",
    "for date in date_range:\n",
    "    path = f\"{folder_daily}{date.month}/\"\n",
    "    if not os.path.exists(path):\n",
    "        os.makedirs(path)\n",
    "    file = path + date.strftime('%Y-%m-%d')+\".parquet\"\n",
    "    if not os.path.exists(file):\n",
    "        print(f\"fetching {date}\")\n",
    "        try:\n",
    "            t = opensky.history(\n",
    "                start=date.strftime('%Y-%m-%d 00:00'),\n",
    "                stop=date.strftime('%Y-%m-%d 23:59'),\n",
    "                bounds=airports[airport].shape.buffer(2).bounds,\n",
    "            )\n",
    "            t.to_parquet(file)\n",
    "        except:\n",
    "            print(f\"failed to fetch {date}\")"
   ]
  }
 ],
 "metadata": {
  "kernelspec": {
   "display_name": "Poetry via SLURM STAR",
   "language": "python",
   "name": "jupyter-eg-kernel-slurm-py39-poetry-1i3hri4hc"
  },
  "language_info": {
   "codemirror_mode": {
    "name": "ipython",
    "version": 3
   },
   "file_extension": ".py",
   "mimetype": "text/x-python",
   "name": "python",
   "nbconvert_exporter": "python",
   "pygments_lexer": "ipython3",
   "version": "3.11.7"
  }
 },
 "nbformat": 4,
 "nbformat_minor": 2
}
