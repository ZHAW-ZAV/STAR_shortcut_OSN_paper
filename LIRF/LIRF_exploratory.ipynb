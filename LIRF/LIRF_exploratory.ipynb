{
 "cells": [
  {
   "cell_type": "code",
   "execution_count": 2,
   "metadata": {},
   "outputs": [
    {
     "name": "stderr",
     "output_type": "stream",
     "text": [
      "/home/jan/STAR_shortcut_OSN_paper/.venv/lib/python3.12/site-packages/tqdm/auto.py:21: TqdmWarning: IProgress not found. Please update jupyter and ipywidgets. See https://ipywidgets.readthedocs.io/en/stable/user_install.html\n",
      "  from .autonotebook import tqdm as notebook_tqdm\n"
     ]
    }
   ],
   "source": [
    "from traffic.core import Traffic\n",
    "from traffic.data import airports, navaids\n",
    "import plotly.graph_objects as go"
   ]
  },
  {
   "cell_type": "code",
   "execution_count": 7,
   "metadata": {},
   "outputs": [
    {
     "data": {
      "application/vnd.plotly.v1+json": {
       "config": {
        "plotlyServerURL": "https://plot.ly"
       },
       "data": [
        {
         "lat": [
          41.54111111,
          41.58333333,
          41.72694444,
          41.67277778,
          41.43378611,
          41.40419167,
          41.545,
          41.59277778,
          41.81240081787109
         ],
         "line": {
          "color": "#ff7f0e",
          "width": 10
         },
         "lon": [
          12.91805556,
          12.76611111,
          12.7075,
          12.47361111,
          12.57203333,
          12.44508056,
          12.38694444,
          12.36694444,
          12.275500297546388
         ],
         "mode": "lines",
         "name": "LAT2C  ",
         "opacity": 0.4,
         "showlegend": true,
         "type": "scattermapbox"
        },
        {
         "lat": [
          41.54111111
         ],
         "lon": [
          12.91805556
         ],
         "marker": {
          "color": "#ff7f0e",
          "size": 10
         },
         "mode": "markers+text",
         "name": "LAT",
         "showlegend": false,
         "text": [
          "LAT"
         ],
         "textfont": {
          "color": "#ff7f0e",
          "size": 30
         },
         "textposition": "bottom right",
         "type": "scattermapbox"
        },
        {
         "lat": [
          42.69861111,
          42.36138889,
          42.21972222,
          42.185,
          42.42353889,
          42.38849444,
          42.15,
          42.01583333,
          41.84600067138672
         ],
         "line": {
          "color": "#2ca02c",
          "width": 10
         },
         "lon": [
          12.16361111,
          12.4325,
          12.49222222,
          12.34222222,
          12.241625,
          12.09120278,
          12.19222222,
          12.19027778,
          12.261500358581545
         ],
         "mode": "lines",
         "name": "RITEB2A  ",
         "opacity": 0.4,
         "showlegend": true,
         "type": "scattermapbox"
        },
        {
         "lat": [
          42.69861111
         ],
         "lon": [
          12.16361111
         ],
         "marker": {
          "color": "#2ca02c",
          "size": 10
         },
         "mode": "markers+text",
         "name": "RITEB",
         "showlegend": false,
         "text": [
          "RITEB"
         ],
         "textfont": {
          "color": "#2ca02c",
          "size": 30
         },
         "textposition": "top right",
         "type": "scattermapbox"
        },
        {
         "lat": [
          42.72105278,
          42.44097778,
          42.40361111,
          42.0475,
          42.08305556,
          42.32122778,
          42.35665833,
          42.11833333,
          42.06194444,
          41.81549835205078
         ],
         "line": {
          "color": "#d62728",
          "width": 10
         },
         "lon": [
          10.64411111,
          11.25151389,
          11.58277778,
          11.74111111,
          11.89055556,
          11.78854444,
          11.93861667,
          12.04027778,
          12.12277778,
          12.226400375366213
         ],
         "mode": "lines",
         "name": "ELKAP2A  ",
         "opacity": 0.4,
         "showlegend": true,
         "type": "scattermapbox"
        },
        {
         "lat": [
          42.72105278
         ],
         "lon": [
          10.64411111
         ],
         "marker": {
          "color": "#d62728",
          "size": 10
         },
         "mode": "markers+text",
         "name": "ELKAP",
         "showlegend": false,
         "text": [
          "ELKAP"
         ],
         "textfont": {
          "color": "#d62728",
          "size": 30
         },
         "textposition": "top left",
         "type": "scattermapbox"
        },
        {
         "lat": [
          41.577225,
          41.63416667,
          41.39194444,
          41.43527778,
          41.2763,
          41.30605833,
          41.52888889,
          41.57888889,
          41.78200149536133
         ],
         "line": {
          "color": "#1f77b4",
          "width": 10
         },
         "lon": [
          11.42138889,
          11.93305556,
          12.03916667,
          12.22333333,
          12.2894,
          12.416025,
          12.32388889,
          12.325,
          12.240400314331056
         ],
         "mode": "lines",
         "name": "VALMA2C  ",
         "opacity": 0.4,
         "showlegend": true,
         "type": "scattermapbox"
        },
        {
         "lat": [
          41.577225
         ],
         "lon": [
          11.42138889
         ],
         "marker": {
          "color": "#1f77b4",
          "size": 10
         },
         "mode": "markers+text",
         "name": "VALMA",
         "showlegend": false,
         "text": [
          "VALMA"
         ],
         "textfont": {
          "color": "#1f77b4",
          "size": 30
         },
         "textposition": "bottom left",
         "type": "scattermapbox"
        }
       ],
       "layout": {
        "height": 750,
        "legend": {
         "bgcolor": "rgba(255, 255, 255, 0.7)",
         "font": {
          "size": 30
         },
         "orientation": "h",
         "traceorder": "normal",
         "x": 0.5,
         "xanchor": "center",
         "y": -0.008
        },
        "mapbox": {
         "center": {
          "lat": 41.80343115135215,
          "lon": 12.251942555970736
         },
         "style": "carto-positron",
         "zoom": 7.8
        },
        "margin": {
         "b": 0,
         "l": 0,
         "r": 0,
         "t": 0
        },
        "template": {
         "data": {
          "bar": [
           {
            "error_x": {
             "color": "#2a3f5f"
            },
            "error_y": {
             "color": "#2a3f5f"
            },
            "marker": {
             "line": {
              "color": "#E5ECF6",
              "width": 0.5
             },
             "pattern": {
              "fillmode": "overlay",
              "size": 10,
              "solidity": 0.2
             }
            },
            "type": "bar"
           }
          ],
          "barpolar": [
           {
            "marker": {
             "line": {
              "color": "#E5ECF6",
              "width": 0.5
             },
             "pattern": {
              "fillmode": "overlay",
              "size": 10,
              "solidity": 0.2
             }
            },
            "type": "barpolar"
           }
          ],
          "carpet": [
           {
            "aaxis": {
             "endlinecolor": "#2a3f5f",
             "gridcolor": "white",
             "linecolor": "white",
             "minorgridcolor": "white",
             "startlinecolor": "#2a3f5f"
            },
            "baxis": {
             "endlinecolor": "#2a3f5f",
             "gridcolor": "white",
             "linecolor": "white",
             "minorgridcolor": "white",
             "startlinecolor": "#2a3f5f"
            },
            "type": "carpet"
           }
          ],
          "choropleth": [
           {
            "colorbar": {
             "outlinewidth": 0,
             "ticks": ""
            },
            "type": "choropleth"
           }
          ],
          "contour": [
           {
            "colorbar": {
             "outlinewidth": 0,
             "ticks": ""
            },
            "colorscale": [
             [
              0,
              "#0d0887"
             ],
             [
              0.1111111111111111,
              "#46039f"
             ],
             [
              0.2222222222222222,
              "#7201a8"
             ],
             [
              0.3333333333333333,
              "#9c179e"
             ],
             [
              0.4444444444444444,
              "#bd3786"
             ],
             [
              0.5555555555555556,
              "#d8576b"
             ],
             [
              0.6666666666666666,
              "#ed7953"
             ],
             [
              0.7777777777777778,
              "#fb9f3a"
             ],
             [
              0.8888888888888888,
              "#fdca26"
             ],
             [
              1,
              "#f0f921"
             ]
            ],
            "type": "contour"
           }
          ],
          "contourcarpet": [
           {
            "colorbar": {
             "outlinewidth": 0,
             "ticks": ""
            },
            "type": "contourcarpet"
           }
          ],
          "heatmap": [
           {
            "colorbar": {
             "outlinewidth": 0,
             "ticks": ""
            },
            "colorscale": [
             [
              0,
              "#0d0887"
             ],
             [
              0.1111111111111111,
              "#46039f"
             ],
             [
              0.2222222222222222,
              "#7201a8"
             ],
             [
              0.3333333333333333,
              "#9c179e"
             ],
             [
              0.4444444444444444,
              "#bd3786"
             ],
             [
              0.5555555555555556,
              "#d8576b"
             ],
             [
              0.6666666666666666,
              "#ed7953"
             ],
             [
              0.7777777777777778,
              "#fb9f3a"
             ],
             [
              0.8888888888888888,
              "#fdca26"
             ],
             [
              1,
              "#f0f921"
             ]
            ],
            "type": "heatmap"
           }
          ],
          "heatmapgl": [
           {
            "colorbar": {
             "outlinewidth": 0,
             "ticks": ""
            },
            "colorscale": [
             [
              0,
              "#0d0887"
             ],
             [
              0.1111111111111111,
              "#46039f"
             ],
             [
              0.2222222222222222,
              "#7201a8"
             ],
             [
              0.3333333333333333,
              "#9c179e"
             ],
             [
              0.4444444444444444,
              "#bd3786"
             ],
             [
              0.5555555555555556,
              "#d8576b"
             ],
             [
              0.6666666666666666,
              "#ed7953"
             ],
             [
              0.7777777777777778,
              "#fb9f3a"
             ],
             [
              0.8888888888888888,
              "#fdca26"
             ],
             [
              1,
              "#f0f921"
             ]
            ],
            "type": "heatmapgl"
           }
          ],
          "histogram": [
           {
            "marker": {
             "pattern": {
              "fillmode": "overlay",
              "size": 10,
              "solidity": 0.2
             }
            },
            "type": "histogram"
           }
          ],
          "histogram2d": [
           {
            "colorbar": {
             "outlinewidth": 0,
             "ticks": ""
            },
            "colorscale": [
             [
              0,
              "#0d0887"
             ],
             [
              0.1111111111111111,
              "#46039f"
             ],
             [
              0.2222222222222222,
              "#7201a8"
             ],
             [
              0.3333333333333333,
              "#9c179e"
             ],
             [
              0.4444444444444444,
              "#bd3786"
             ],
             [
              0.5555555555555556,
              "#d8576b"
             ],
             [
              0.6666666666666666,
              "#ed7953"
             ],
             [
              0.7777777777777778,
              "#fb9f3a"
             ],
             [
              0.8888888888888888,
              "#fdca26"
             ],
             [
              1,
              "#f0f921"
             ]
            ],
            "type": "histogram2d"
           }
          ],
          "histogram2dcontour": [
           {
            "colorbar": {
             "outlinewidth": 0,
             "ticks": ""
            },
            "colorscale": [
             [
              0,
              "#0d0887"
             ],
             [
              0.1111111111111111,
              "#46039f"
             ],
             [
              0.2222222222222222,
              "#7201a8"
             ],
             [
              0.3333333333333333,
              "#9c179e"
             ],
             [
              0.4444444444444444,
              "#bd3786"
             ],
             [
              0.5555555555555556,
              "#d8576b"
             ],
             [
              0.6666666666666666,
              "#ed7953"
             ],
             [
              0.7777777777777778,
              "#fb9f3a"
             ],
             [
              0.8888888888888888,
              "#fdca26"
             ],
             [
              1,
              "#f0f921"
             ]
            ],
            "type": "histogram2dcontour"
           }
          ],
          "mesh3d": [
           {
            "colorbar": {
             "outlinewidth": 0,
             "ticks": ""
            },
            "type": "mesh3d"
           }
          ],
          "parcoords": [
           {
            "line": {
             "colorbar": {
              "outlinewidth": 0,
              "ticks": ""
             }
            },
            "type": "parcoords"
           }
          ],
          "pie": [
           {
            "automargin": true,
            "type": "pie"
           }
          ],
          "scatter": [
           {
            "fillpattern": {
             "fillmode": "overlay",
             "size": 10,
             "solidity": 0.2
            },
            "type": "scatter"
           }
          ],
          "scatter3d": [
           {
            "line": {
             "colorbar": {
              "outlinewidth": 0,
              "ticks": ""
             }
            },
            "marker": {
             "colorbar": {
              "outlinewidth": 0,
              "ticks": ""
             }
            },
            "type": "scatter3d"
           }
          ],
          "scattercarpet": [
           {
            "marker": {
             "colorbar": {
              "outlinewidth": 0,
              "ticks": ""
             }
            },
            "type": "scattercarpet"
           }
          ],
          "scattergeo": [
           {
            "marker": {
             "colorbar": {
              "outlinewidth": 0,
              "ticks": ""
             }
            },
            "type": "scattergeo"
           }
          ],
          "scattergl": [
           {
            "marker": {
             "colorbar": {
              "outlinewidth": 0,
              "ticks": ""
             }
            },
            "type": "scattergl"
           }
          ],
          "scattermapbox": [
           {
            "marker": {
             "colorbar": {
              "outlinewidth": 0,
              "ticks": ""
             }
            },
            "type": "scattermapbox"
           }
          ],
          "scatterpolar": [
           {
            "marker": {
             "colorbar": {
              "outlinewidth": 0,
              "ticks": ""
             }
            },
            "type": "scatterpolar"
           }
          ],
          "scatterpolargl": [
           {
            "marker": {
             "colorbar": {
              "outlinewidth": 0,
              "ticks": ""
             }
            },
            "type": "scatterpolargl"
           }
          ],
          "scatterternary": [
           {
            "marker": {
             "colorbar": {
              "outlinewidth": 0,
              "ticks": ""
             }
            },
            "type": "scatterternary"
           }
          ],
          "surface": [
           {
            "colorbar": {
             "outlinewidth": 0,
             "ticks": ""
            },
            "colorscale": [
             [
              0,
              "#0d0887"
             ],
             [
              0.1111111111111111,
              "#46039f"
             ],
             [
              0.2222222222222222,
              "#7201a8"
             ],
             [
              0.3333333333333333,
              "#9c179e"
             ],
             [
              0.4444444444444444,
              "#bd3786"
             ],
             [
              0.5555555555555556,
              "#d8576b"
             ],
             [
              0.6666666666666666,
              "#ed7953"
             ],
             [
              0.7777777777777778,
              "#fb9f3a"
             ],
             [
              0.8888888888888888,
              "#fdca26"
             ],
             [
              1,
              "#f0f921"
             ]
            ],
            "type": "surface"
           }
          ],
          "table": [
           {
            "cells": {
             "fill": {
              "color": "#EBF0F8"
             },
             "line": {
              "color": "white"
             }
            },
            "header": {
             "fill": {
              "color": "#C8D4E3"
             },
             "line": {
              "color": "white"
             }
            },
            "type": "table"
           }
          ]
         },
         "layout": {
          "annotationdefaults": {
           "arrowcolor": "#2a3f5f",
           "arrowhead": 0,
           "arrowwidth": 1
          },
          "autotypenumbers": "strict",
          "coloraxis": {
           "colorbar": {
            "outlinewidth": 0,
            "ticks": ""
           }
          },
          "colorscale": {
           "diverging": [
            [
             0,
             "#8e0152"
            ],
            [
             0.1,
             "#c51b7d"
            ],
            [
             0.2,
             "#de77ae"
            ],
            [
             0.3,
             "#f1b6da"
            ],
            [
             0.4,
             "#fde0ef"
            ],
            [
             0.5,
             "#f7f7f7"
            ],
            [
             0.6,
             "#e6f5d0"
            ],
            [
             0.7,
             "#b8e186"
            ],
            [
             0.8,
             "#7fbc41"
            ],
            [
             0.9,
             "#4d9221"
            ],
            [
             1,
             "#276419"
            ]
           ],
           "sequential": [
            [
             0,
             "#0d0887"
            ],
            [
             0.1111111111111111,
             "#46039f"
            ],
            [
             0.2222222222222222,
             "#7201a8"
            ],
            [
             0.3333333333333333,
             "#9c179e"
            ],
            [
             0.4444444444444444,
             "#bd3786"
            ],
            [
             0.5555555555555556,
             "#d8576b"
            ],
            [
             0.6666666666666666,
             "#ed7953"
            ],
            [
             0.7777777777777778,
             "#fb9f3a"
            ],
            [
             0.8888888888888888,
             "#fdca26"
            ],
            [
             1,
             "#f0f921"
            ]
           ],
           "sequentialminus": [
            [
             0,
             "#0d0887"
            ],
            [
             0.1111111111111111,
             "#46039f"
            ],
            [
             0.2222222222222222,
             "#7201a8"
            ],
            [
             0.3333333333333333,
             "#9c179e"
            ],
            [
             0.4444444444444444,
             "#bd3786"
            ],
            [
             0.5555555555555556,
             "#d8576b"
            ],
            [
             0.6666666666666666,
             "#ed7953"
            ],
            [
             0.7777777777777778,
             "#fb9f3a"
            ],
            [
             0.8888888888888888,
             "#fdca26"
            ],
            [
             1,
             "#f0f921"
            ]
           ]
          },
          "colorway": [
           "#636efa",
           "#EF553B",
           "#00cc96",
           "#ab63fa",
           "#FFA15A",
           "#19d3f3",
           "#FF6692",
           "#B6E880",
           "#FF97FF",
           "#FECB52"
          ],
          "font": {
           "color": "#2a3f5f"
          },
          "geo": {
           "bgcolor": "white",
           "lakecolor": "white",
           "landcolor": "#E5ECF6",
           "showlakes": true,
           "showland": true,
           "subunitcolor": "white"
          },
          "hoverlabel": {
           "align": "left"
          },
          "hovermode": "closest",
          "mapbox": {
           "style": "light"
          },
          "paper_bgcolor": "white",
          "plot_bgcolor": "#E5ECF6",
          "polar": {
           "angularaxis": {
            "gridcolor": "white",
            "linecolor": "white",
            "ticks": ""
           },
           "bgcolor": "#E5ECF6",
           "radialaxis": {
            "gridcolor": "white",
            "linecolor": "white",
            "ticks": ""
           }
          },
          "scene": {
           "xaxis": {
            "backgroundcolor": "#E5ECF6",
            "gridcolor": "white",
            "gridwidth": 2,
            "linecolor": "white",
            "showbackground": true,
            "ticks": "",
            "zerolinecolor": "white"
           },
           "yaxis": {
            "backgroundcolor": "#E5ECF6",
            "gridcolor": "white",
            "gridwidth": 2,
            "linecolor": "white",
            "showbackground": true,
            "ticks": "",
            "zerolinecolor": "white"
           },
           "zaxis": {
            "backgroundcolor": "#E5ECF6",
            "gridcolor": "white",
            "gridwidth": 2,
            "linecolor": "white",
            "showbackground": true,
            "ticks": "",
            "zerolinecolor": "white"
           }
          },
          "shapedefaults": {
           "line": {
            "color": "#2a3f5f"
           }
          },
          "ternary": {
           "aaxis": {
            "gridcolor": "white",
            "linecolor": "white",
            "ticks": ""
           },
           "baxis": {
            "gridcolor": "white",
            "linecolor": "white",
            "ticks": ""
           },
           "bgcolor": "#E5ECF6",
           "caxis": {
            "gridcolor": "white",
            "linecolor": "white",
            "ticks": ""
           }
          },
          "title": {
           "x": 0.05
          },
          "xaxis": {
           "automargin": true,
           "gridcolor": "white",
           "linecolor": "white",
           "ticks": "",
           "title": {
            "standoff": 15
           },
           "zerolinecolor": "white",
           "zerolinewidth": 2
          },
          "yaxis": {
           "automargin": true,
           "gridcolor": "white",
           "linecolor": "white",
           "ticks": "",
           "title": {
            "standoff": 15
           },
           "zerolinecolor": "white",
           "zerolinewidth": 2
          }
         }
        },
        "width": 1000
       }
      },
      "text/html": [
       "<div>                            <div id=\"da45e8c7-e0c2-4524-819d-aaf5278bc70d\" class=\"plotly-graph-div\" style=\"height:750px; width:1000px;\"></div>            <script type=\"text/javascript\">                require([\"plotly\"], function(Plotly) {                    window.PLOTLYENV=window.PLOTLYENV || {};                                    if (document.getElementById(\"da45e8c7-e0c2-4524-819d-aaf5278bc70d\")) {                    Plotly.newPlot(                        \"da45e8c7-e0c2-4524-819d-aaf5278bc70d\",                        [{\"lat\":[41.54111111,41.58333333,41.72694444,41.67277778,41.43378611,41.40419167,41.545,41.59277778,41.81240081787109],\"line\":{\"color\":\"#ff7f0e\",\"width\":10},\"lon\":[12.91805556,12.76611111,12.7075,12.47361111,12.57203333,12.44508056,12.38694444,12.36694444,12.275500297546388],\"mode\":\"lines\",\"name\":\"LAT2C  \",\"opacity\":0.4,\"showlegend\":true,\"type\":\"scattermapbox\"},{\"lat\":[41.54111111],\"lon\":[12.91805556],\"marker\":{\"color\":\"#ff7f0e\",\"size\":10},\"mode\":\"markers+text\",\"name\":\"LAT\",\"showlegend\":false,\"text\":[\"LAT\"],\"textfont\":{\"color\":\"#ff7f0e\",\"size\":30},\"textposition\":\"bottom right\",\"type\":\"scattermapbox\"},{\"lat\":[42.69861111,42.36138889,42.21972222,42.185,42.42353889,42.38849444,42.15,42.01583333,41.84600067138672],\"line\":{\"color\":\"#2ca02c\",\"width\":10},\"lon\":[12.16361111,12.4325,12.49222222,12.34222222,12.241625,12.09120278,12.19222222,12.19027778,12.261500358581545],\"mode\":\"lines\",\"name\":\"RITEB2A  \",\"opacity\":0.4,\"showlegend\":true,\"type\":\"scattermapbox\"},{\"lat\":[42.69861111],\"lon\":[12.16361111],\"marker\":{\"color\":\"#2ca02c\",\"size\":10},\"mode\":\"markers+text\",\"name\":\"RITEB\",\"showlegend\":false,\"text\":[\"RITEB\"],\"textfont\":{\"color\":\"#2ca02c\",\"size\":30},\"textposition\":\"top right\",\"type\":\"scattermapbox\"},{\"lat\":[42.72105278,42.44097778,42.40361111,42.0475,42.08305556,42.32122778,42.35665833,42.11833333,42.06194444,41.81549835205078],\"line\":{\"color\":\"#d62728\",\"width\":10},\"lon\":[10.64411111,11.25151389,11.58277778,11.74111111,11.89055556,11.78854444,11.93861667,12.04027778,12.12277778,12.226400375366213],\"mode\":\"lines\",\"name\":\"ELKAP2A  \",\"opacity\":0.4,\"showlegend\":true,\"type\":\"scattermapbox\"},{\"lat\":[42.72105278],\"lon\":[10.64411111],\"marker\":{\"color\":\"#d62728\",\"size\":10},\"mode\":\"markers+text\",\"name\":\"ELKAP\",\"showlegend\":false,\"text\":[\"ELKAP\"],\"textfont\":{\"color\":\"#d62728\",\"size\":30},\"textposition\":\"top left\",\"type\":\"scattermapbox\"},{\"lat\":[41.577225,41.63416667,41.39194444,41.43527778,41.2763,41.30605833,41.52888889,41.57888889,41.78200149536133],\"line\":{\"color\":\"#1f77b4\",\"width\":10},\"lon\":[11.42138889,11.93305556,12.03916667,12.22333333,12.2894,12.416025,12.32388889,12.325,12.240400314331056],\"mode\":\"lines\",\"name\":\"VALMA2C  \",\"opacity\":0.4,\"showlegend\":true,\"type\":\"scattermapbox\"},{\"lat\":[41.577225],\"lon\":[11.42138889],\"marker\":{\"color\":\"#1f77b4\",\"size\":10},\"mode\":\"markers+text\",\"name\":\"VALMA\",\"showlegend\":false,\"text\":[\"VALMA\"],\"textfont\":{\"color\":\"#1f77b4\",\"size\":30},\"textposition\":\"bottom left\",\"type\":\"scattermapbox\"}],                        {\"template\":{\"data\":{\"histogram2dcontour\":[{\"type\":\"histogram2dcontour\",\"colorbar\":{\"outlinewidth\":0,\"ticks\":\"\"},\"colorscale\":[[0.0,\"#0d0887\"],[0.1111111111111111,\"#46039f\"],[0.2222222222222222,\"#7201a8\"],[0.3333333333333333,\"#9c179e\"],[0.4444444444444444,\"#bd3786\"],[0.5555555555555556,\"#d8576b\"],[0.6666666666666666,\"#ed7953\"],[0.7777777777777778,\"#fb9f3a\"],[0.8888888888888888,\"#fdca26\"],[1.0,\"#f0f921\"]]}],\"choropleth\":[{\"type\":\"choropleth\",\"colorbar\":{\"outlinewidth\":0,\"ticks\":\"\"}}],\"histogram2d\":[{\"type\":\"histogram2d\",\"colorbar\":{\"outlinewidth\":0,\"ticks\":\"\"},\"colorscale\":[[0.0,\"#0d0887\"],[0.1111111111111111,\"#46039f\"],[0.2222222222222222,\"#7201a8\"],[0.3333333333333333,\"#9c179e\"],[0.4444444444444444,\"#bd3786\"],[0.5555555555555556,\"#d8576b\"],[0.6666666666666666,\"#ed7953\"],[0.7777777777777778,\"#fb9f3a\"],[0.8888888888888888,\"#fdca26\"],[1.0,\"#f0f921\"]]}],\"heatmap\":[{\"type\":\"heatmap\",\"colorbar\":{\"outlinewidth\":0,\"ticks\":\"\"},\"colorscale\":[[0.0,\"#0d0887\"],[0.1111111111111111,\"#46039f\"],[0.2222222222222222,\"#7201a8\"],[0.3333333333333333,\"#9c179e\"],[0.4444444444444444,\"#bd3786\"],[0.5555555555555556,\"#d8576b\"],[0.6666666666666666,\"#ed7953\"],[0.7777777777777778,\"#fb9f3a\"],[0.8888888888888888,\"#fdca26\"],[1.0,\"#f0f921\"]]}],\"heatmapgl\":[{\"type\":\"heatmapgl\",\"colorbar\":{\"outlinewidth\":0,\"ticks\":\"\"},\"colorscale\":[[0.0,\"#0d0887\"],[0.1111111111111111,\"#46039f\"],[0.2222222222222222,\"#7201a8\"],[0.3333333333333333,\"#9c179e\"],[0.4444444444444444,\"#bd3786\"],[0.5555555555555556,\"#d8576b\"],[0.6666666666666666,\"#ed7953\"],[0.7777777777777778,\"#fb9f3a\"],[0.8888888888888888,\"#fdca26\"],[1.0,\"#f0f921\"]]}],\"contourcarpet\":[{\"type\":\"contourcarpet\",\"colorbar\":{\"outlinewidth\":0,\"ticks\":\"\"}}],\"contour\":[{\"type\":\"contour\",\"colorbar\":{\"outlinewidth\":0,\"ticks\":\"\"},\"colorscale\":[[0.0,\"#0d0887\"],[0.1111111111111111,\"#46039f\"],[0.2222222222222222,\"#7201a8\"],[0.3333333333333333,\"#9c179e\"],[0.4444444444444444,\"#bd3786\"],[0.5555555555555556,\"#d8576b\"],[0.6666666666666666,\"#ed7953\"],[0.7777777777777778,\"#fb9f3a\"],[0.8888888888888888,\"#fdca26\"],[1.0,\"#f0f921\"]]}],\"surface\":[{\"type\":\"surface\",\"colorbar\":{\"outlinewidth\":0,\"ticks\":\"\"},\"colorscale\":[[0.0,\"#0d0887\"],[0.1111111111111111,\"#46039f\"],[0.2222222222222222,\"#7201a8\"],[0.3333333333333333,\"#9c179e\"],[0.4444444444444444,\"#bd3786\"],[0.5555555555555556,\"#d8576b\"],[0.6666666666666666,\"#ed7953\"],[0.7777777777777778,\"#fb9f3a\"],[0.8888888888888888,\"#fdca26\"],[1.0,\"#f0f921\"]]}],\"mesh3d\":[{\"type\":\"mesh3d\",\"colorbar\":{\"outlinewidth\":0,\"ticks\":\"\"}}],\"scatter\":[{\"fillpattern\":{\"fillmode\":\"overlay\",\"size\":10,\"solidity\":0.2},\"type\":\"scatter\"}],\"parcoords\":[{\"type\":\"parcoords\",\"line\":{\"colorbar\":{\"outlinewidth\":0,\"ticks\":\"\"}}}],\"scatterpolargl\":[{\"type\":\"scatterpolargl\",\"marker\":{\"colorbar\":{\"outlinewidth\":0,\"ticks\":\"\"}}}],\"bar\":[{\"error_x\":{\"color\":\"#2a3f5f\"},\"error_y\":{\"color\":\"#2a3f5f\"},\"marker\":{\"line\":{\"color\":\"#E5ECF6\",\"width\":0.5},\"pattern\":{\"fillmode\":\"overlay\",\"size\":10,\"solidity\":0.2}},\"type\":\"bar\"}],\"scattergeo\":[{\"type\":\"scattergeo\",\"marker\":{\"colorbar\":{\"outlinewidth\":0,\"ticks\":\"\"}}}],\"scatterpolar\":[{\"type\":\"scatterpolar\",\"marker\":{\"colorbar\":{\"outlinewidth\":0,\"ticks\":\"\"}}}],\"histogram\":[{\"marker\":{\"pattern\":{\"fillmode\":\"overlay\",\"size\":10,\"solidity\":0.2}},\"type\":\"histogram\"}],\"scattergl\":[{\"type\":\"scattergl\",\"marker\":{\"colorbar\":{\"outlinewidth\":0,\"ticks\":\"\"}}}],\"scatter3d\":[{\"type\":\"scatter3d\",\"line\":{\"colorbar\":{\"outlinewidth\":0,\"ticks\":\"\"}},\"marker\":{\"colorbar\":{\"outlinewidth\":0,\"ticks\":\"\"}}}],\"scattermapbox\":[{\"type\":\"scattermapbox\",\"marker\":{\"colorbar\":{\"outlinewidth\":0,\"ticks\":\"\"}}}],\"scatterternary\":[{\"type\":\"scatterternary\",\"marker\":{\"colorbar\":{\"outlinewidth\":0,\"ticks\":\"\"}}}],\"scattercarpet\":[{\"type\":\"scattercarpet\",\"marker\":{\"colorbar\":{\"outlinewidth\":0,\"ticks\":\"\"}}}],\"carpet\":[{\"aaxis\":{\"endlinecolor\":\"#2a3f5f\",\"gridcolor\":\"white\",\"linecolor\":\"white\",\"minorgridcolor\":\"white\",\"startlinecolor\":\"#2a3f5f\"},\"baxis\":{\"endlinecolor\":\"#2a3f5f\",\"gridcolor\":\"white\",\"linecolor\":\"white\",\"minorgridcolor\":\"white\",\"startlinecolor\":\"#2a3f5f\"},\"type\":\"carpet\"}],\"table\":[{\"cells\":{\"fill\":{\"color\":\"#EBF0F8\"},\"line\":{\"color\":\"white\"}},\"header\":{\"fill\":{\"color\":\"#C8D4E3\"},\"line\":{\"color\":\"white\"}},\"type\":\"table\"}],\"barpolar\":[{\"marker\":{\"line\":{\"color\":\"#E5ECF6\",\"width\":0.5},\"pattern\":{\"fillmode\":\"overlay\",\"size\":10,\"solidity\":0.2}},\"type\":\"barpolar\"}],\"pie\":[{\"automargin\":true,\"type\":\"pie\"}]},\"layout\":{\"autotypenumbers\":\"strict\",\"colorway\":[\"#636efa\",\"#EF553B\",\"#00cc96\",\"#ab63fa\",\"#FFA15A\",\"#19d3f3\",\"#FF6692\",\"#B6E880\",\"#FF97FF\",\"#FECB52\"],\"font\":{\"color\":\"#2a3f5f\"},\"hovermode\":\"closest\",\"hoverlabel\":{\"align\":\"left\"},\"paper_bgcolor\":\"white\",\"plot_bgcolor\":\"#E5ECF6\",\"polar\":{\"bgcolor\":\"#E5ECF6\",\"angularaxis\":{\"gridcolor\":\"white\",\"linecolor\":\"white\",\"ticks\":\"\"},\"radialaxis\":{\"gridcolor\":\"white\",\"linecolor\":\"white\",\"ticks\":\"\"}},\"ternary\":{\"bgcolor\":\"#E5ECF6\",\"aaxis\":{\"gridcolor\":\"white\",\"linecolor\":\"white\",\"ticks\":\"\"},\"baxis\":{\"gridcolor\":\"white\",\"linecolor\":\"white\",\"ticks\":\"\"},\"caxis\":{\"gridcolor\":\"white\",\"linecolor\":\"white\",\"ticks\":\"\"}},\"coloraxis\":{\"colorbar\":{\"outlinewidth\":0,\"ticks\":\"\"}},\"colorscale\":{\"sequential\":[[0.0,\"#0d0887\"],[0.1111111111111111,\"#46039f\"],[0.2222222222222222,\"#7201a8\"],[0.3333333333333333,\"#9c179e\"],[0.4444444444444444,\"#bd3786\"],[0.5555555555555556,\"#d8576b\"],[0.6666666666666666,\"#ed7953\"],[0.7777777777777778,\"#fb9f3a\"],[0.8888888888888888,\"#fdca26\"],[1.0,\"#f0f921\"]],\"sequentialminus\":[[0.0,\"#0d0887\"],[0.1111111111111111,\"#46039f\"],[0.2222222222222222,\"#7201a8\"],[0.3333333333333333,\"#9c179e\"],[0.4444444444444444,\"#bd3786\"],[0.5555555555555556,\"#d8576b\"],[0.6666666666666666,\"#ed7953\"],[0.7777777777777778,\"#fb9f3a\"],[0.8888888888888888,\"#fdca26\"],[1.0,\"#f0f921\"]],\"diverging\":[[0,\"#8e0152\"],[0.1,\"#c51b7d\"],[0.2,\"#de77ae\"],[0.3,\"#f1b6da\"],[0.4,\"#fde0ef\"],[0.5,\"#f7f7f7\"],[0.6,\"#e6f5d0\"],[0.7,\"#b8e186\"],[0.8,\"#7fbc41\"],[0.9,\"#4d9221\"],[1,\"#276419\"]]},\"xaxis\":{\"gridcolor\":\"white\",\"linecolor\":\"white\",\"ticks\":\"\",\"title\":{\"standoff\":15},\"zerolinecolor\":\"white\",\"automargin\":true,\"zerolinewidth\":2},\"yaxis\":{\"gridcolor\":\"white\",\"linecolor\":\"white\",\"ticks\":\"\",\"title\":{\"standoff\":15},\"zerolinecolor\":\"white\",\"automargin\":true,\"zerolinewidth\":2},\"scene\":{\"xaxis\":{\"backgroundcolor\":\"#E5ECF6\",\"gridcolor\":\"white\",\"linecolor\":\"white\",\"showbackground\":true,\"ticks\":\"\",\"zerolinecolor\":\"white\",\"gridwidth\":2},\"yaxis\":{\"backgroundcolor\":\"#E5ECF6\",\"gridcolor\":\"white\",\"linecolor\":\"white\",\"showbackground\":true,\"ticks\":\"\",\"zerolinecolor\":\"white\",\"gridwidth\":2},\"zaxis\":{\"backgroundcolor\":\"#E5ECF6\",\"gridcolor\":\"white\",\"linecolor\":\"white\",\"showbackground\":true,\"ticks\":\"\",\"zerolinecolor\":\"white\",\"gridwidth\":2}},\"shapedefaults\":{\"line\":{\"color\":\"#2a3f5f\"}},\"annotationdefaults\":{\"arrowcolor\":\"#2a3f5f\",\"arrowhead\":0,\"arrowwidth\":1},\"geo\":{\"bgcolor\":\"white\",\"landcolor\":\"#E5ECF6\",\"subunitcolor\":\"white\",\"showland\":true,\"showlakes\":true,\"lakecolor\":\"white\"},\"title\":{\"x\":0.05},\"mapbox\":{\"style\":\"light\"}}},\"margin\":{\"l\":0,\"r\":0,\"t\":0,\"b\":0},\"mapbox\":{\"center\":{\"lat\":41.80343115135215,\"lon\":12.251942555970736},\"style\":\"carto-positron\",\"zoom\":7.8},\"legend\":{\"font\":{\"size\":30},\"x\":0.5,\"y\":-0.008,\"xanchor\":\"center\",\"orientation\":\"h\",\"traceorder\":\"normal\",\"bgcolor\":\"rgba(255, 255, 255, 0.7)\"},\"width\":1000,\"height\":750},                        {\"responsive\": true}                    ).then(function(){\n",
       "                            \n",
       "var gd = document.getElementById('da45e8c7-e0c2-4524-819d-aaf5278bc70d');\n",
       "var x = new MutationObserver(function (mutations, observer) {{\n",
       "        var display = window.getComputedStyle(gd).display;\n",
       "        if (!display || display === 'none') {{\n",
       "            console.log([gd, 'removed!']);\n",
       "            Plotly.purge(gd);\n",
       "            observer.disconnect();\n",
       "        }}\n",
       "}});\n",
       "\n",
       "// Listen for the removal of the full notebook cells\n",
       "var notebookContainer = gd.closest('#notebook-container');\n",
       "if (notebookContainer) {{\n",
       "    x.observe(notebookContainer, {childList: true});\n",
       "}}\n",
       "\n",
       "// Listen for the clearing of the current output cell\n",
       "var outputEl = gd.closest('.output');\n",
       "if (outputEl) {{\n",
       "    x.observe(outputEl, {childList: true});\n",
       "}}\n",
       "\n",
       "                        })                };                });            </script>        </div>"
      ]
     },
     "metadata": {},
     "output_type": "display_data"
    }
   ],
   "source": [
    "# Create a single figure for the map\n",
    "fig = go.Figure()\n",
    "\n",
    "# Add LAT2C STAR ---------------------------------------------------------------------------------------------------\n",
    "star_lat = [\n",
    "    navaids.extent(\"Italy\")['LAT'].latitude,\n",
    "    navaids[\"IPSAR\"].latitude,\n",
    "    navaids[\"BASBU\"].latitude,\n",
    "    navaids[\"NIBUG\"].latitude,\n",
    "    navaids[\"RF483\"].latitude,\n",
    "    navaids[\"RF486\"].latitude,\n",
    "    navaids[\"ODULA\"].latitude,\n",
    "    navaids[\"IDABU\"].latitude,\n",
    "    airports[\"LIRF\"].runways.data.query(f\"name == '34R'\").latitude.iloc[0],\n",
    "]\n",
    "star_lon = [\n",
    "    navaids.extent(\"Italy\")['LAT'].longitude,\n",
    "    navaids[\"IPSAR\"].longitude,\n",
    "    navaids[\"BASBU\"].longitude,\n",
    "    navaids[\"NIBUG\"].longitude,\n",
    "    navaids[\"RF483\"].longitude,\n",
    "    navaids[\"RF486\"].longitude,\n",
    "    navaids[\"ODULA\"].longitude,\n",
    "    navaids[\"IDABU\"].longitude,\n",
    "    airports[\"LIRF\"].runways.data.query(f\"name == '34R'\").longitude.iloc[0],\n",
    "]\n",
    "\n",
    "fig.add_trace(\n",
    "    go.Scattermapbox(\n",
    "        mode=\"lines\",\n",
    "        lat=star_lat,\n",
    "        lon=star_lon,\n",
    "        name=\"LAT2C  \",\n",
    "        line=dict(width=10, color=\"#ff7f0e\"),\n",
    "        opacity=0.4,\n",
    "        showlegend=True,\n",
    "    )\n",
    ")\n",
    "\n",
    "fig.add_trace(\n",
    "    go.Scattermapbox(\n",
    "        mode=\"markers+text\",\n",
    "        lat=[navaids.extent(\"Italy\")['LAT'].latitude],\n",
    "        lon=[navaids.extent(\"Italy\")['LAT'].longitude],\n",
    "        marker=dict(size=10, color=\"#ff7f0e\"),\n",
    "        text=[\"LAT\"],\n",
    "        textposition=\"bottom right\",\n",
    "        textfont=dict(color=\"#ff7f0e\", size=30),\n",
    "        name=\"LAT\",\n",
    "        showlegend=False,\n",
    "    )\n",
    ")\n",
    "\n",
    "# Add RITEB2A STAR ---------------------------------------------------------------------------------------------------\n",
    "star_lat = [\n",
    "    navaids[\"RITEB\"].latitude,\n",
    "    navaids[\"LIGBU\"].latitude,\n",
    "    navaids[\"ESALU\"].latitude,\n",
    "    navaids[\"VAKAB\"].latitude,\n",
    "    navaids[\"RF444\"].latitude,\n",
    "    navaids[\"RF446\"].latitude,\n",
    "    navaids[\"EXAMA\"].latitude,\n",
    "    navaids[\"OXERU\"].latitude,\n",
    "    airports[\"LIRF\"].runways.data.query(f\"name == '16L'\").latitude.iloc[0],\n",
    "]\n",
    "star_lon = [\n",
    "    navaids[\"RITEB\"].longitude,\n",
    "    navaids[\"LIGBU\"].longitude,\n",
    "    navaids[\"ESALU\"].longitude,\n",
    "    navaids[\"VAKAB\"].longitude,\n",
    "    navaids[\"RF444\"].longitude,\n",
    "    navaids[\"RF446\"].longitude,\n",
    "    navaids[\"EXAMA\"].longitude,\n",
    "    navaids[\"OXERU\"].longitude,\n",
    "    airports[\"LIRF\"].runways.data.query(f\"name == '16L'\").longitude.iloc[0],\n",
    "]\n",
    "\n",
    "fig.add_trace(\n",
    "    go.Scattermapbox(\n",
    "        mode=\"lines\",\n",
    "        lat=star_lat,\n",
    "        lon=star_lon,\n",
    "        name=\"RITEB2A  \",\n",
    "        line=dict(width=10, color=\"#2ca02c\"),\n",
    "        opacity=0.4,\n",
    "        showlegend=True,\n",
    "    )\n",
    ")\n",
    "\n",
    "fig.add_trace(\n",
    "    go.Scattermapbox(\n",
    "        mode=\"markers+text\",\n",
    "        lat=[navaids[\"RITEB\"].latitude],\n",
    "        lon=[navaids[\"RITEB\"].longitude],\n",
    "        marker=dict(size=10, color=\"#2ca02c\"),\n",
    "        text=[\"RITEB\"],\n",
    "        textposition=\"top right\",\n",
    "        textfont=dict(color=\"#2ca02c\", size=30),\n",
    "        name=\"RITEB\",\n",
    "        showlegend=False,\n",
    "    )\n",
    ")\n",
    "\n",
    "# Add ELKAP2A STAR ---------------------------------------------------------------------------------------------------\n",
    "star_lat = [\n",
    "    navaids[\"ELKAP\"].latitude,\n",
    "    navaids[\"BIBEK\"].latitude,\n",
    "    navaids[\"GOPOL\"].latitude,\n",
    "    navaids[\"USIRU\"].latitude,\n",
    "    navaids[\"GIPAP\"].latitude,\n",
    "    navaids[\"RF424\"].latitude,\n",
    "    navaids[\"RF426\"].latitude,\n",
    "    navaids[\"SUVOK\"].latitude,\n",
    "    navaids[\"MAVEN\"].latitude,\n",
    "    airports[\"LIRF\"].runways.data.query(f\"name == '16R'\").latitude.iloc[0],\n",
    "]\n",
    "star_lon = [\n",
    "    navaids[\"ELKAP\"].longitude,\n",
    "    navaids[\"BIBEK\"].longitude,\n",
    "    navaids[\"GOPOL\"].longitude,\n",
    "    navaids[\"USIRU\"].longitude,\n",
    "    navaids[\"GIPAP\"].longitude,\n",
    "    navaids[\"RF424\"].longitude,\n",
    "    navaids[\"RF426\"].longitude,\n",
    "    navaids[\"SUVOK\"].longitude,\n",
    "    navaids[\"MAVEN\"].longitude,\n",
    "    airports[\"LIRF\"].runways.data.query(f\"name == '16R'\").longitude.iloc[0],\n",
    "]\n",
    "\n",
    "fig.add_trace(\n",
    "    go.Scattermapbox(\n",
    "        mode=\"lines\",\n",
    "        lat=star_lat,\n",
    "        lon=star_lon,\n",
    "        name=\"ELKAP2A  \",\n",
    "        line=dict(width=10, color=\"#d62728\"),\n",
    "        opacity=0.4,\n",
    "        showlegend=True,\n",
    "    )\n",
    ")\n",
    "\n",
    "fig.add_trace(\n",
    "    go.Scattermapbox(\n",
    "        mode=\"markers+text\",\n",
    "        lat=[navaids[\"ELKAP\"].latitude],\n",
    "        lon=[navaids[\"ELKAP\"].longitude],\n",
    "        marker=dict(size=10, color=\"#d62728\"),\n",
    "        text=[\"ELKAP\"],\n",
    "        textposition=\"top left\",\n",
    "        textfont=dict(color=\"#d62728\", size=30),\n",
    "        name=\"ELKAP\",\n",
    "        showlegend=False,\n",
    "    )\n",
    ")\n",
    "\n",
    "# Add VALMA2C STAR ---------------------------------------------------------------------------------------------------\n",
    "star_lat = [\n",
    "    navaids[\"VALMA\"].latitude,\n",
    "    navaids[\"ASKUV\"].latitude,\n",
    "    navaids[\"RONIV\"].latitude,\n",
    "    navaids[\"ANAXA\"].latitude,\n",
    "    navaids[\"RF462\"].latitude,\n",
    "    navaids[\"RF463\"].latitude,\n",
    "    navaids[\"NEVUX\"].latitude,\n",
    "    navaids.extent(\"Italy\")['NIPSA'].latitude,\n",
    "    airports[\"LIRF\"].runways.data.query(f\"name == '34L'\").latitude.iloc[0],\n",
    "]\n",
    "star_lon = [\n",
    "    navaids[\"VALMA\"].longitude,\n",
    "    navaids[\"ASKUV\"].longitude,\n",
    "    navaids[\"RONIV\"].longitude,\n",
    "    navaids[\"ANAXA\"].longitude,\n",
    "    navaids[\"RF462\"].longitude,\n",
    "    navaids[\"RF463\"].longitude,\n",
    "    navaids[\"NEVUX\"].longitude,\n",
    "    navaids.extent(\"Italy\")['NIPSA'].longitude,\n",
    "    airports[\"LIRF\"].runways.data.query(f\"name == '34L'\").longitude.iloc[0],\n",
    "]\n",
    "\n",
    "fig.add_trace(\n",
    "    go.Scattermapbox(\n",
    "        mode=\"lines\",\n",
    "        lat=star_lat,\n",
    "        lon=star_lon,\n",
    "        name=\"VALMA2C  \",\n",
    "        line=dict(width=10, color=\"#1f77b4\"),\n",
    "        opacity=0.4,\n",
    "        showlegend=True,\n",
    "    )\n",
    ")\n",
    "\n",
    "fig.add_trace(\n",
    "    go.Scattermapbox(\n",
    "        mode=\"markers+text\",\n",
    "        lat=[navaids[\"VALMA\"].latitude],\n",
    "        lon=[navaids[\"VALMA\"].longitude],\n",
    "        marker=dict(size=10, color=\"#1f77b4\"),\n",
    "        text=[\"VALMA\"],\n",
    "        textposition=\"bottom left\",\n",
    "        textfont=dict(color=\"#1f77b4\", size=30),\n",
    "        name=\"VALMA\",\n",
    "        showlegend=False,\n",
    "    )\n",
    ")\n",
    "\n",
    "# Update layout for the map\n",
    "fig.update_layout(\n",
    "    width=1000,\n",
    "    height=750,\n",
    "    margin=dict(l=0, r=0, t=0, b=0),\n",
    "    mapbox=dict(\n",
    "        style=\"carto-positron\",\n",
    "        zoom=7.8,\n",
    "        center=dict(\n",
    "            lat=41.80343115135215,\n",
    "            lon=12.251942555970736,\n",
    "        ),\n",
    "    ),\n",
    "    legend=dict(\n",
    "        x=0.5,\n",
    "        y=-0.008,\n",
    "        xanchor=\"center\",\n",
    "        orientation=\"h\",\n",
    "        traceorder=\"normal\",\n",
    "        font=dict(size=30),\n",
    "        bgcolor=\"rgba(255, 255, 255, 0.7)\",\n",
    "    ),\n",
    ")\n",
    "\n",
    "# Show the figure\n",
    "fig.show()"
   ]
  }
 ],
 "metadata": {
  "kernelspec": {
   "display_name": ".venv",
   "language": "python",
   "name": "python3"
  },
  "language_info": {
   "codemirror_mode": {
    "name": "ipython",
    "version": 3
   },
   "file_extension": ".py",
   "mimetype": "text/x-python",
   "name": "python",
   "nbconvert_exporter": "python",
   "pygments_lexer": "ipython3",
   "version": "3.12.2"
  }
 },
 "nbformat": 4,
 "nbformat_minor": 2
}
